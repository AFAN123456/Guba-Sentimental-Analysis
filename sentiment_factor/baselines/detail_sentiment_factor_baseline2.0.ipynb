{
 "cells": [
  {
   "cell_type": "markdown",
   "source": [
    "# Create factor with two thresholds (0.4, 0.6) and vote methods "
   ],
   "metadata": {}
  },
  {
   "cell_type": "code",
   "execution_count": 2,
   "source": [
    "import numpy as np\n",
    "import pandas as pd\n",
    "from pandas import datetime\n",
    "import datetime\n",
    "from snownlp import SnowNLP\n",
    "from tqdm import tqdm\n",
    "import matplotlib.pyplot as plt\n",
    "import seaborn as sns\n",
    "import ast"
   ],
   "outputs": [
    {
     "output_type": "stream",
     "name": "stderr",
     "text": [
      "<ipython-input-2-76351f197f8f>:3: FutureWarning: The pandas.datetime class is deprecated and will be removed from pandas in a future version. Import from datetime module instead.\n",
      "  from pandas import datetime\n"
     ]
    }
   ],
   "metadata": {}
  },
  {
   "cell_type": "code",
   "execution_count": 161,
   "source": [
    "detail_score = pd.read_csv('/home/afan/emotion_analysis/data/processed_data/details_scores_with_sentiment.csv')"
   ],
   "outputs": [],
   "metadata": {}
  },
  {
   "cell_type": "code",
   "execution_count": 2,
   "source": [
    "sentiment_count = pd.read_csv('/home/afan/emotion_analysis/data/processed_data/sentiment_count.csv')"
   ],
   "outputs": [],
   "metadata": {}
  },
  {
   "cell_type": "code",
   "execution_count": 6,
   "source": [
    "np.argmax(sentiment_count.iloc[7:9].sum()[1:])"
   ],
   "outputs": [
    {
     "output_type": "execute_result",
     "data": {
      "text/plain": [
       "2"
      ]
     },
     "metadata": {},
     "execution_count": 6
    }
   ],
   "metadata": {}
  },
  {
   "cell_type": "code",
   "execution_count": 22,
   "source": [
    "sentiment_count.sum()[1:]"
   ],
   "outputs": [
    {
     "output_type": "execute_result",
     "data": {
      "text/plain": [
       "-1    261362\n",
       "0      56164\n",
       "1     325177\n",
       "dtype: object"
      ]
     },
     "metadata": {},
     "execution_count": 22
    }
   ],
   "metadata": {}
  },
  {
   "cell_type": "code",
   "execution_count": 162,
   "source": [
    "detail_score\n",
    "log10(r*c+10)"
   ],
   "outputs": [
    {
     "output_type": "execute_result",
     "data": {
      "text/plain": [
       "                   pub_time  \\\n",
       "0       2019-12-31 00:00:00   \n",
       "1       2019-12-31 00:00:00   \n",
       "2       2019-12-31 00:00:00   \n",
       "3       2019-12-31 00:00:00   \n",
       "4       2019-12-31 00:03:00   \n",
       "...                     ...   \n",
       "642698  2020-07-27 22:41:00   \n",
       "642699  2020-07-27 22:42:00   \n",
       "642700  2020-07-27 22:44:00   \n",
       "642701  2020-07-27 22:46:00   \n",
       "642702  2020-07-27 22:46:00   \n",
       "\n",
       "                                                  content    scores read_num  \\\n",
       "0       含德之厚者，比于赤子。一年时光一晃就过，记得2019年第一帖就奉献了华丽的一章，虽然不是新帖...  1.000000     7286   \n",
       "1                                               周四鸡蛋会跌停吗？  0.115674     1546   \n",
       "2       祝福慈文2020成为超级大牛股！东霞与骏马齐飞，慈文共华章一色。勇立潮头作品一流，一见惊鸿再...  0.999999     3526   \n",
       "3                                                2020静待花开  0.276648     1277   \n",
       "4                                 祝曙光的朋友们新年快乐，20年身体健康投资顺利  0.999973     3214   \n",
       "...                                                   ...       ...      ...   \n",
       "642698  说明价值投资才是上班族正确的投如果从我刚入股市时就一直持有美的，我的收益是6倍，说明价值投资...  0.999717     4891   \n",
       "642699                                    买一手多，涨一个点，能赚多少钱  0.448511      287   \n",
       "642700                                         哎，割肉了，不碰它了  0.051191      430   \n",
       "642701  七位副总裁突击成股东来源：界面新闻　　继创维集团(0751.HK)、比亚迪(002594.S...  1.000000     1691   \n",
       "642702  是主力吗？越是慢涨越不跌空单的弟兄们焦虑不？不出大阴棒你开毛的空，以为自己是主力吗？越是慢涨越不跌  0.007374      522   \n",
       "\n",
       "        comment_num        Date  sentiment  \n",
       "0                61  2019-12-31          1  \n",
       "1                 7  2019-12-31         -1  \n",
       "2                11  2019-12-31          1  \n",
       "3               146  2019-12-31         -1  \n",
       "4                28  2019-12-31          1  \n",
       "...             ...         ...        ...  \n",
       "642698           15  2020-07-27          1  \n",
       "642699            1  2020-07-27          0  \n",
       "642700            4  2020-07-27         -1  \n",
       "642701           14  2020-07-27          1  \n",
       "642702            2  2020-07-27         -1  \n",
       "\n",
       "[642703 rows x 7 columns]"
      ],
      "text/html": [
       "<div>\n",
       "<style scoped>\n",
       "    .dataframe tbody tr th:only-of-type {\n",
       "        vertical-align: middle;\n",
       "    }\n",
       "\n",
       "    .dataframe tbody tr th {\n",
       "        vertical-align: top;\n",
       "    }\n",
       "\n",
       "    .dataframe thead th {\n",
       "        text-align: right;\n",
       "    }\n",
       "</style>\n",
       "<table border=\"1\" class=\"dataframe\">\n",
       "  <thead>\n",
       "    <tr style=\"text-align: right;\">\n",
       "      <th></th>\n",
       "      <th>pub_time</th>\n",
       "      <th>content</th>\n",
       "      <th>scores</th>\n",
       "      <th>read_num</th>\n",
       "      <th>comment_num</th>\n",
       "      <th>Date</th>\n",
       "      <th>sentiment</th>\n",
       "    </tr>\n",
       "  </thead>\n",
       "  <tbody>\n",
       "    <tr>\n",
       "      <th>0</th>\n",
       "      <td>2019-12-31 00:00:00</td>\n",
       "      <td>含德之厚者，比于赤子。一年时光一晃就过，记得2019年第一帖就奉献了华丽的一章，虽然不是新帖...</td>\n",
       "      <td>1.000000</td>\n",
       "      <td>7286</td>\n",
       "      <td>61</td>\n",
       "      <td>2019-12-31</td>\n",
       "      <td>1</td>\n",
       "    </tr>\n",
       "    <tr>\n",
       "      <th>1</th>\n",
       "      <td>2019-12-31 00:00:00</td>\n",
       "      <td>周四鸡蛋会跌停吗？</td>\n",
       "      <td>0.115674</td>\n",
       "      <td>1546</td>\n",
       "      <td>7</td>\n",
       "      <td>2019-12-31</td>\n",
       "      <td>-1</td>\n",
       "    </tr>\n",
       "    <tr>\n",
       "      <th>2</th>\n",
       "      <td>2019-12-31 00:00:00</td>\n",
       "      <td>祝福慈文2020成为超级大牛股！东霞与骏马齐飞，慈文共华章一色。勇立潮头作品一流，一见惊鸿再...</td>\n",
       "      <td>0.999999</td>\n",
       "      <td>3526</td>\n",
       "      <td>11</td>\n",
       "      <td>2019-12-31</td>\n",
       "      <td>1</td>\n",
       "    </tr>\n",
       "    <tr>\n",
       "      <th>3</th>\n",
       "      <td>2019-12-31 00:00:00</td>\n",
       "      <td>2020静待花开</td>\n",
       "      <td>0.276648</td>\n",
       "      <td>1277</td>\n",
       "      <td>146</td>\n",
       "      <td>2019-12-31</td>\n",
       "      <td>-1</td>\n",
       "    </tr>\n",
       "    <tr>\n",
       "      <th>4</th>\n",
       "      <td>2019-12-31 00:03:00</td>\n",
       "      <td>祝曙光的朋友们新年快乐，20年身体健康投资顺利</td>\n",
       "      <td>0.999973</td>\n",
       "      <td>3214</td>\n",
       "      <td>28</td>\n",
       "      <td>2019-12-31</td>\n",
       "      <td>1</td>\n",
       "    </tr>\n",
       "    <tr>\n",
       "      <th>...</th>\n",
       "      <td>...</td>\n",
       "      <td>...</td>\n",
       "      <td>...</td>\n",
       "      <td>...</td>\n",
       "      <td>...</td>\n",
       "      <td>...</td>\n",
       "      <td>...</td>\n",
       "    </tr>\n",
       "    <tr>\n",
       "      <th>642698</th>\n",
       "      <td>2020-07-27 22:41:00</td>\n",
       "      <td>说明价值投资才是上班族正确的投如果从我刚入股市时就一直持有美的，我的收益是6倍，说明价值投资...</td>\n",
       "      <td>0.999717</td>\n",
       "      <td>4891</td>\n",
       "      <td>15</td>\n",
       "      <td>2020-07-27</td>\n",
       "      <td>1</td>\n",
       "    </tr>\n",
       "    <tr>\n",
       "      <th>642699</th>\n",
       "      <td>2020-07-27 22:42:00</td>\n",
       "      <td>买一手多，涨一个点，能赚多少钱</td>\n",
       "      <td>0.448511</td>\n",
       "      <td>287</td>\n",
       "      <td>1</td>\n",
       "      <td>2020-07-27</td>\n",
       "      <td>0</td>\n",
       "    </tr>\n",
       "    <tr>\n",
       "      <th>642700</th>\n",
       "      <td>2020-07-27 22:44:00</td>\n",
       "      <td>哎，割肉了，不碰它了</td>\n",
       "      <td>0.051191</td>\n",
       "      <td>430</td>\n",
       "      <td>4</td>\n",
       "      <td>2020-07-27</td>\n",
       "      <td>-1</td>\n",
       "    </tr>\n",
       "    <tr>\n",
       "      <th>642701</th>\n",
       "      <td>2020-07-27 22:46:00</td>\n",
       "      <td>七位副总裁突击成股东来源：界面新闻　　继创维集团(0751.HK)、比亚迪(002594.S...</td>\n",
       "      <td>1.000000</td>\n",
       "      <td>1691</td>\n",
       "      <td>14</td>\n",
       "      <td>2020-07-27</td>\n",
       "      <td>1</td>\n",
       "    </tr>\n",
       "    <tr>\n",
       "      <th>642702</th>\n",
       "      <td>2020-07-27 22:46:00</td>\n",
       "      <td>是主力吗？越是慢涨越不跌空单的弟兄们焦虑不？不出大阴棒你开毛的空，以为自己是主力吗？越是慢涨越不跌</td>\n",
       "      <td>0.007374</td>\n",
       "      <td>522</td>\n",
       "      <td>2</td>\n",
       "      <td>2020-07-27</td>\n",
       "      <td>-1</td>\n",
       "    </tr>\n",
       "  </tbody>\n",
       "</table>\n",
       "<p>642703 rows × 7 columns</p>\n",
       "</div>"
      ]
     },
     "metadata": {},
     "execution_count": 162
    }
   ],
   "metadata": {}
  },
  {
   "cell_type": "code",
   "execution_count": 163,
   "source": [
    "read_list = list(detail_score.read_num)"
   ],
   "outputs": [],
   "metadata": {}
  },
  {
   "cell_type": "code",
   "execution_count": 164,
   "source": [
    "for i in range(len(read_list)):\n",
    "    if read_list[i][-1] == '万':\n",
    "        w = float(read_list[i][:-1])*10000\n",
    "        read_list[i] = w\n",
    "    else:\n",
    "        read_list[i] = int(read_list[i])\n"
   ],
   "outputs": [],
   "metadata": {}
  },
  {
   "cell_type": "code",
   "execution_count": 166,
   "source": [
    "detail_score['read_num'] = read_list"
   ],
   "outputs": [],
   "metadata": {}
  },
  {
   "cell_type": "code",
   "execution_count": 167,
   "source": [
    "detail_score.to_csv('/home/afan/emotion_analysis/data/processed_data/details_scores_with_sentiment.csv',index=False)"
   ],
   "outputs": [],
   "metadata": {}
  },
  {
   "cell_type": "code",
   "execution_count": 168,
   "source": [
    "detail_score = pd.read_csv('/home/afan/emotion_analysis/data/processed_data/details_scores_with_sentiment.csv')"
   ],
   "outputs": [],
   "metadata": {}
  },
  {
   "cell_type": "code",
   "execution_count": 171,
   "source": [
    "detail_score['log_weight'] = np.log10(detail_score.read_num*detail_score.comment_num+10)"
   ],
   "outputs": [],
   "metadata": {}
  },
  {
   "cell_type": "code",
   "execution_count": 173,
   "source": [
    "detail_score.to_csv('/home/afan/emotion_analysis/data/processed_data/details_scores_with_log_weight.csv',index=False)"
   ],
   "outputs": [],
   "metadata": {}
  },
  {
   "cell_type": "code",
   "execution_count": 174,
   "source": [
    "detail_score = pd.read_csv('/home/afan/emotion_analysis/data/processed_data/details_scores_with_log_weight.csv')"
   ],
   "outputs": [],
   "metadata": {}
  },
  {
   "cell_type": "code",
   "execution_count": 178,
   "source": [
    "detail_score.log_weight.max()"
   ],
   "outputs": [
    {
     "output_type": "execute_result",
     "data": {
      "text/plain": [
       "9.088575482268087"
      ]
     },
     "metadata": {},
     "execution_count": 178
    }
   ],
   "metadata": {}
  },
  {
   "cell_type": "code",
   "execution_count": 181,
   "source": [
    "sentiment_count_weighted = detail_score.groupby(['Date','sentiment'])['log_weight'].sum()\n",
    "sentiment_count_weighted = sentiment_count_weighted.unstack()\n",
    "sentiment_count_weighted"
   ],
   "outputs": [
    {
     "output_type": "execute_result",
     "data": {
      "text/plain": [
       "sentiment            -1            0            1\n",
       "Date                                             \n",
       "2019-12-31   376.094824   103.160170   610.787896\n",
       "2020-01-01  2786.261832   510.582767  3473.232090\n",
       "2020-01-02  7216.026485  1694.630931  8285.596065\n",
       "2020-01-03  7506.820655  1724.005126  8119.695527\n",
       "2020-01-04  1905.940445   346.004087  3254.577170\n",
       "...                 ...          ...          ...\n",
       "2020-07-23  6792.390107  1310.970857  9013.434494\n",
       "2020-07-24  5423.455879  1065.911484  6827.963702\n",
       "2020-07-25  1880.838004   286.447540  2990.571215\n",
       "2020-07-26  1806.605763   302.968431  2598.760892\n",
       "2020-07-27  2784.193944   648.037998  3280.528221\n",
       "\n",
       "[210 rows x 3 columns]"
      ],
      "text/html": [
       "<div>\n",
       "<style scoped>\n",
       "    .dataframe tbody tr th:only-of-type {\n",
       "        vertical-align: middle;\n",
       "    }\n",
       "\n",
       "    .dataframe tbody tr th {\n",
       "        vertical-align: top;\n",
       "    }\n",
       "\n",
       "    .dataframe thead th {\n",
       "        text-align: right;\n",
       "    }\n",
       "</style>\n",
       "<table border=\"1\" class=\"dataframe\">\n",
       "  <thead>\n",
       "    <tr style=\"text-align: right;\">\n",
       "      <th>sentiment</th>\n",
       "      <th>-1</th>\n",
       "      <th>0</th>\n",
       "      <th>1</th>\n",
       "    </tr>\n",
       "    <tr>\n",
       "      <th>Date</th>\n",
       "      <th></th>\n",
       "      <th></th>\n",
       "      <th></th>\n",
       "    </tr>\n",
       "  </thead>\n",
       "  <tbody>\n",
       "    <tr>\n",
       "      <th>2019-12-31</th>\n",
       "      <td>376.094824</td>\n",
       "      <td>103.160170</td>\n",
       "      <td>610.787896</td>\n",
       "    </tr>\n",
       "    <tr>\n",
       "      <th>2020-01-01</th>\n",
       "      <td>2786.261832</td>\n",
       "      <td>510.582767</td>\n",
       "      <td>3473.232090</td>\n",
       "    </tr>\n",
       "    <tr>\n",
       "      <th>2020-01-02</th>\n",
       "      <td>7216.026485</td>\n",
       "      <td>1694.630931</td>\n",
       "      <td>8285.596065</td>\n",
       "    </tr>\n",
       "    <tr>\n",
       "      <th>2020-01-03</th>\n",
       "      <td>7506.820655</td>\n",
       "      <td>1724.005126</td>\n",
       "      <td>8119.695527</td>\n",
       "    </tr>\n",
       "    <tr>\n",
       "      <th>2020-01-04</th>\n",
       "      <td>1905.940445</td>\n",
       "      <td>346.004087</td>\n",
       "      <td>3254.577170</td>\n",
       "    </tr>\n",
       "    <tr>\n",
       "      <th>...</th>\n",
       "      <td>...</td>\n",
       "      <td>...</td>\n",
       "      <td>...</td>\n",
       "    </tr>\n",
       "    <tr>\n",
       "      <th>2020-07-23</th>\n",
       "      <td>6792.390107</td>\n",
       "      <td>1310.970857</td>\n",
       "      <td>9013.434494</td>\n",
       "    </tr>\n",
       "    <tr>\n",
       "      <th>2020-07-24</th>\n",
       "      <td>5423.455879</td>\n",
       "      <td>1065.911484</td>\n",
       "      <td>6827.963702</td>\n",
       "    </tr>\n",
       "    <tr>\n",
       "      <th>2020-07-25</th>\n",
       "      <td>1880.838004</td>\n",
       "      <td>286.447540</td>\n",
       "      <td>2990.571215</td>\n",
       "    </tr>\n",
       "    <tr>\n",
       "      <th>2020-07-26</th>\n",
       "      <td>1806.605763</td>\n",
       "      <td>302.968431</td>\n",
       "      <td>2598.760892</td>\n",
       "    </tr>\n",
       "    <tr>\n",
       "      <th>2020-07-27</th>\n",
       "      <td>2784.193944</td>\n",
       "      <td>648.037998</td>\n",
       "      <td>3280.528221</td>\n",
       "    </tr>\n",
       "  </tbody>\n",
       "</table>\n",
       "<p>210 rows × 3 columns</p>\n",
       "</div>"
      ]
     },
     "metadata": {},
     "execution_count": 181
    }
   ],
   "metadata": {}
  },
  {
   "cell_type": "code",
   "execution_count": 182,
   "source": [
    "sentiment_count_weighted.to_csv('/home/afan/emotion_analysis/data/processed_data/sentiment_count_weighted.csv',index=True)"
   ],
   "outputs": [],
   "metadata": {}
  },
  {
   "cell_type": "code",
   "execution_count": 183,
   "source": [
    "\n",
    "sentiment_count_weighted = pd.read_csv('/home/afan/emotion_analysis/data/processed_data/sentiment_count_weighted.csv')"
   ],
   "outputs": [],
   "metadata": {}
  },
  {
   "cell_type": "code",
   "execution_count": 184,
   "source": [
    "sentiment_count_weighted"
   ],
   "outputs": [
    {
     "output_type": "execute_result",
     "data": {
      "text/plain": [
       "           Date           -1            0            1\n",
       "0    2019-12-31   376.094824   103.160170   610.787896\n",
       "1    2020-01-01  2786.261832   510.582767  3473.232090\n",
       "2    2020-01-02  7216.026485  1694.630931  8285.596065\n",
       "3    2020-01-03  7506.820655  1724.005126  8119.695527\n",
       "4    2020-01-04  1905.940445   346.004087  3254.577170\n",
       "..          ...          ...          ...          ...\n",
       "205  2020-07-23  6792.390107  1310.970857  9013.434494\n",
       "206  2020-07-24  5423.455879  1065.911484  6827.963702\n",
       "207  2020-07-25  1880.838004   286.447540  2990.571215\n",
       "208  2020-07-26  1806.605763   302.968431  2598.760892\n",
       "209  2020-07-27  2784.193944   648.037998  3280.528221\n",
       "\n",
       "[210 rows x 4 columns]"
      ],
      "text/html": [
       "<div>\n",
       "<style scoped>\n",
       "    .dataframe tbody tr th:only-of-type {\n",
       "        vertical-align: middle;\n",
       "    }\n",
       "\n",
       "    .dataframe tbody tr th {\n",
       "        vertical-align: top;\n",
       "    }\n",
       "\n",
       "    .dataframe thead th {\n",
       "        text-align: right;\n",
       "    }\n",
       "</style>\n",
       "<table border=\"1\" class=\"dataframe\">\n",
       "  <thead>\n",
       "    <tr style=\"text-align: right;\">\n",
       "      <th></th>\n",
       "      <th>Date</th>\n",
       "      <th>-1</th>\n",
       "      <th>0</th>\n",
       "      <th>1</th>\n",
       "    </tr>\n",
       "  </thead>\n",
       "  <tbody>\n",
       "    <tr>\n",
       "      <th>0</th>\n",
       "      <td>2019-12-31</td>\n",
       "      <td>376.094824</td>\n",
       "      <td>103.160170</td>\n",
       "      <td>610.787896</td>\n",
       "    </tr>\n",
       "    <tr>\n",
       "      <th>1</th>\n",
       "      <td>2020-01-01</td>\n",
       "      <td>2786.261832</td>\n",
       "      <td>510.582767</td>\n",
       "      <td>3473.232090</td>\n",
       "    </tr>\n",
       "    <tr>\n",
       "      <th>2</th>\n",
       "      <td>2020-01-02</td>\n",
       "      <td>7216.026485</td>\n",
       "      <td>1694.630931</td>\n",
       "      <td>8285.596065</td>\n",
       "    </tr>\n",
       "    <tr>\n",
       "      <th>3</th>\n",
       "      <td>2020-01-03</td>\n",
       "      <td>7506.820655</td>\n",
       "      <td>1724.005126</td>\n",
       "      <td>8119.695527</td>\n",
       "    </tr>\n",
       "    <tr>\n",
       "      <th>4</th>\n",
       "      <td>2020-01-04</td>\n",
       "      <td>1905.940445</td>\n",
       "      <td>346.004087</td>\n",
       "      <td>3254.577170</td>\n",
       "    </tr>\n",
       "    <tr>\n",
       "      <th>...</th>\n",
       "      <td>...</td>\n",
       "      <td>...</td>\n",
       "      <td>...</td>\n",
       "      <td>...</td>\n",
       "    </tr>\n",
       "    <tr>\n",
       "      <th>205</th>\n",
       "      <td>2020-07-23</td>\n",
       "      <td>6792.390107</td>\n",
       "      <td>1310.970857</td>\n",
       "      <td>9013.434494</td>\n",
       "    </tr>\n",
       "    <tr>\n",
       "      <th>206</th>\n",
       "      <td>2020-07-24</td>\n",
       "      <td>5423.455879</td>\n",
       "      <td>1065.911484</td>\n",
       "      <td>6827.963702</td>\n",
       "    </tr>\n",
       "    <tr>\n",
       "      <th>207</th>\n",
       "      <td>2020-07-25</td>\n",
       "      <td>1880.838004</td>\n",
       "      <td>286.447540</td>\n",
       "      <td>2990.571215</td>\n",
       "    </tr>\n",
       "    <tr>\n",
       "      <th>208</th>\n",
       "      <td>2020-07-26</td>\n",
       "      <td>1806.605763</td>\n",
       "      <td>302.968431</td>\n",
       "      <td>2598.760892</td>\n",
       "    </tr>\n",
       "    <tr>\n",
       "      <th>209</th>\n",
       "      <td>2020-07-27</td>\n",
       "      <td>2784.193944</td>\n",
       "      <td>648.037998</td>\n",
       "      <td>3280.528221</td>\n",
       "    </tr>\n",
       "  </tbody>\n",
       "</table>\n",
       "<p>210 rows × 4 columns</p>\n",
       "</div>"
      ]
     },
     "metadata": {},
     "execution_count": 184
    }
   ],
   "metadata": {}
  },
  {
   "cell_type": "code",
   "execution_count": 185,
   "source": [
    "sentiment_count_weighted['Date'] = pd.to_datetime(sentiment_count_weighted.Date)"
   ],
   "outputs": [],
   "metadata": {}
  },
  {
   "cell_type": "code",
   "execution_count": 186,
   "source": [
    "rate = sentiment_count_weighted['1']/sentiment_count_weighted['-1']\n",
    "rate.mean()\n",
    "# Positive posts tends to have more comment_num and read_num."
   ],
   "outputs": [
    {
     "output_type": "execute_result",
     "data": {
      "text/plain": [
       "1.367249399854551"
      ]
     },
     "metadata": {},
     "execution_count": 186
    }
   ],
   "metadata": {}
  },
  {
   "cell_type": "code",
   "execution_count": 195,
   "source": [
    "print(np.log(rate).mean())\n",
    "print(np.log(rate).median())"
   ],
   "outputs": [
    {
     "output_type": "stream",
     "name": "stdout",
     "text": [
      "0.30437319803841373\n",
      "0.27914427063496006\n"
     ]
    }
   ],
   "metadata": {}
  },
  {
   "cell_type": "code",
   "execution_count": 188,
   "source": [
    "rate.median()"
   ],
   "outputs": [
    {
     "output_type": "execute_result",
     "data": {
      "text/plain": [
       "1.3219981152638445"
      ]
     },
     "metadata": {},
     "execution_count": 188
    }
   ],
   "metadata": {}
  },
  {
   "cell_type": "code",
   "execution_count": 190,
   "source": [
    "rate_fig = rate.hist().get_figure()"
   ],
   "outputs": [
    {
     "output_type": "display_data",
     "data": {
      "text/plain": [
       "<Figure size 432x288 with 1 Axes>"
      ],
      "image/png": "[encoded data removed]"
     },
     "metadata": {
      "needs_background": "light"
     }
    }
   ],
   "metadata": {}
  },
  {
   "cell_type": "code",
   "execution_count": 192,
   "source": [
    "rate_fig = np.log(rate).hist().get_figure()  "
   ],
   "outputs": [
    {
     "output_type": "display_data",
     "data": {
      "text/plain": [
       "<Figure size 432x288 with 1 Axes>"
      ],
      "image/png": "[encoded data removed]"
     },
     "metadata": {
      "needs_background": "light"
     }
    }
   ],
   "metadata": {}
  },
  {
   "cell_type": "code",
   "execution_count": 196,
   "source": [
    "sz = pd.read_csv('/home/afan/emotion_analysis/data/processed_data/szzh2020.csv')\n",
    "sz"
   ],
   "outputs": [
    {
     "output_type": "execute_result",
     "data": {
      "text/plain": [
       "           date        收盘\n",
       "0    2020-12-31  3,473.07\n",
       "1    2020-12-30  3,414.45\n",
       "2    2020-12-29  3,379.04\n",
       "3    2020-12-28  3,397.29\n",
       "4    2020-12-25  3,396.56\n",
       "..          ...       ...\n",
       "238    2020-1-8  3,066.89\n",
       "239    2020-1-7  3,104.80\n",
       "240    2020-1-6  3,083.41\n",
       "241    2020-1-3  3,083.79\n",
       "242    2020-1-2  3,085.20\n",
       "\n",
       "[243 rows x 2 columns]"
      ],
      "text/html": [
       "<div>\n",
       "<style scoped>\n",
       "    .dataframe tbody tr th:only-of-type {\n",
       "        vertical-align: middle;\n",
       "    }\n",
       "\n",
       "    .dataframe tbody tr th {\n",
       "        vertical-align: top;\n",
       "    }\n",
       "\n",
       "    .dataframe thead th {\n",
       "        text-align: right;\n",
       "    }\n",
       "</style>\n",
       "<table border=\"1\" class=\"dataframe\">\n",
       "  <thead>\n",
       "    <tr style=\"text-align: right;\">\n",
       "      <th></th>\n",
       "      <th>date</th>\n",
       "      <th>收盘</th>\n",
       "    </tr>\n",
       "  </thead>\n",
       "  <tbody>\n",
       "    <tr>\n",
       "      <th>0</th>\n",
       "      <td>2020-12-31</td>\n",
       "      <td>3,473.07</td>\n",
       "    </tr>\n",
       "    <tr>\n",
       "      <th>1</th>\n",
       "      <td>2020-12-30</td>\n",
       "      <td>3,414.45</td>\n",
       "    </tr>\n",
       "    <tr>\n",
       "      <th>2</th>\n",
       "      <td>2020-12-29</td>\n",
       "      <td>3,379.04</td>\n",
       "    </tr>\n",
       "    <tr>\n",
       "      <th>3</th>\n",
       "      <td>2020-12-28</td>\n",
       "      <td>3,397.29</td>\n",
       "    </tr>\n",
       "    <tr>\n",
       "      <th>4</th>\n",
       "      <td>2020-12-25</td>\n",
       "      <td>3,396.56</td>\n",
       "    </tr>\n",
       "    <tr>\n",
       "      <th>...</th>\n",
       "      <td>...</td>\n",
       "      <td>...</td>\n",
       "    </tr>\n",
       "    <tr>\n",
       "      <th>238</th>\n",
       "      <td>2020-1-8</td>\n",
       "      <td>3,066.89</td>\n",
       "    </tr>\n",
       "    <tr>\n",
       "      <th>239</th>\n",
       "      <td>2020-1-7</td>\n",
       "      <td>3,104.80</td>\n",
       "    </tr>\n",
       "    <tr>\n",
       "      <th>240</th>\n",
       "      <td>2020-1-6</td>\n",
       "      <td>3,083.41</td>\n",
       "    </tr>\n",
       "    <tr>\n",
       "      <th>241</th>\n",
       "      <td>2020-1-3</td>\n",
       "      <td>3,083.79</td>\n",
       "    </tr>\n",
       "    <tr>\n",
       "      <th>242</th>\n",
       "      <td>2020-1-2</td>\n",
       "      <td>3,085.20</td>\n",
       "    </tr>\n",
       "  </tbody>\n",
       "</table>\n",
       "<p>243 rows × 2 columns</p>\n",
       "</div>"
      ]
     },
     "metadata": {},
     "execution_count": 196
    }
   ],
   "metadata": {}
  },
  {
   "cell_type": "code",
   "execution_count": 198,
   "source": [
    "# the total number of days of trading day is 134.\n",
    "# From 2020-1-6 to 2020-7-27\n",
    "day_list = sorted(pd.to_datetime(sz.date))[2:136]   \n",
    "len(day_list)"
   ],
   "outputs": [
    {
     "output_type": "execute_result",
     "data": {
      "text/plain": [
       "134"
      ]
     },
     "metadata": {},
     "execution_count": 198
    }
   ],
   "metadata": {}
  },
  {
   "cell_type": "code",
   "execution_count": null,
   "source": [],
   "outputs": [],
   "metadata": {}
  },
  {
   "cell_type": "code",
   "execution_count": null,
   "source": [],
   "outputs": [],
   "metadata": {}
  }
 ],
 "metadata": {
  "interpreter": {
   "hash": "3b3acc92ca811c90ab3dd5c3a56e9875efdbe1e25f625c45ea5bc479674ec5a6"
  },
  "kernelspec": {
   "name": "python3",
   "display_name": "Python 3.8.8 64-bit ('base': conda)"
  },
  "language_info": {
   "name": "python",
   "version": "3.8.8"
  },
  "orig_nbformat": 4
 },
 "nbformat": 4,
 "nbformat_minor": 2
}