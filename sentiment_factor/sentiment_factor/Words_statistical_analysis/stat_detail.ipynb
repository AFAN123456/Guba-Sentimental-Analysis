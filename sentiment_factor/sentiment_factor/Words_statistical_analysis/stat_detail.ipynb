{
 "cells": [
  {
   "cell_type": "code",
   "execution_count": 2,
   "source": [
    "import pandas as pd\n",
    "import numpy as np\n",
    "import matplotlib.pyplot as plt\n",
    "import seaborn as sns\n",
    "import matplotlib.pyplot as mp\n",
    "import re\n",
    "from snownlp import SnowNLP\n",
    "from tqdm import tqdm\n",
    "import pickle\n",
    "import ast\n",
    "import datetime\n",
    "import os\n",
    "from minepy import MINE"
   ],
   "outputs": [],
   "metadata": {}
  },
  {
   "cell_type": "code",
   "execution_count": 3,
   "source": [
    "stopwords = pd.read_csv('/home/afan/emotion_analysis/data/stopwords.txt', index_col=False, quoting=3, sep=\"\\t\", names=['stopword'], encoding='utf-8')"
   ],
   "outputs": [],
   "metadata": {}
  },
  {
   "cell_type": "code",
   "execution_count": 1,
   "source": [
    "detail = pd.read_excel('/home/afan/emotion_analysis/data/detail.xlsx')"
   ],
   "outputs": [
    {
     "output_type": "error",
     "ename": "NameError",
     "evalue": "name 'pd' is not defined",
     "traceback": [
      "\u001b[0;31m---------------------------------------------------------------------------\u001b[0m",
      "\u001b[0;31mNameError\u001b[0m                                 Traceback (most recent call last)",
      "\u001b[0;32m<ipython-input-1-7b54db9963cf>\u001b[0m in \u001b[0;36m<module>\u001b[0;34m\u001b[0m\n\u001b[0;32m----> 1\u001b[0;31m \u001b[0mdetail\u001b[0m \u001b[0;34m=\u001b[0m \u001b[0mpd\u001b[0m\u001b[0;34m.\u001b[0m\u001b[0mread_excel\u001b[0m\u001b[0;34m(\u001b[0m\u001b[0;34m'/home/afan/emotion_analysis/data/detail.xlsx'\u001b[0m\u001b[0;34m)\u001b[0m\u001b[0;34m\u001b[0m\u001b[0;34m\u001b[0m\u001b[0m\n\u001b[0m",
      "\u001b[0;31mNameError\u001b[0m: name 'pd' is not defined"
     ]
    }
   ],
   "metadata": {}
  },
  {
   "cell_type": "code",
   "execution_count": null,
   "source": [
    "detail.isnull().sum()"
   ],
   "outputs": [
    {
     "output_type": "execute_result",
     "data": {
      "text/plain": [
       "_id                    0\n",
       "read_num               0\n",
       "comment_num            0\n",
       "title                 15\n",
       "detail_url        587683\n",
       "author                 5\n",
       "author_url        554745\n",
       "pub_time               0\n",
       "list_url          653203\n",
       "id                     0\n",
       "name                   0\n",
       "code                   0\n",
       "type                   0\n",
       "page                   0\n",
       "pub_time_str           0\n",
       "pub_time_int           0\n",
       "content            10500\n",
       "content_images         0\n",
       "dtype: int64"
      ]
     },
     "metadata": {},
     "execution_count": 3
    }
   ],
   "metadata": {}
  },
  {
   "cell_type": "code",
   "execution_count": null,
   "source": [
    "detail"
   ],
   "outputs": [
    {
     "output_type": "execute_result",
     "data": {
      "text/plain": [
       "                             _id read_num  comment_num  \\\n",
       "0       5f3409810deff7cb2f5fb769     7286           61   \n",
       "1       5f34617b689a8fdae489c176     1546            7   \n",
       "2       5f3425d3689a8fdae483a584     3526           11   \n",
       "3       5f345978689a8fdae48900ca     1277          146   \n",
       "4       5f345a8c689a8fdae4892463     3214           28   \n",
       "...                          ...      ...          ...   \n",
       "653198  5f345f53689a8fdae4899d45     3100           10   \n",
       "653199  5f3460f6689a8fdae489afae     1062            4   \n",
       "653200  5f346122689a8fdae489b548     2018           16   \n",
       "653201  5f346138689a8fdae489b864     4461           17   \n",
       "653202  5f3461ab689a8fdae489c7c3     1802           14   \n",
       "\n",
       "                             title  \\\n",
       "0                         2020年第一帖   \n",
       "1                        周四鸡蛋会跌停吗？   \n",
       "2                 祝福慈文2020成为超级大牛股！   \n",
       "3                         2020静待花开   \n",
       "4          祝曙光的朋友们新年快乐，20年身体健康投资顺利   \n",
       "...                            ...   \n",
       "653198                    拼多多！多杀多！   \n",
       "653199  真正的大支撑540，明显没到位，等着看申银呻吟，申银   \n",
       "653200               最新重要资讯，持有者必看！   \n",
       "653201        哈哈！股市诡诈矣！解析今晚出的这个可能赔   \n",
       "653202   迈瑞在美国市场属于垃圾，回国变身套现，两个创始人大   \n",
       "\n",
       "                                               detail_url       author  \\\n",
       "0       https://guba.eastmoney.com/news,gzqh,895422029...        期指一波流   \n",
       "1                                                     NaN        DQ皮卡丘   \n",
       "2                                                     NaN          向太阳   \n",
       "3                                                     NaN         悠然麓山   \n",
       "4                                                     NaN        多头369   \n",
       "...                                                   ...          ...   \n",
       "653198                                                NaN         畅游期货   \n",
       "653199                                                NaN        操盘手k哥   \n",
       "653200                                                NaN  Hansen36999   \n",
       "653201                                                NaN      股海无涯先识坑   \n",
       "653202                                                NaN        大漠孤烟X   \n",
       "\n",
       "       author_url     pub_time  list_url                                id  \\\n",
       "0             NaN  01-01 00:00       NaN  4f8d4e395621ccb6d5dc98c9e2f474a3   \n",
       "1             NaN  01-01 00:00       NaN  e3cfbc7dfa6a191599e9bbe50681a0a0   \n",
       "2             NaN  01-01 00:00       NaN  b4515ea4e862c95afe46eaaf2d720d96   \n",
       "3             NaN  01-01 00:00       NaN  ac1b11e3b14c9a56be92522ff150ef7c   \n",
       "4             NaN  01-01 00:03       NaN  e72c70a8f5faccd4336e0fb9a76e5765   \n",
       "...           ...          ...       ...                               ...   \n",
       "653198        NaN  02-24 15:19       NaN  09b78d80b483ba3551d6cc44c97a08c5   \n",
       "653199        NaN  02-06 11:33       NaN  c59dc301ac7318362c24b785b2ca538a   \n",
       "653200        NaN  02-27 17:14       NaN  7d88476c2bcf513af945b5cf8ba09237   \n",
       "653201        NaN  04-30 23:41       NaN  540d020455f16bf1043676e7046b5ade   \n",
       "653202        NaN  01-06 15:25       NaN  aed09fdb6126b7c3b5e3ec80c7859f1d   \n",
       "\n",
       "         name    code  type  page pub_time_str  pub_time_int  \\\n",
       "0       股指期货吧    gzqh     2   194   2020-01-01    1577808000   \n",
       "1         鸡蛋吧      jd     2   375   2020-01-01    1577808000   \n",
       "2        慈文传媒  002343     1   114   2020-01-01    1577808000   \n",
       "3        红塔证券  601236     1   395   2020-01-01    1577808000   \n",
       "4        中科曙光  603019     1   348   2020-01-01    1577808000   \n",
       "...       ...     ...   ...   ...          ...           ...   \n",
       "653198   铁矿石吧       i     2   191   2020-02-24    1582473600   \n",
       "653199   铁矿石吧       i     2   222   2020-02-06    1580918400   \n",
       "653200   德尔股份  300473     1    39   2020-02-27    1582732800   \n",
       "653201   长电科技  600584     1   467   2020-04-30    1588176000   \n",
       "653202   迈瑞医疗  300760     1   130   2020-01-06    1578240000   \n",
       "\n",
       "                                                  content  \\\n",
       "0       含德之厚者，比于赤子。一年时光一晃就过，记得2019年第一帖就奉献了华丽的一章，虽然不是新帖...   \n",
       "1                                               周四鸡蛋会跌停吗？   \n",
       "2       祝福慈文2020成为超级大牛股！东霞与骏马齐飞，慈文共华章一色。勇立潮头作品一流，一见惊鸿再...   \n",
       "3                                                2020静待花开   \n",
       "4                                 祝曙光的朋友们新年快乐，20年身体健康投资顺利   \n",
       "...                                                   ...   \n",
       "653198                                                NaN   \n",
       "653199                                                NaN   \n",
       "653200                                                NaN   \n",
       "653201                                                NaN   \n",
       "653202                                                NaN   \n",
       "\n",
       "                                           content_images  \n",
       "0                                                      []  \n",
       "1       ['https://gbres.dfcfw.com/Files/picture/202001...  \n",
       "2       ['https://gbres.dfcfw.com/Files/picture/201912...  \n",
       "3       ['https://gbres.dfcfw.com/Files/picture/202001...  \n",
       "4                                                      []  \n",
       "...                                                   ...  \n",
       "653198                                                 []  \n",
       "653199                                                 []  \n",
       "653200                                                 []  \n",
       "653201                                                 []  \n",
       "653202                                                 []  \n",
       "\n",
       "[653203 rows x 18 columns]"
      ],
      "text/html": [
       "<div>\n",
       "<style scoped>\n",
       "    .dataframe tbody tr th:only-of-type {\n",
       "        vertical-align: middle;\n",
       "    }\n",
       "\n",
       "    .dataframe tbody tr th {\n",
       "        vertical-align: top;\n",
       "    }\n",
       "\n",
       "    .dataframe thead th {\n",
       "        text-align: right;\n",
       "    }\n",
       "</style>\n",
       "<table border=\"1\" class=\"dataframe\">\n",
       "  <thead>\n",
       "    <tr style=\"text-align: right;\">\n",
       "      <th></th>\n",
       "      <th>_id</th>\n",
       "      <th>read_num</th>\n",
       "      <th>comment_num</th>\n",
       "      <th>title</th>\n",
       "      <th>detail_url</th>\n",
       "      <th>author</th>\n",
       "      <th>author_url</th>\n",
       "      <th>pub_time</th>\n",
       "      <th>list_url</th>\n",
       "      <th>id</th>\n",
       "      <th>name</th>\n",
       "      <th>code</th>\n",
       "      <th>type</th>\n",
       "      <th>page</th>\n",
       "      <th>pub_time_str</th>\n",
       "      <th>pub_time_int</th>\n",
       "      <th>content</th>\n",
       "      <th>content_images</th>\n",
       "    </tr>\n",
       "  </thead>\n",
       "  <tbody>\n",
       "    <tr>\n",
       "      <th>0</th>\n",
       "      <td>5f3409810deff7cb2f5fb769</td>\n",
       "      <td>7286</td>\n",
       "      <td>61</td>\n",
       "      <td>2020年第一帖</td>\n",
       "      <td>https://guba.eastmoney.com/news,gzqh,895422029...</td>\n",
       "      <td>期指一波流</td>\n",
       "      <td>NaN</td>\n",
       "      <td>01-01 00:00</td>\n",
       "      <td>NaN</td>\n",
       "      <td>4f8d4e395621ccb6d5dc98c9e2f474a3</td>\n",
       "      <td>股指期货吧</td>\n",
       "      <td>gzqh</td>\n",
       "      <td>2</td>\n",
       "      <td>194</td>\n",
       "      <td>2020-01-01</td>\n",
       "      <td>1577808000</td>\n",
       "      <td>含德之厚者，比于赤子。一年时光一晃就过，记得2019年第一帖就奉献了华丽的一章，虽然不是新帖...</td>\n",
       "      <td>[]</td>\n",
       "    </tr>\n",
       "    <tr>\n",
       "      <th>1</th>\n",
       "      <td>5f34617b689a8fdae489c176</td>\n",
       "      <td>1546</td>\n",
       "      <td>7</td>\n",
       "      <td>周四鸡蛋会跌停吗？</td>\n",
       "      <td>NaN</td>\n",
       "      <td>DQ皮卡丘</td>\n",
       "      <td>NaN</td>\n",
       "      <td>01-01 00:00</td>\n",
       "      <td>NaN</td>\n",
       "      <td>e3cfbc7dfa6a191599e9bbe50681a0a0</td>\n",
       "      <td>鸡蛋吧</td>\n",
       "      <td>jd</td>\n",
       "      <td>2</td>\n",
       "      <td>375</td>\n",
       "      <td>2020-01-01</td>\n",
       "      <td>1577808000</td>\n",
       "      <td>周四鸡蛋会跌停吗？</td>\n",
       "      <td>['https://gbres.dfcfw.com/Files/picture/202001...</td>\n",
       "    </tr>\n",
       "    <tr>\n",
       "      <th>2</th>\n",
       "      <td>5f3425d3689a8fdae483a584</td>\n",
       "      <td>3526</td>\n",
       "      <td>11</td>\n",
       "      <td>祝福慈文2020成为超级大牛股！</td>\n",
       "      <td>NaN</td>\n",
       "      <td>向太阳</td>\n",
       "      <td>NaN</td>\n",
       "      <td>01-01 00:00</td>\n",
       "      <td>NaN</td>\n",
       "      <td>b4515ea4e862c95afe46eaaf2d720d96</td>\n",
       "      <td>慈文传媒</td>\n",
       "      <td>002343</td>\n",
       "      <td>1</td>\n",
       "      <td>114</td>\n",
       "      <td>2020-01-01</td>\n",
       "      <td>1577808000</td>\n",
       "      <td>祝福慈文2020成为超级大牛股！东霞与骏马齐飞，慈文共华章一色。勇立潮头作品一流，一见惊鸿再...</td>\n",
       "      <td>['https://gbres.dfcfw.com/Files/picture/201912...</td>\n",
       "    </tr>\n",
       "    <tr>\n",
       "      <th>3</th>\n",
       "      <td>5f345978689a8fdae48900ca</td>\n",
       "      <td>1277</td>\n",
       "      <td>146</td>\n",
       "      <td>2020静待花开</td>\n",
       "      <td>NaN</td>\n",
       "      <td>悠然麓山</td>\n",
       "      <td>NaN</td>\n",
       "      <td>01-01 00:00</td>\n",
       "      <td>NaN</td>\n",
       "      <td>ac1b11e3b14c9a56be92522ff150ef7c</td>\n",
       "      <td>红塔证券</td>\n",
       "      <td>601236</td>\n",
       "      <td>1</td>\n",
       "      <td>395</td>\n",
       "      <td>2020-01-01</td>\n",
       "      <td>1577808000</td>\n",
       "      <td>2020静待花开</td>\n",
       "      <td>['https://gbres.dfcfw.com/Files/picture/202001...</td>\n",
       "    </tr>\n",
       "    <tr>\n",
       "      <th>4</th>\n",
       "      <td>5f345a8c689a8fdae4892463</td>\n",
       "      <td>3214</td>\n",
       "      <td>28</td>\n",
       "      <td>祝曙光的朋友们新年快乐，20年身体健康投资顺利</td>\n",
       "      <td>NaN</td>\n",
       "      <td>多头369</td>\n",
       "      <td>NaN</td>\n",
       "      <td>01-01 00:03</td>\n",
       "      <td>NaN</td>\n",
       "      <td>e72c70a8f5faccd4336e0fb9a76e5765</td>\n",
       "      <td>中科曙光</td>\n",
       "      <td>603019</td>\n",
       "      <td>1</td>\n",
       "      <td>348</td>\n",
       "      <td>2020-01-01</td>\n",
       "      <td>1577808000</td>\n",
       "      <td>祝曙光的朋友们新年快乐，20年身体健康投资顺利</td>\n",
       "      <td>[]</td>\n",
       "    </tr>\n",
       "    <tr>\n",
       "      <th>...</th>\n",
       "      <td>...</td>\n",
       "      <td>...</td>\n",
       "      <td>...</td>\n",
       "      <td>...</td>\n",
       "      <td>...</td>\n",
       "      <td>...</td>\n",
       "      <td>...</td>\n",
       "      <td>...</td>\n",
       "      <td>...</td>\n",
       "      <td>...</td>\n",
       "      <td>...</td>\n",
       "      <td>...</td>\n",
       "      <td>...</td>\n",
       "      <td>...</td>\n",
       "      <td>...</td>\n",
       "      <td>...</td>\n",
       "      <td>...</td>\n",
       "      <td>...</td>\n",
       "    </tr>\n",
       "    <tr>\n",
       "      <th>653198</th>\n",
       "      <td>5f345f53689a8fdae4899d45</td>\n",
       "      <td>3100</td>\n",
       "      <td>10</td>\n",
       "      <td>拼多多！多杀多！</td>\n",
       "      <td>NaN</td>\n",
       "      <td>畅游期货</td>\n",
       "      <td>NaN</td>\n",
       "      <td>02-24 15:19</td>\n",
       "      <td>NaN</td>\n",
       "      <td>09b78d80b483ba3551d6cc44c97a08c5</td>\n",
       "      <td>铁矿石吧</td>\n",
       "      <td>i</td>\n",
       "      <td>2</td>\n",
       "      <td>191</td>\n",
       "      <td>2020-02-24</td>\n",
       "      <td>1582473600</td>\n",
       "      <td>NaN</td>\n",
       "      <td>[]</td>\n",
       "    </tr>\n",
       "    <tr>\n",
       "      <th>653199</th>\n",
       "      <td>5f3460f6689a8fdae489afae</td>\n",
       "      <td>1062</td>\n",
       "      <td>4</td>\n",
       "      <td>真正的大支撑540，明显没到位，等着看申银呻吟，申银</td>\n",
       "      <td>NaN</td>\n",
       "      <td>操盘手k哥</td>\n",
       "      <td>NaN</td>\n",
       "      <td>02-06 11:33</td>\n",
       "      <td>NaN</td>\n",
       "      <td>c59dc301ac7318362c24b785b2ca538a</td>\n",
       "      <td>铁矿石吧</td>\n",
       "      <td>i</td>\n",
       "      <td>2</td>\n",
       "      <td>222</td>\n",
       "      <td>2020-02-06</td>\n",
       "      <td>1580918400</td>\n",
       "      <td>NaN</td>\n",
       "      <td>[]</td>\n",
       "    </tr>\n",
       "    <tr>\n",
       "      <th>653200</th>\n",
       "      <td>5f346122689a8fdae489b548</td>\n",
       "      <td>2018</td>\n",
       "      <td>16</td>\n",
       "      <td>最新重要资讯，持有者必看！</td>\n",
       "      <td>NaN</td>\n",
       "      <td>Hansen36999</td>\n",
       "      <td>NaN</td>\n",
       "      <td>02-27 17:14</td>\n",
       "      <td>NaN</td>\n",
       "      <td>7d88476c2bcf513af945b5cf8ba09237</td>\n",
       "      <td>德尔股份</td>\n",
       "      <td>300473</td>\n",
       "      <td>1</td>\n",
       "      <td>39</td>\n",
       "      <td>2020-02-27</td>\n",
       "      <td>1582732800</td>\n",
       "      <td>NaN</td>\n",
       "      <td>[]</td>\n",
       "    </tr>\n",
       "    <tr>\n",
       "      <th>653201</th>\n",
       "      <td>5f346138689a8fdae489b864</td>\n",
       "      <td>4461</td>\n",
       "      <td>17</td>\n",
       "      <td>哈哈！股市诡诈矣！解析今晚出的这个可能赔</td>\n",
       "      <td>NaN</td>\n",
       "      <td>股海无涯先识坑</td>\n",
       "      <td>NaN</td>\n",
       "      <td>04-30 23:41</td>\n",
       "      <td>NaN</td>\n",
       "      <td>540d020455f16bf1043676e7046b5ade</td>\n",
       "      <td>长电科技</td>\n",
       "      <td>600584</td>\n",
       "      <td>1</td>\n",
       "      <td>467</td>\n",
       "      <td>2020-04-30</td>\n",
       "      <td>1588176000</td>\n",
       "      <td>NaN</td>\n",
       "      <td>[]</td>\n",
       "    </tr>\n",
       "    <tr>\n",
       "      <th>653202</th>\n",
       "      <td>5f3461ab689a8fdae489c7c3</td>\n",
       "      <td>1802</td>\n",
       "      <td>14</td>\n",
       "      <td>迈瑞在美国市场属于垃圾，回国变身套现，两个创始人大</td>\n",
       "      <td>NaN</td>\n",
       "      <td>大漠孤烟X</td>\n",
       "      <td>NaN</td>\n",
       "      <td>01-06 15:25</td>\n",
       "      <td>NaN</td>\n",
       "      <td>aed09fdb6126b7c3b5e3ec80c7859f1d</td>\n",
       "      <td>迈瑞医疗</td>\n",
       "      <td>300760</td>\n",
       "      <td>1</td>\n",
       "      <td>130</td>\n",
       "      <td>2020-01-06</td>\n",
       "      <td>1578240000</td>\n",
       "      <td>NaN</td>\n",
       "      <td>[]</td>\n",
       "    </tr>\n",
       "  </tbody>\n",
       "</table>\n",
       "<p>653203 rows × 18 columns</p>\n",
       "</div>"
      ]
     },
     "metadata": {},
     "execution_count": 6
    }
   ],
   "metadata": {}
  },
  {
   "cell_type": "code",
   "execution_count": null,
   "source": [
    "count_detail = detail[['pub_time_str','content']]"
   ],
   "outputs": [],
   "metadata": {}
  },
  {
   "cell_type": "code",
   "execution_count": null,
   "source": [
    "count_detail['pub_time_str'] = pd.to_datetime(count_detail.pub_time_str, format='%Y/%m/%d')"
   ],
   "outputs": [
    {
     "output_type": "stream",
     "name": "stderr",
     "text": [
      "<ipython-input-10-ae54986ffa55>:1: SettingWithCopyWarning: \n",
      "A value is trying to be set on a copy of a slice from a DataFrame.\n",
      "Try using .loc[row_indexer,col_indexer] = value instead\n",
      "\n",
      "See the caveats in the documentation: https://pandas.pydata.org/pandas-docs/stable/user_guide/indexing.html#returning-a-view-versus-a-copy\n",
      "  count_detail['pub_time_str'] = pd.to_datetime(count_detail.pub_time_str, format='%Y/%m/%d')\n"
     ]
    }
   ],
   "metadata": {}
  },
  {
   "cell_type": "code",
   "execution_count": null,
   "source": [
    "count_detail"
   ],
   "outputs": [
    {
     "output_type": "execute_result",
     "data": {
      "text/plain": [
       "       pub_time_str                                            content\n",
       "0        2020-01-01  含德之厚者，比于赤子。一年时光一晃就过，记得2019年第一帖就奉献了华丽的一章，虽然不是新帖...\n",
       "1        2020-01-01                                          周四鸡蛋会跌停吗？\n",
       "2        2020-01-01  祝福慈文2020成为超级大牛股！东霞与骏马齐飞，慈文共华章一色。勇立潮头作品一流，一见惊鸿再...\n",
       "3        2020-01-01                                           2020静待花开\n",
       "4        2020-01-01                            祝曙光的朋友们新年快乐，20年身体健康投资顺利\n",
       "...             ...                                                ...\n",
       "653198   2020-02-24                                                NaN\n",
       "653199   2020-02-06                                                NaN\n",
       "653200   2020-02-27                                                NaN\n",
       "653201   2020-04-30                                                NaN\n",
       "653202   2020-01-06                                                NaN\n",
       "\n",
       "[653203 rows x 2 columns]"
      ],
      "text/html": [
       "<div>\n",
       "<style scoped>\n",
       "    .dataframe tbody tr th:only-of-type {\n",
       "        vertical-align: middle;\n",
       "    }\n",
       "\n",
       "    .dataframe tbody tr th {\n",
       "        vertical-align: top;\n",
       "    }\n",
       "\n",
       "    .dataframe thead th {\n",
       "        text-align: right;\n",
       "    }\n",
       "</style>\n",
       "<table border=\"1\" class=\"dataframe\">\n",
       "  <thead>\n",
       "    <tr style=\"text-align: right;\">\n",
       "      <th></th>\n",
       "      <th>pub_time_str</th>\n",
       "      <th>content</th>\n",
       "    </tr>\n",
       "  </thead>\n",
       "  <tbody>\n",
       "    <tr>\n",
       "      <th>0</th>\n",
       "      <td>2020-01-01</td>\n",
       "      <td>含德之厚者，比于赤子。一年时光一晃就过，记得2019年第一帖就奉献了华丽的一章，虽然不是新帖...</td>\n",
       "    </tr>\n",
       "    <tr>\n",
       "      <th>1</th>\n",
       "      <td>2020-01-01</td>\n",
       "      <td>周四鸡蛋会跌停吗？</td>\n",
       "    </tr>\n",
       "    <tr>\n",
       "      <th>2</th>\n",
       "      <td>2020-01-01</td>\n",
       "      <td>祝福慈文2020成为超级大牛股！东霞与骏马齐飞，慈文共华章一色。勇立潮头作品一流，一见惊鸿再...</td>\n",
       "    </tr>\n",
       "    <tr>\n",
       "      <th>3</th>\n",
       "      <td>2020-01-01</td>\n",
       "      <td>2020静待花开</td>\n",
       "    </tr>\n",
       "    <tr>\n",
       "      <th>4</th>\n",
       "      <td>2020-01-01</td>\n",
       "      <td>祝曙光的朋友们新年快乐，20年身体健康投资顺利</td>\n",
       "    </tr>\n",
       "    <tr>\n",
       "      <th>...</th>\n",
       "      <td>...</td>\n",
       "      <td>...</td>\n",
       "    </tr>\n",
       "    <tr>\n",
       "      <th>653198</th>\n",
       "      <td>2020-02-24</td>\n",
       "      <td>NaN</td>\n",
       "    </tr>\n",
       "    <tr>\n",
       "      <th>653199</th>\n",
       "      <td>2020-02-06</td>\n",
       "      <td>NaN</td>\n",
       "    </tr>\n",
       "    <tr>\n",
       "      <th>653200</th>\n",
       "      <td>2020-02-27</td>\n",
       "      <td>NaN</td>\n",
       "    </tr>\n",
       "    <tr>\n",
       "      <th>653201</th>\n",
       "      <td>2020-04-30</td>\n",
       "      <td>NaN</td>\n",
       "    </tr>\n",
       "    <tr>\n",
       "      <th>653202</th>\n",
       "      <td>2020-01-06</td>\n",
       "      <td>NaN</td>\n",
       "    </tr>\n",
       "  </tbody>\n",
       "</table>\n",
       "<p>653203 rows × 2 columns</p>\n",
       "</div>"
      ]
     },
     "metadata": {},
     "execution_count": 11
    }
   ],
   "metadata": {}
  },
  {
   "cell_type": "code",
   "execution_count": null,
   "source": [
    "count_detail.index = count_detail.pub_time_str\n",
    "count_detail"
   ],
   "outputs": [
    {
     "output_type": "execute_result",
     "data": {
      "text/plain": [
       "             pub_time_str                                            content\n",
       "pub_time_str                                                                \n",
       "2020-01-01     2020-01-01  含德之厚者，比于赤子。一年时光一晃就过，记得2019年第一帖就奉献了华丽的一章，虽然不是新帖...\n",
       "2020-01-01     2020-01-01                                          周四鸡蛋会跌停吗？\n",
       "2020-01-01     2020-01-01  祝福慈文2020成为超级大牛股！东霞与骏马齐飞，慈文共华章一色。勇立潮头作品一流，一见惊鸿再...\n",
       "2020-01-01     2020-01-01                                           2020静待花开\n",
       "2020-01-01     2020-01-01                            祝曙光的朋友们新年快乐，20年身体健康投资顺利\n",
       "...                   ...                                                ...\n",
       "2020-02-24     2020-02-24                                                NaN\n",
       "2020-02-06     2020-02-06                                                NaN\n",
       "2020-02-27     2020-02-27                                                NaN\n",
       "2020-04-30     2020-04-30                                                NaN\n",
       "2020-01-06     2020-01-06                                                NaN\n",
       "\n",
       "[653203 rows x 2 columns]"
      ],
      "text/html": [
       "<div>\n",
       "<style scoped>\n",
       "    .dataframe tbody tr th:only-of-type {\n",
       "        vertical-align: middle;\n",
       "    }\n",
       "\n",
       "    .dataframe tbody tr th {\n",
       "        vertical-align: top;\n",
       "    }\n",
       "\n",
       "    .dataframe thead th {\n",
       "        text-align: right;\n",
       "    }\n",
       "</style>\n",
       "<table border=\"1\" class=\"dataframe\">\n",
       "  <thead>\n",
       "    <tr style=\"text-align: right;\">\n",
       "      <th></th>\n",
       "      <th>pub_time_str</th>\n",
       "      <th>content</th>\n",
       "    </tr>\n",
       "    <tr>\n",
       "      <th>pub_time_str</th>\n",
       "      <th></th>\n",
       "      <th></th>\n",
       "    </tr>\n",
       "  </thead>\n",
       "  <tbody>\n",
       "    <tr>\n",
       "      <th>2020-01-01</th>\n",
       "      <td>2020-01-01</td>\n",
       "      <td>含德之厚者，比于赤子。一年时光一晃就过，记得2019年第一帖就奉献了华丽的一章，虽然不是新帖...</td>\n",
       "    </tr>\n",
       "    <tr>\n",
       "      <th>2020-01-01</th>\n",
       "      <td>2020-01-01</td>\n",
       "      <td>周四鸡蛋会跌停吗？</td>\n",
       "    </tr>\n",
       "    <tr>\n",
       "      <th>2020-01-01</th>\n",
       "      <td>2020-01-01</td>\n",
       "      <td>祝福慈文2020成为超级大牛股！东霞与骏马齐飞，慈文共华章一色。勇立潮头作品一流，一见惊鸿再...</td>\n",
       "    </tr>\n",
       "    <tr>\n",
       "      <th>2020-01-01</th>\n",
       "      <td>2020-01-01</td>\n",
       "      <td>2020静待花开</td>\n",
       "    </tr>\n",
       "    <tr>\n",
       "      <th>2020-01-01</th>\n",
       "      <td>2020-01-01</td>\n",
       "      <td>祝曙光的朋友们新年快乐，20年身体健康投资顺利</td>\n",
       "    </tr>\n",
       "    <tr>\n",
       "      <th>...</th>\n",
       "      <td>...</td>\n",
       "      <td>...</td>\n",
       "    </tr>\n",
       "    <tr>\n",
       "      <th>2020-02-24</th>\n",
       "      <td>2020-02-24</td>\n",
       "      <td>NaN</td>\n",
       "    </tr>\n",
       "    <tr>\n",
       "      <th>2020-02-06</th>\n",
       "      <td>2020-02-06</td>\n",
       "      <td>NaN</td>\n",
       "    </tr>\n",
       "    <tr>\n",
       "      <th>2020-02-27</th>\n",
       "      <td>2020-02-27</td>\n",
       "      <td>NaN</td>\n",
       "    </tr>\n",
       "    <tr>\n",
       "      <th>2020-04-30</th>\n",
       "      <td>2020-04-30</td>\n",
       "      <td>NaN</td>\n",
       "    </tr>\n",
       "    <tr>\n",
       "      <th>2020-01-06</th>\n",
       "      <td>2020-01-06</td>\n",
       "      <td>NaN</td>\n",
       "    </tr>\n",
       "  </tbody>\n",
       "</table>\n",
       "<p>653203 rows × 2 columns</p>\n",
       "</div>"
      ]
     },
     "metadata": {},
     "execution_count": 12
    }
   ],
   "metadata": {}
  },
  {
   "cell_type": "code",
   "execution_count": null,
   "source": [
    "pd.unique(count_detail[count_detail.index.week == 12].pub_time_str)"
   ],
   "outputs": [
    {
     "output_type": "stream",
     "name": "stderr",
     "text": [
      "<ipython-input-13-653aef7642a9>:1: FutureWarning: weekofyear and week have been deprecated, please use DatetimeIndex.isocalendar().week instead, which returns a Series.  To exactly reproduce the behavior of week and weekofyear and return an Index, you may call pd.Int64Index(idx.isocalendar().week)\n",
      "  pd.unique(count_detail[count_detail.index.week == 12].pub_time_str)\n"
     ]
    },
    {
     "output_type": "execute_result",
     "data": {
      "text/plain": [
       "array(['2020-03-18T00:00:00.000000000', '2020-03-16T00:00:00.000000000',\n",
       "       '2020-03-17T00:00:00.000000000', '2020-03-20T00:00:00.000000000',\n",
       "       '2020-03-19T00:00:00.000000000', '2020-03-21T00:00:00.000000000',\n",
       "       '2020-03-22T00:00:00.000000000'], dtype='datetime64[ns]')"
      ]
     },
     "metadata": {},
     "execution_count": 13
    }
   ],
   "metadata": {}
  },
  {
   "cell_type": "code",
   "execution_count": null,
   "source": [
    "count = count_detail[['content']]\n",
    "count = count.dropna()\n",
    "count"
   ],
   "outputs": [
    {
     "output_type": "execute_result",
     "data": {
      "text/plain": [
       "                                                        content\n",
       "pub_time_str                                                   \n",
       "2020-01-01    含德之厚者，比于赤子。一年时光一晃就过，记得2019年第一帖就奉献了华丽的一章，虽然不是新帖...\n",
       "2020-01-01                                            周四鸡蛋会跌停吗？\n",
       "2020-01-01    祝福慈文2020成为超级大牛股！东霞与骏马齐飞，慈文共华章一色。勇立潮头作品一流，一见惊鸿再...\n",
       "2020-01-01                                             2020静待花开\n",
       "2020-01-01                              祝曙光的朋友们新年快乐，20年身体健康投资顺利\n",
       "...                                                         ...\n",
       "2020-07-27    说明价值投资才是上班族正确的投如果从我刚入股市时就一直持有美的，我的收益是6倍，说明价值投资...\n",
       "2020-07-27                                      买一手多，涨一个点，能赚多少钱\n",
       "2020-07-27                                           哎，割肉了，不碰它了\n",
       "2020-07-27    七位副总裁突击成股东来源：界面新闻　　继创维集团(0751.HK)、比亚迪(002594.S...\n",
       "2020-07-27    是主力吗？越是慢涨越不跌空单的弟兄们焦虑不？不出大阴棒你开毛的空，以为自己是主力吗？越是慢涨越不跌\n",
       "\n",
       "[642703 rows x 1 columns]"
      ],
      "text/html": [
       "<div>\n",
       "<style scoped>\n",
       "    .dataframe tbody tr th:only-of-type {\n",
       "        vertical-align: middle;\n",
       "    }\n",
       "\n",
       "    .dataframe tbody tr th {\n",
       "        vertical-align: top;\n",
       "    }\n",
       "\n",
       "    .dataframe thead th {\n",
       "        text-align: right;\n",
       "    }\n",
       "</style>\n",
       "<table border=\"1\" class=\"dataframe\">\n",
       "  <thead>\n",
       "    <tr style=\"text-align: right;\">\n",
       "      <th></th>\n",
       "      <th>content</th>\n",
       "    </tr>\n",
       "    <tr>\n",
       "      <th>pub_time_str</th>\n",
       "      <th></th>\n",
       "    </tr>\n",
       "  </thead>\n",
       "  <tbody>\n",
       "    <tr>\n",
       "      <th>2020-01-01</th>\n",
       "      <td>含德之厚者，比于赤子。一年时光一晃就过，记得2019年第一帖就奉献了华丽的一章，虽然不是新帖...</td>\n",
       "    </tr>\n",
       "    <tr>\n",
       "      <th>2020-01-01</th>\n",
       "      <td>周四鸡蛋会跌停吗？</td>\n",
       "    </tr>\n",
       "    <tr>\n",
       "      <th>2020-01-01</th>\n",
       "      <td>祝福慈文2020成为超级大牛股！东霞与骏马齐飞，慈文共华章一色。勇立潮头作品一流，一见惊鸿再...</td>\n",
       "    </tr>\n",
       "    <tr>\n",
       "      <th>2020-01-01</th>\n",
       "      <td>2020静待花开</td>\n",
       "    </tr>\n",
       "    <tr>\n",
       "      <th>2020-01-01</th>\n",
       "      <td>祝曙光的朋友们新年快乐，20年身体健康投资顺利</td>\n",
       "    </tr>\n",
       "    <tr>\n",
       "      <th>...</th>\n",
       "      <td>...</td>\n",
       "    </tr>\n",
       "    <tr>\n",
       "      <th>2020-07-27</th>\n",
       "      <td>说明价值投资才是上班族正确的投如果从我刚入股市时就一直持有美的，我的收益是6倍，说明价值投资...</td>\n",
       "    </tr>\n",
       "    <tr>\n",
       "      <th>2020-07-27</th>\n",
       "      <td>买一手多，涨一个点，能赚多少钱</td>\n",
       "    </tr>\n",
       "    <tr>\n",
       "      <th>2020-07-27</th>\n",
       "      <td>哎，割肉了，不碰它了</td>\n",
       "    </tr>\n",
       "    <tr>\n",
       "      <th>2020-07-27</th>\n",
       "      <td>七位副总裁突击成股东来源：界面新闻　　继创维集团(0751.HK)、比亚迪(002594.S...</td>\n",
       "    </tr>\n",
       "    <tr>\n",
       "      <th>2020-07-27</th>\n",
       "      <td>是主力吗？越是慢涨越不跌空单的弟兄们焦虑不？不出大阴棒你开毛的空，以为自己是主力吗？越是慢涨越不跌</td>\n",
       "    </tr>\n",
       "  </tbody>\n",
       "</table>\n",
       "<p>642703 rows × 1 columns</p>\n",
       "</div>"
      ]
     },
     "metadata": {},
     "execution_count": 14
    }
   ],
   "metadata": {}
  },
  {
   "cell_type": "code",
   "execution_count": null,
   "source": [
    "def flatten(input_list):\n",
    "    output_list = []\n",
    "    while True:\n",
    "        if input_list == []:\n",
    "            break\n",
    "        for index, i in enumerate(input_list):\n",
    "            if type(i)== list:\n",
    "                input_list = i + input_list[index+1:]\n",
    "                break\n",
    "            else:\n",
    "                output_list.append(i)\n",
    "                input_list.pop(index)\n",
    "                break\n",
    "    return output_list"
   ],
   "outputs": [],
   "metadata": {}
  },
  {
   "cell_type": "code",
   "execution_count": null,
   "source": [
    "week_list = pd.unique(count.index.week)\n",
    "week_list = sorted(week_list)"
   ],
   "outputs": [],
   "metadata": {}
  },
  {
   "cell_type": "code",
   "execution_count": null,
   "source": [
    "# 分词(all)\n",
    "freq = pd.DataFrame()\n",
    "for week in tqdm(week_list, position=0, leave=True):\n",
    "    sub = count[count.index.week == week]\n",
    "    words = []\n",
    "    for i in range(len(sub)):\n",
    "        row = sub.iloc[i]\n",
    "        c = row.content\n",
    "        try:\n",
    "            s = SnowNLP(c)\n",
    "            w = s.words\n",
    "        except:\n",
    "            print('error')\n",
    "        try:\n",
    "            words.append(w)\n",
    "        except:\n",
    "            print('Error')\n",
    "    fw = flatten(words)\n",
    "    words_df = pd.DataFrame({'segment': fw})\n",
    "    words_df['week'] = list(np.repeat(week,len(words_df)))\n",
    "    freq = pd.concat([freq, words_df]).reset_index(drop=True)\n"
   ],
   "outputs": [
    {
     "output_type": "stream",
     "name": "stderr",
     "text": [
      "  0%|          | 0/31 [00:00<?, ?it/s]<ipython-input-20-b1f3ecbb8c91>:4: FutureWarning: weekofyear and week have been deprecated, please use DatetimeIndex.isocalendar().week instead, which returns a Series.  To exactly reproduce the behavior of week and weekofyear and return an Index, you may call pd.Int64Index(idx.isocalendar().week)\n",
      "  sub = count[count.index.week == week]\n",
      "  3%|▎         | 1/31 [08:57<4:28:30, 537.01s/it]<ipython-input-20-b1f3ecbb8c91>:4: FutureWarning: weekofyear and week have been deprecated, please use DatetimeIndex.isocalendar().week instead, which returns a Series.  To exactly reproduce the behavior of week and weekofyear and return an Index, you may call pd.Int64Index(idx.isocalendar().week)\n",
      "  sub = count[count.index.week == week]\n"
     ]
    },
    {
     "output_type": "stream",
     "name": "stdout",
     "text": [
      "error\n"
     ]
    },
    {
     "output_type": "stream",
     "name": "stderr",
     "text": [
      "  6%|▋         | 2/31 [24:56<6:19:46, 785.73s/it]<ipython-input-20-b1f3ecbb8c91>:4: FutureWarning: weekofyear and week have been deprecated, please use DatetimeIndex.isocalendar().week instead, which returns a Series.  To exactly reproduce the behavior of week and weekofyear and return an Index, you may call pd.Int64Index(idx.isocalendar().week)\n",
      "  sub = count[count.index.week == week]\n",
      " 10%|▉         | 3/31 [40:57<6:43:58, 865.65s/it]<ipython-input-20-b1f3ecbb8c91>:4: FutureWarning: weekofyear and week have been deprecated, please use DatetimeIndex.isocalendar().week instead, which returns a Series.  To exactly reproduce the behavior of week and weekofyear and return an Index, you may call pd.Int64Index(idx.isocalendar().week)\n",
      "  sub = count[count.index.week == week]\n",
      " 13%|█▎        | 4/31 [51:55<5:52:41, 783.75s/it]<ipython-input-20-b1f3ecbb8c91>:4: FutureWarning: weekofyear and week have been deprecated, please use DatetimeIndex.isocalendar().week instead, which returns a Series.  To exactly reproduce the behavior of week and weekofyear and return an Index, you may call pd.Int64Index(idx.isocalendar().week)\n",
      "  sub = count[count.index.week == week]\n"
     ]
    },
    {
     "output_type": "stream",
     "name": "stdout",
     "text": [
      "error\n"
     ]
    },
    {
     "output_type": "stream",
     "name": "stderr",
     "text": [
      " 16%|█▌        | 5/31 [56:08<4:16:36, 592.16s/it]<ipython-input-20-b1f3ecbb8c91>:4: FutureWarning: weekofyear and week have been deprecated, please use DatetimeIndex.isocalendar().week instead, which returns a Series.  To exactly reproduce the behavior of week and weekofyear and return an Index, you may call pd.Int64Index(idx.isocalendar().week)\n",
      "  sub = count[count.index.week == week]\n",
      " 19%|█▉        | 6/31 [1:11:57<4:57:21, 713.66s/it]<ipython-input-20-b1f3ecbb8c91>:4: FutureWarning: weekofyear and week have been deprecated, please use DatetimeIndex.isocalendar().week instead, which returns a Series.  To exactly reproduce the behavior of week and weekofyear and return an Index, you may call pd.Int64Index(idx.isocalendar().week)\n",
      "  sub = count[count.index.week == week]\n",
      " 23%|██▎       | 7/31 [1:28:24<5:21:11, 803.00s/it]<ipython-input-20-b1f3ecbb8c91>:4: FutureWarning: weekofyear and week have been deprecated, please use DatetimeIndex.isocalendar().week instead, which returns a Series.  To exactly reproduce the behavior of week and weekofyear and return an Index, you may call pd.Int64Index(idx.isocalendar().week)\n",
      "  sub = count[count.index.week == week]\n"
     ]
    },
    {
     "output_type": "stream",
     "name": "stdout",
     "text": [
      "error\n"
     ]
    },
    {
     "output_type": "stream",
     "name": "stderr",
     "text": [
      " 26%|██▌       | 8/31 [1:47:52<5:52:23, 919.29s/it]<ipython-input-20-b1f3ecbb8c91>:4: FutureWarning: weekofyear and week have been deprecated, please use DatetimeIndex.isocalendar().week instead, which returns a Series.  To exactly reproduce the behavior of week and weekofyear and return an Index, you may call pd.Int64Index(idx.isocalendar().week)\n",
      "  sub = count[count.index.week == week]\n",
      " 29%|██▉       | 9/31 [2:11:58<6:37:20, 1083.66s/it]<ipython-input-20-b1f3ecbb8c91>:4: FutureWarning: weekofyear and week have been deprecated, please use DatetimeIndex.isocalendar().week instead, which returns a Series.  To exactly reproduce the behavior of week and weekofyear and return an Index, you may call pd.Int64Index(idx.isocalendar().week)\n",
      "  sub = count[count.index.week == week]\n",
      " 32%|███▏      | 10/31 [2:34:17<6:46:57, 1162.75s/it]<ipython-input-20-b1f3ecbb8c91>:4: FutureWarning: weekofyear and week have been deprecated, please use DatetimeIndex.isocalendar().week instead, which returns a Series.  To exactly reproduce the behavior of week and weekofyear and return an Index, you may call pd.Int64Index(idx.isocalendar().week)\n",
      "  sub = count[count.index.week == week]\n",
      " 35%|███▌      | 11/31 [2:56:21<6:44:02, 1212.12s/it]<ipython-input-20-b1f3ecbb8c91>:4: FutureWarning: weekofyear and week have been deprecated, please use DatetimeIndex.isocalendar().week instead, which returns a Series.  To exactly reproduce the behavior of week and weekofyear and return an Index, you may call pd.Int64Index(idx.isocalendar().week)\n",
      "  sub = count[count.index.week == week]\n",
      " 39%|███▊      | 12/31 [3:15:41<6:18:49, 1196.27s/it]<ipython-input-20-b1f3ecbb8c91>:4: FutureWarning: weekofyear and week have been deprecated, please use DatetimeIndex.isocalendar().week instead, which returns a Series.  To exactly reproduce the behavior of week and weekofyear and return an Index, you may call pd.Int64Index(idx.isocalendar().week)\n",
      "  sub = count[count.index.week == week]\n"
     ]
    },
    {
     "output_type": "stream",
     "name": "stdout",
     "text": [
      "error\n"
     ]
    },
    {
     "output_type": "stream",
     "name": "stderr",
     "text": [
      " 42%|████▏     | 13/31 [3:33:51<5:49:13, 1164.06s/it]<ipython-input-20-b1f3ecbb8c91>:4: FutureWarning: weekofyear and week have been deprecated, please use DatetimeIndex.isocalendar().week instead, which returns a Series.  To exactly reproduce the behavior of week and weekofyear and return an Index, you may call pd.Int64Index(idx.isocalendar().week)\n",
      "  sub = count[count.index.week == week]\n"
     ]
    },
    {
     "output_type": "stream",
     "name": "stdout",
     "text": [
      "error\n"
     ]
    },
    {
     "output_type": "stream",
     "name": "stderr",
     "text": [
      " 45%|████▌     | 14/31 [3:49:56<5:12:43, 1103.72s/it]<ipython-input-20-b1f3ecbb8c91>:4: FutureWarning: weekofyear and week have been deprecated, please use DatetimeIndex.isocalendar().week instead, which returns a Series.  To exactly reproduce the behavior of week and weekofyear and return an Index, you may call pd.Int64Index(idx.isocalendar().week)\n",
      "  sub = count[count.index.week == week]\n",
      " 48%|████▊     | 15/31 [4:06:12<4:44:03, 1065.20s/it]<ipython-input-20-b1f3ecbb8c91>:4: FutureWarning: weekofyear and week have been deprecated, please use DatetimeIndex.isocalendar().week instead, which returns a Series.  To exactly reproduce the behavior of week and weekofyear and return an Index, you may call pd.Int64Index(idx.isocalendar().week)\n",
      "  sub = count[count.index.week == week]\n",
      " 52%|█████▏    | 16/31 [4:24:51<4:30:20, 1081.37s/it]<ipython-input-20-b1f3ecbb8c91>:4: FutureWarning: weekofyear and week have been deprecated, please use DatetimeIndex.isocalendar().week instead, which returns a Series.  To exactly reproduce the behavior of week and weekofyear and return an Index, you may call pd.Int64Index(idx.isocalendar().week)\n",
      "  sub = count[count.index.week == week]\n",
      " 55%|█████▍    | 17/31 [4:45:59<4:25:28, 1137.74s/it]<ipython-input-20-b1f3ecbb8c91>:4: FutureWarning: weekofyear and week have been deprecated, please use DatetimeIndex.isocalendar().week instead, which returns a Series.  To exactly reproduce the behavior of week and weekofyear and return an Index, you may call pd.Int64Index(idx.isocalendar().week)\n",
      "  sub = count[count.index.week == week]\n",
      " 58%|█████▊    | 18/31 [5:04:06<4:03:10, 1122.33s/it]<ipython-input-20-b1f3ecbb8c91>:4: FutureWarning: weekofyear and week have been deprecated, please use DatetimeIndex.isocalendar().week instead, which returns a Series.  To exactly reproduce the behavior of week and weekofyear and return an Index, you may call pd.Int64Index(idx.isocalendar().week)\n",
      "  sub = count[count.index.week == week]\n",
      " 61%|██████▏   | 19/31 [5:18:26<3:28:44, 1043.70s/it]<ipython-input-20-b1f3ecbb8c91>:4: FutureWarning: weekofyear and week have been deprecated, please use DatetimeIndex.isocalendar().week instead, which returns a Series.  To exactly reproduce the behavior of week and weekofyear and return an Index, you may call pd.Int64Index(idx.isocalendar().week)\n",
      "  sub = count[count.index.week == week]\n",
      " 65%|██████▍   | 20/31 [5:36:13<3:12:34, 1050.43s/it]<ipython-input-20-b1f3ecbb8c91>:4: FutureWarning: weekofyear and week have been deprecated, please use DatetimeIndex.isocalendar().week instead, which returns a Series.  To exactly reproduce the behavior of week and weekofyear and return an Index, you may call pd.Int64Index(idx.isocalendar().week)\n",
      "  sub = count[count.index.week == week]\n"
     ]
    },
    {
     "output_type": "stream",
     "name": "stdout",
     "text": [
      "error\n"
     ]
    },
    {
     "output_type": "stream",
     "name": "stderr",
     "text": [
      " 68%|██████▊   | 21/31 [5:53:40<2:54:55, 1049.56s/it]<ipython-input-20-b1f3ecbb8c91>:4: FutureWarning: weekofyear and week have been deprecated, please use DatetimeIndex.isocalendar().week instead, which returns a Series.  To exactly reproduce the behavior of week and weekofyear and return an Index, you may call pd.Int64Index(idx.isocalendar().week)\n",
      "  sub = count[count.index.week == week]\n"
     ]
    },
    {
     "output_type": "stream",
     "name": "stdout",
     "text": [
      "error\n",
      "error\n"
     ]
    },
    {
     "output_type": "stream",
     "name": "stderr",
     "text": [
      " 71%|███████   | 22/31 [6:11:25<2:38:06, 1054.10s/it]<ipython-input-20-b1f3ecbb8c91>:4: FutureWarning: weekofyear and week have been deprecated, please use DatetimeIndex.isocalendar().week instead, which returns a Series.  To exactly reproduce the behavior of week and weekofyear and return an Index, you may call pd.Int64Index(idx.isocalendar().week)\n",
      "  sub = count[count.index.week == week]\n"
     ]
    },
    {
     "output_type": "stream",
     "name": "stdout",
     "text": [
      "error\n"
     ]
    },
    {
     "output_type": "stream",
     "name": "stderr",
     "text": [
      " 74%|███████▍  | 23/31 [6:31:02<2:25:28, 1091.00s/it]<ipython-input-20-b1f3ecbb8c91>:4: FutureWarning: weekofyear and week have been deprecated, please use DatetimeIndex.isocalendar().week instead, which returns a Series.  To exactly reproduce the behavior of week and weekofyear and return an Index, you may call pd.Int64Index(idx.isocalendar().week)\n",
      "  sub = count[count.index.week == week]\n"
     ]
    },
    {
     "output_type": "stream",
     "name": "stdout",
     "text": [
      "error\n"
     ]
    },
    {
     "output_type": "stream",
     "name": "stderr",
     "text": [
      " 77%|███████▋  | 24/31 [6:50:09<2:09:14, 1107.75s/it]<ipython-input-20-b1f3ecbb8c91>:4: FutureWarning: weekofyear and week have been deprecated, please use DatetimeIndex.isocalendar().week instead, which returns a Series.  To exactly reproduce the behavior of week and weekofyear and return an Index, you may call pd.Int64Index(idx.isocalendar().week)\n",
      "  sub = count[count.index.week == week]\n",
      " 81%|████████  | 25/31 [7:09:05<1:51:38, 1116.34s/it]<ipython-input-20-b1f3ecbb8c91>:4: FutureWarning: weekofyear and week have been deprecated, please use DatetimeIndex.isocalendar().week instead, which returns a Series.  To exactly reproduce the behavior of week and weekofyear and return an Index, you may call pd.Int64Index(idx.isocalendar().week)\n",
      "  sub = count[count.index.week == week]\n",
      " 84%|████████▍ | 26/31 [7:24:03<1:27:34, 1050.84s/it]<ipython-input-20-b1f3ecbb8c91>:4: FutureWarning: weekofyear and week have been deprecated, please use DatetimeIndex.isocalendar().week instead, which returns a Series.  To exactly reproduce the behavior of week and weekofyear and return an Index, you may call pd.Int64Index(idx.isocalendar().week)\n",
      "  sub = count[count.index.week == week]\n",
      " 87%|████████▋ | 27/31 [7:44:10<1:13:10, 1097.65s/it]<ipython-input-20-b1f3ecbb8c91>:4: FutureWarning: weekofyear and week have been deprecated, please use DatetimeIndex.isocalendar().week instead, which returns a Series.  To exactly reproduce the behavior of week and weekofyear and return an Index, you may call pd.Int64Index(idx.isocalendar().week)\n",
      "  sub = count[count.index.week == week]\n",
      " 90%|█████████ | 28/31 [8:06:54<58:53, 1177.68s/it]  <ipython-input-20-b1f3ecbb8c91>:4: FutureWarning: weekofyear and week have been deprecated, please use DatetimeIndex.isocalendar().week instead, which returns a Series.  To exactly reproduce the behavior of week and weekofyear and return an Index, you may call pd.Int64Index(idx.isocalendar().week)\n",
      "  sub = count[count.index.week == week]\n",
      " 94%|█████████▎| 29/31 [8:29:48<41:12, 1236.48s/it]<ipython-input-20-b1f3ecbb8c91>:4: FutureWarning: weekofyear and week have been deprecated, please use DatetimeIndex.isocalendar().week instead, which returns a Series.  To exactly reproduce the behavior of week and weekofyear and return an Index, you may call pd.Int64Index(idx.isocalendar().week)\n",
      "  sub = count[count.index.week == week]\n",
      " 97%|█████████▋| 30/31 [8:47:11<19:38, 1178.40s/it]<ipython-input-20-b1f3ecbb8c91>:4: FutureWarning: weekofyear and week have been deprecated, please use DatetimeIndex.isocalendar().week instead, which returns a Series.  To exactly reproduce the behavior of week and weekofyear and return an Index, you may call pd.Int64Index(idx.isocalendar().week)\n",
      "  sub = count[count.index.week == week]\n"
     ]
    },
    {
     "output_type": "stream",
     "name": "stdout",
     "text": [
      "error\n"
     ]
    },
    {
     "output_type": "stream",
     "name": "stderr",
     "text": [
      "100%|██████████| 31/31 [8:48:38<00:00, 1023.17s/it]\n"
     ]
    }
   ],
   "metadata": {}
  },
  {
   "cell_type": "code",
   "execution_count": null,
   "source": [
    "freq.to_csv('/home/afan/emotion_analysis/data/processed_data/detail_words_by_week.csv',index=False)"
   ],
   "outputs": [],
   "metadata": {}
  },
  {
   "cell_type": "code",
   "execution_count": null,
   "source": [
    "f = pd.read_csv('/home/afan/emotion_analysis/data/processed_data/detail_words_by_week.csv')"
   ],
   "outputs": [],
   "metadata": {}
  },
  {
   "cell_type": "code",
   "execution_count": null,
   "source": [
    "words_stat1 = f.groupby(by=['week','segment'])['segment'].agg([(\"计数\", np.size)]).reset_index()"
   ],
   "outputs": [],
   "metadata": {}
  },
  {
   "cell_type": "code",
   "execution_count": null,
   "source": [
    "words_stat1"
   ],
   "outputs": [
    {
     "output_type": "execute_result",
     "data": {
      "text/plain": [
       "         week     segment   计数\n",
       "0           1           !  189\n",
       "1           1          !!    2\n",
       "2           1         !!!    4\n",
       "3           1        !!!!    1\n",
       "4           1      !!!!!!    1\n",
       "...       ...         ...  ...\n",
       "2820671    31    ［2020］80    1\n",
       "2820672    31           ～   12\n",
       "2820673    31  ～2020/5/11    1\n",
       "2820674    31       ～5.11    1\n",
       "2820675    31    ～8926.33    1\n",
       "\n",
       "[2820676 rows x 3 columns]"
      ],
      "text/html": [
       "<div>\n",
       "<style scoped>\n",
       "    .dataframe tbody tr th:only-of-type {\n",
       "        vertical-align: middle;\n",
       "    }\n",
       "\n",
       "    .dataframe tbody tr th {\n",
       "        vertical-align: top;\n",
       "    }\n",
       "\n",
       "    .dataframe thead th {\n",
       "        text-align: right;\n",
       "    }\n",
       "</style>\n",
       "<table border=\"1\" class=\"dataframe\">\n",
       "  <thead>\n",
       "    <tr style=\"text-align: right;\">\n",
       "      <th></th>\n",
       "      <th>week</th>\n",
       "      <th>segment</th>\n",
       "      <th>计数</th>\n",
       "    </tr>\n",
       "  </thead>\n",
       "  <tbody>\n",
       "    <tr>\n",
       "      <th>0</th>\n",
       "      <td>1</td>\n",
       "      <td>!</td>\n",
       "      <td>189</td>\n",
       "    </tr>\n",
       "    <tr>\n",
       "      <th>1</th>\n",
       "      <td>1</td>\n",
       "      <td>!!</td>\n",
       "      <td>2</td>\n",
       "    </tr>\n",
       "    <tr>\n",
       "      <th>2</th>\n",
       "      <td>1</td>\n",
       "      <td>!!!</td>\n",
       "      <td>4</td>\n",
       "    </tr>\n",
       "    <tr>\n",
       "      <th>3</th>\n",
       "      <td>1</td>\n",
       "      <td>!!!!</td>\n",
       "      <td>1</td>\n",
       "    </tr>\n",
       "    <tr>\n",
       "      <th>4</th>\n",
       "      <td>1</td>\n",
       "      <td>!!!!!!</td>\n",
       "      <td>1</td>\n",
       "    </tr>\n",
       "    <tr>\n",
       "      <th>...</th>\n",
       "      <td>...</td>\n",
       "      <td>...</td>\n",
       "      <td>...</td>\n",
       "    </tr>\n",
       "    <tr>\n",
       "      <th>2820671</th>\n",
       "      <td>31</td>\n",
       "      <td>［2020］80</td>\n",
       "      <td>1</td>\n",
       "    </tr>\n",
       "    <tr>\n",
       "      <th>2820672</th>\n",
       "      <td>31</td>\n",
       "      <td>～</td>\n",
       "      <td>12</td>\n",
       "    </tr>\n",
       "    <tr>\n",
       "      <th>2820673</th>\n",
       "      <td>31</td>\n",
       "      <td>～2020/5/11</td>\n",
       "      <td>1</td>\n",
       "    </tr>\n",
       "    <tr>\n",
       "      <th>2820674</th>\n",
       "      <td>31</td>\n",
       "      <td>～5.11</td>\n",
       "      <td>1</td>\n",
       "    </tr>\n",
       "    <tr>\n",
       "      <th>2820675</th>\n",
       "      <td>31</td>\n",
       "      <td>～8926.33</td>\n",
       "      <td>1</td>\n",
       "    </tr>\n",
       "  </tbody>\n",
       "</table>\n",
       "<p>2820676 rows × 3 columns</p>\n",
       "</div>"
      ]
     },
     "metadata": {},
     "execution_count": 25
    }
   ],
   "metadata": {}
  },
  {
   "cell_type": "code",
   "execution_count": null,
   "source": [
    "words_stat2 = words_stat1[~words_stat1.segment.isin(stopwords.stopword)].reset_index(drop=True)"
   ],
   "outputs": [],
   "metadata": {}
  },
  {
   "cell_type": "code",
   "execution_count": null,
   "source": [
    "words_stat2.to_csv('/home/afan/emotion_analysis/data/processed_data/detail_words_by_week_with_stopwords_removed.csv',index=False)"
   ],
   "outputs": [],
   "metadata": {}
  },
  {
   "cell_type": "code",
   "execution_count": null,
   "source": [
    "words_stat2 = pd.read_csv('/home/afan/emotion_analysis/data/processed_data/detail_words_by_week_with_stopwords_removed.csv')"
   ],
   "outputs": [],
   "metadata": {}
  },
  {
   "cell_type": "code",
   "execution_count": null,
   "source": [
    "words_stat2"
   ],
   "outputs": [
    {
     "output_type": "execute_result",
     "data": {
      "text/plain": [
       "         week     segment  计数\n",
       "0           1          !!   2\n",
       "1           1         !!!   4\n",
       "2           1        !!!!   1\n",
       "3           1      !!!!!!   1\n",
       "4           1        !!!（   1\n",
       "...       ...         ...  ..\n",
       "2780220    31           Ｏ   2\n",
       "2780221    31    ［2020］80   1\n",
       "2780222    31  ～2020/5/11   1\n",
       "2780223    31       ～5.11   1\n",
       "2780224    31    ～8926.33   1\n",
       "\n",
       "[2780225 rows x 3 columns]"
      ],
      "text/html": [
       "<div>\n",
       "<style scoped>\n",
       "    .dataframe tbody tr th:only-of-type {\n",
       "        vertical-align: middle;\n",
       "    }\n",
       "\n",
       "    .dataframe tbody tr th {\n",
       "        vertical-align: top;\n",
       "    }\n",
       "\n",
       "    .dataframe thead th {\n",
       "        text-align: right;\n",
       "    }\n",
       "</style>\n",
       "<table border=\"1\" class=\"dataframe\">\n",
       "  <thead>\n",
       "    <tr style=\"text-align: right;\">\n",
       "      <th></th>\n",
       "      <th>week</th>\n",
       "      <th>segment</th>\n",
       "      <th>计数</th>\n",
       "    </tr>\n",
       "  </thead>\n",
       "  <tbody>\n",
       "    <tr>\n",
       "      <th>0</th>\n",
       "      <td>1</td>\n",
       "      <td>!!</td>\n",
       "      <td>2</td>\n",
       "    </tr>\n",
       "    <tr>\n",
       "      <th>1</th>\n",
       "      <td>1</td>\n",
       "      <td>!!!</td>\n",
       "      <td>4</td>\n",
       "    </tr>\n",
       "    <tr>\n",
       "      <th>2</th>\n",
       "      <td>1</td>\n",
       "      <td>!!!!</td>\n",
       "      <td>1</td>\n",
       "    </tr>\n",
       "    <tr>\n",
       "      <th>3</th>\n",
       "      <td>1</td>\n",
       "      <td>!!!!!!</td>\n",
       "      <td>1</td>\n",
       "    </tr>\n",
       "    <tr>\n",
       "      <th>4</th>\n",
       "      <td>1</td>\n",
       "      <td>!!!（</td>\n",
       "      <td>1</td>\n",
       "    </tr>\n",
       "    <tr>\n",
       "      <th>...</th>\n",
       "      <td>...</td>\n",
       "      <td>...</td>\n",
       "      <td>...</td>\n",
       "    </tr>\n",
       "    <tr>\n",
       "      <th>2780220</th>\n",
       "      <td>31</td>\n",
       "      <td>Ｏ</td>\n",
       "      <td>2</td>\n",
       "    </tr>\n",
       "    <tr>\n",
       "      <th>2780221</th>\n",
       "      <td>31</td>\n",
       "      <td>［2020］80</td>\n",
       "      <td>1</td>\n",
       "    </tr>\n",
       "    <tr>\n",
       "      <th>2780222</th>\n",
       "      <td>31</td>\n",
       "      <td>～2020/5/11</td>\n",
       "      <td>1</td>\n",
       "    </tr>\n",
       "    <tr>\n",
       "      <th>2780223</th>\n",
       "      <td>31</td>\n",
       "      <td>～5.11</td>\n",
       "      <td>1</td>\n",
       "    </tr>\n",
       "    <tr>\n",
       "      <th>2780224</th>\n",
       "      <td>31</td>\n",
       "      <td>～8926.33</td>\n",
       "      <td>1</td>\n",
       "    </tr>\n",
       "  </tbody>\n",
       "</table>\n",
       "<p>2780225 rows × 3 columns</p>\n",
       "</div>"
      ]
     },
     "metadata": {},
     "execution_count": 3
    }
   ],
   "metadata": {}
  },
  {
   "cell_type": "code",
   "execution_count": null,
   "source": [
    "words_stat2[words_stat2.week == 18].sort_values(by=[\"计数\"], ascending=False).head(60)"
   ],
   "outputs": [
    {
     "output_type": "execute_result",
     "data": {
      "text/plain": [
       "         week segment     计数\n",
       "1531956    18      公司  50637\n",
       "1544937    18       年  32254\n",
       "1565631    18       股  28989\n",
       "1531340    18       元  24222\n",
       "1568929    18      证券  22168\n",
       "1551096    18       新  19340\n",
       "1544583    18      市场  18430\n",
       "1551636    18       日  16531\n",
       "1526410    18       中  15809\n",
       "1558219    18       点  15333\n",
       "1531960    18      公告  14551\n",
       "1553047    18       月  14357\n",
       "1528847    18       亿  12585\n",
       "1565659    18      股份  12013\n",
       "1561878    18      研究  11948\n",
       "1548791    18       报  11824\n",
       "1557271    18       涨  11770\n",
       "1565638    18      股东  11669\n",
       "1554765    18      概念  11605\n",
       "1549317    18      指出  11390\n",
       "1526038    18      业绩  11211\n",
       "1576062    18       高  11066\n",
       "1554299    18      查看  10973\n",
       "1548817    18      报告  10643\n",
       "1524690    18       万   9998\n",
       "1554129    18      板块   9924\n",
       "1525085    18      上市   9744\n",
       "1535769    18       原   9336\n",
       "1548651    18      投资   9207\n",
       "1547220    18      情况   9108\n",
       "1562506    18      科技   9053\n",
       "1550940    18       文   9041\n",
       "1553372    18    有限公司   8964\n",
       "1526090    18      东方   8916\n",
       "1570077    18      资产   8800\n",
       "1569717    18      财富   8632\n",
       "1565894    18      股票   8503\n",
       "1554032    18      来源   8368\n",
       "1550860    18      数据   8290\n",
       "1545033    18      年度   7865\n",
       "1526569    18      中心   7782\n",
       "1534009    18       前   7516\n",
       "1567809    18      行业   7397\n",
       "1556290    18       沪   7353\n",
       "1570129    18      资金   7351\n",
       "1561761    18      短期   7324\n",
       "1570596    18      趋势   7323\n",
       "1551335    18      方向   6987\n",
       "1499832    18    2019   6951\n",
       "1540398    18      复苏   6754\n",
       "1500019    18    2020   6522\n",
       "1575622    18      风险   6412\n",
       "1553559    18      未来   6378\n",
       "1530690    18      信息   6259\n",
       "1567398    18     董事会   6202\n",
       "1558232    18      点击   6197\n",
       "1553464    18       期   6117\n",
       "1546214    18      影响   6068\n",
       "1526029    18      业务   6058\n",
       "1532153    18      关注   6031"
      ],
      "text/html": [
       "<div>\n",
       "<style scoped>\n",
       "    .dataframe tbody tr th:only-of-type {\n",
       "        vertical-align: middle;\n",
       "    }\n",
       "\n",
       "    .dataframe tbody tr th {\n",
       "        vertical-align: top;\n",
       "    }\n",
       "\n",
       "    .dataframe thead th {\n",
       "        text-align: right;\n",
       "    }\n",
       "</style>\n",
       "<table border=\"1\" class=\"dataframe\">\n",
       "  <thead>\n",
       "    <tr style=\"text-align: right;\">\n",
       "      <th></th>\n",
       "      <th>week</th>\n",
       "      <th>segment</th>\n",
       "      <th>计数</th>\n",
       "    </tr>\n",
       "  </thead>\n",
       "  <tbody>\n",
       "    <tr>\n",
       "      <th>1531956</th>\n",
       "      <td>18</td>\n",
       "      <td>公司</td>\n",
       "      <td>50637</td>\n",
       "    </tr>\n",
       "    <tr>\n",
       "      <th>1544937</th>\n",
       "      <td>18</td>\n",
       "      <td>年</td>\n",
       "      <td>32254</td>\n",
       "    </tr>\n",
       "    <tr>\n",
       "      <th>1565631</th>\n",
       "      <td>18</td>\n",
       "      <td>股</td>\n",
       "      <td>28989</td>\n",
       "    </tr>\n",
       "    <tr>\n",
       "      <th>1531340</th>\n",
       "      <td>18</td>\n",
       "      <td>元</td>\n",
       "      <td>24222</td>\n",
       "    </tr>\n",
       "    <tr>\n",
       "      <th>1568929</th>\n",
       "      <td>18</td>\n",
       "      <td>证券</td>\n",
       "      <td>22168</td>\n",
       "    </tr>\n",
       "    <tr>\n",
       "      <th>1551096</th>\n",
       "      <td>18</td>\n",
       "      <td>新</td>\n",
       "      <td>19340</td>\n",
       "    </tr>\n",
       "    <tr>\n",
       "      <th>1544583</th>\n",
       "      <td>18</td>\n",
       "      <td>市场</td>\n",
       "      <td>18430</td>\n",
       "    </tr>\n",
       "    <tr>\n",
       "      <th>1551636</th>\n",
       "      <td>18</td>\n",
       "      <td>日</td>\n",
       "      <td>16531</td>\n",
       "    </tr>\n",
       "    <tr>\n",
       "      <th>1526410</th>\n",
       "      <td>18</td>\n",
       "      <td>中</td>\n",
       "      <td>15809</td>\n",
       "    </tr>\n",
       "    <tr>\n",
       "      <th>1558219</th>\n",
       "      <td>18</td>\n",
       "      <td>点</td>\n",
       "      <td>15333</td>\n",
       "    </tr>\n",
       "    <tr>\n",
       "      <th>1531960</th>\n",
       "      <td>18</td>\n",
       "      <td>公告</td>\n",
       "      <td>14551</td>\n",
       "    </tr>\n",
       "    <tr>\n",
       "      <th>1553047</th>\n",
       "      <td>18</td>\n",
       "      <td>月</td>\n",
       "      <td>14357</td>\n",
       "    </tr>\n",
       "    <tr>\n",
       "      <th>1528847</th>\n",
       "      <td>18</td>\n",
       "      <td>亿</td>\n",
       "      <td>12585</td>\n",
       "    </tr>\n",
       "    <tr>\n",
       "      <th>1565659</th>\n",
       "      <td>18</td>\n",
       "      <td>股份</td>\n",
       "      <td>12013</td>\n",
       "    </tr>\n",
       "    <tr>\n",
       "      <th>1561878</th>\n",
       "      <td>18</td>\n",
       "      <td>研究</td>\n",
       "      <td>11948</td>\n",
       "    </tr>\n",
       "    <tr>\n",
       "      <th>1548791</th>\n",
       "      <td>18</td>\n",
       "      <td>报</td>\n",
       "      <td>11824</td>\n",
       "    </tr>\n",
       "    <tr>\n",
       "      <th>1557271</th>\n",
       "      <td>18</td>\n",
       "      <td>涨</td>\n",
       "      <td>11770</td>\n",
       "    </tr>\n",
       "    <tr>\n",
       "      <th>1565638</th>\n",
       "      <td>18</td>\n",
       "      <td>股东</td>\n",
       "      <td>11669</td>\n",
       "    </tr>\n",
       "    <tr>\n",
       "      <th>1554765</th>\n",
       "      <td>18</td>\n",
       "      <td>概念</td>\n",
       "      <td>11605</td>\n",
       "    </tr>\n",
       "    <tr>\n",
       "      <th>1549317</th>\n",
       "      <td>18</td>\n",
       "      <td>指出</td>\n",
       "      <td>11390</td>\n",
       "    </tr>\n",
       "    <tr>\n",
       "      <th>1526038</th>\n",
       "      <td>18</td>\n",
       "      <td>业绩</td>\n",
       "      <td>11211</td>\n",
       "    </tr>\n",
       "    <tr>\n",
       "      <th>1576062</th>\n",
       "      <td>18</td>\n",
       "      <td>高</td>\n",
       "      <td>11066</td>\n",
       "    </tr>\n",
       "    <tr>\n",
       "      <th>1554299</th>\n",
       "      <td>18</td>\n",
       "      <td>查看</td>\n",
       "      <td>10973</td>\n",
       "    </tr>\n",
       "    <tr>\n",
       "      <th>1548817</th>\n",
       "      <td>18</td>\n",
       "      <td>报告</td>\n",
       "      <td>10643</td>\n",
       "    </tr>\n",
       "    <tr>\n",
       "      <th>1524690</th>\n",
       "      <td>18</td>\n",
       "      <td>万</td>\n",
       "      <td>9998</td>\n",
       "    </tr>\n",
       "    <tr>\n",
       "      <th>1554129</th>\n",
       "      <td>18</td>\n",
       "      <td>板块</td>\n",
       "      <td>9924</td>\n",
       "    </tr>\n",
       "    <tr>\n",
       "      <th>1525085</th>\n",
       "      <td>18</td>\n",
       "      <td>上市</td>\n",
       "      <td>9744</td>\n",
       "    </tr>\n",
       "    <tr>\n",
       "      <th>1535769</th>\n",
       "      <td>18</td>\n",
       "      <td>原</td>\n",
       "      <td>9336</td>\n",
       "    </tr>\n",
       "    <tr>\n",
       "      <th>1548651</th>\n",
       "      <td>18</td>\n",
       "      <td>投资</td>\n",
       "      <td>9207</td>\n",
       "    </tr>\n",
       "    <tr>\n",
       "      <th>1547220</th>\n",
       "      <td>18</td>\n",
       "      <td>情况</td>\n",
       "      <td>9108</td>\n",
       "    </tr>\n",
       "    <tr>\n",
       "      <th>1562506</th>\n",
       "      <td>18</td>\n",
       "      <td>科技</td>\n",
       "      <td>9053</td>\n",
       "    </tr>\n",
       "    <tr>\n",
       "      <th>1550940</th>\n",
       "      <td>18</td>\n",
       "      <td>文</td>\n",
       "      <td>9041</td>\n",
       "    </tr>\n",
       "    <tr>\n",
       "      <th>1553372</th>\n",
       "      <td>18</td>\n",
       "      <td>有限公司</td>\n",
       "      <td>8964</td>\n",
       "    </tr>\n",
       "    <tr>\n",
       "      <th>1526090</th>\n",
       "      <td>18</td>\n",
       "      <td>东方</td>\n",
       "      <td>8916</td>\n",
       "    </tr>\n",
       "    <tr>\n",
       "      <th>1570077</th>\n",
       "      <td>18</td>\n",
       "      <td>资产</td>\n",
       "      <td>8800</td>\n",
       "    </tr>\n",
       "    <tr>\n",
       "      <th>1569717</th>\n",
       "      <td>18</td>\n",
       "      <td>财富</td>\n",
       "      <td>8632</td>\n",
       "    </tr>\n",
       "    <tr>\n",
       "      <th>1565894</th>\n",
       "      <td>18</td>\n",
       "      <td>股票</td>\n",
       "      <td>8503</td>\n",
       "    </tr>\n",
       "    <tr>\n",
       "      <th>1554032</th>\n",
       "      <td>18</td>\n",
       "      <td>来源</td>\n",
       "      <td>8368</td>\n",
       "    </tr>\n",
       "    <tr>\n",
       "      <th>1550860</th>\n",
       "      <td>18</td>\n",
       "      <td>数据</td>\n",
       "      <td>8290</td>\n",
       "    </tr>\n",
       "    <tr>\n",
       "      <th>1545033</th>\n",
       "      <td>18</td>\n",
       "      <td>年度</td>\n",
       "      <td>7865</td>\n",
       "    </tr>\n",
       "    <tr>\n",
       "      <th>1526569</th>\n",
       "      <td>18</td>\n",
       "      <td>中心</td>\n",
       "      <td>7782</td>\n",
       "    </tr>\n",
       "    <tr>\n",
       "      <th>1534009</th>\n",
       "      <td>18</td>\n",
       "      <td>前</td>\n",
       "      <td>7516</td>\n",
       "    </tr>\n",
       "    <tr>\n",
       "      <th>1567809</th>\n",
       "      <td>18</td>\n",
       "      <td>行业</td>\n",
       "      <td>7397</td>\n",
       "    </tr>\n",
       "    <tr>\n",
       "      <th>1556290</th>\n",
       "      <td>18</td>\n",
       "      <td>沪</td>\n",
       "      <td>7353</td>\n",
       "    </tr>\n",
       "    <tr>\n",
       "      <th>1570129</th>\n",
       "      <td>18</td>\n",
       "      <td>资金</td>\n",
       "      <td>7351</td>\n",
       "    </tr>\n",
       "    <tr>\n",
       "      <th>1561761</th>\n",
       "      <td>18</td>\n",
       "      <td>短期</td>\n",
       "      <td>7324</td>\n",
       "    </tr>\n",
       "    <tr>\n",
       "      <th>1570596</th>\n",
       "      <td>18</td>\n",
       "      <td>趋势</td>\n",
       "      <td>7323</td>\n",
       "    </tr>\n",
       "    <tr>\n",
       "      <th>1551335</th>\n",
       "      <td>18</td>\n",
       "      <td>方向</td>\n",
       "      <td>6987</td>\n",
       "    </tr>\n",
       "    <tr>\n",
       "      <th>1499832</th>\n",
       "      <td>18</td>\n",
       "      <td>2019</td>\n",
       "      <td>6951</td>\n",
       "    </tr>\n",
       "    <tr>\n",
       "      <th>1540398</th>\n",
       "      <td>18</td>\n",
       "      <td>复苏</td>\n",
       "      <td>6754</td>\n",
       "    </tr>\n",
       "    <tr>\n",
       "      <th>1500019</th>\n",
       "      <td>18</td>\n",
       "      <td>2020</td>\n",
       "      <td>6522</td>\n",
       "    </tr>\n",
       "    <tr>\n",
       "      <th>1575622</th>\n",
       "      <td>18</td>\n",
       "      <td>风险</td>\n",
       "      <td>6412</td>\n",
       "    </tr>\n",
       "    <tr>\n",
       "      <th>1553559</th>\n",
       "      <td>18</td>\n",
       "      <td>未来</td>\n",
       "      <td>6378</td>\n",
       "    </tr>\n",
       "    <tr>\n",
       "      <th>1530690</th>\n",
       "      <td>18</td>\n",
       "      <td>信息</td>\n",
       "      <td>6259</td>\n",
       "    </tr>\n",
       "    <tr>\n",
       "      <th>1567398</th>\n",
       "      <td>18</td>\n",
       "      <td>董事会</td>\n",
       "      <td>6202</td>\n",
       "    </tr>\n",
       "    <tr>\n",
       "      <th>1558232</th>\n",
       "      <td>18</td>\n",
       "      <td>点击</td>\n",
       "      <td>6197</td>\n",
       "    </tr>\n",
       "    <tr>\n",
       "      <th>1553464</th>\n",
       "      <td>18</td>\n",
       "      <td>期</td>\n",
       "      <td>6117</td>\n",
       "    </tr>\n",
       "    <tr>\n",
       "      <th>1546214</th>\n",
       "      <td>18</td>\n",
       "      <td>影响</td>\n",
       "      <td>6068</td>\n",
       "    </tr>\n",
       "    <tr>\n",
       "      <th>1526029</th>\n",
       "      <td>18</td>\n",
       "      <td>业务</td>\n",
       "      <td>6058</td>\n",
       "    </tr>\n",
       "    <tr>\n",
       "      <th>1532153</th>\n",
       "      <td>18</td>\n",
       "      <td>关注</td>\n",
       "      <td>6031</td>\n",
       "    </tr>\n",
       "  </tbody>\n",
       "</table>\n",
       "</div>"
      ]
     },
     "metadata": {},
     "execution_count": 39
    }
   ],
   "metadata": {}
  },
  {
   "cell_type": "code",
   "execution_count": null,
   "source": [
    "# remove last week because the lack of data\n",
    "words_stat3 = words_stat2[words_stat2.week!=31]"
   ],
   "outputs": [],
   "metadata": {}
  },
  {
   "cell_type": "code",
   "execution_count": null,
   "source": [
    "week_list = pd.unique(words_stat3.week)\n",
    "week_list = sorted(week_list)\n",
    "week_list"
   ],
   "outputs": [
    {
     "output_type": "execute_result",
     "data": {
      "text/plain": [
       "[1,\n",
       " 2,\n",
       " 3,\n",
       " 4,\n",
       " 5,\n",
       " 6,\n",
       " 7,\n",
       " 8,\n",
       " 9,\n",
       " 10,\n",
       " 11,\n",
       " 12,\n",
       " 13,\n",
       " 14,\n",
       " 15,\n",
       " 16,\n",
       " 17,\n",
       " 18,\n",
       " 19,\n",
       " 20,\n",
       " 21,\n",
       " 22,\n",
       " 23,\n",
       " 24,\n",
       " 25,\n",
       " 26,\n",
       " 27,\n",
       " 28,\n",
       " 29,\n",
       " 30]"
      ]
     },
     "metadata": {},
     "execution_count": 8
    }
   ],
   "metadata": {}
  },
  {
   "cell_type": "code",
   "execution_count": null,
   "source": [
    "lenth_weekly = []\n",
    "for i in range(len(week_list)):\n",
    "    lenth_weekly.append(len(words_stat2[words_stat2.week == i+1]))\n",
    "lenth_weekly"
   ],
   "outputs": [
    {
     "output_type": "execute_result",
     "data": {
      "text/plain": [
       "[58709,\n",
       " 83586,\n",
       " 84090,\n",
       " 66534,\n",
       " 33580,\n",
       " 78414,\n",
       " 84212,\n",
       " 96553,\n",
       " 121727,\n",
       " 104116,\n",
       " 103656,\n",
       " 94943,\n",
       " 93677,\n",
       " 88812,\n",
       " 88014,\n",
       " 97734,\n",
       " 106501,\n",
       " 100775,\n",
       " 84631,\n",
       " 94342,\n",
       " 94344,\n",
       " 95156,\n",
       " 98432,\n",
       " 99809,\n",
       " 101172,\n",
       " 86912,\n",
       " 103905,\n",
       " 110654,\n",
       " 112803,\n",
       " 94119]"
      ]
     },
     "metadata": {},
     "execution_count": 9
    }
   ],
   "metadata": {}
  },
  {
   "cell_type": "code",
   "execution_count": null,
   "source": [
    "keywords_n = ['鸡蛋','原油','科技','医疗','5G','白酒','智能', '数字货币','创业','政策','概念','不确定性','风险','疫情']\n",
    "keywords_v = ['涨', '跌', '上涨','下跌','赚','赔','微笑','大笑','乐观','打新','免税','复苏']"
   ],
   "outputs": [],
   "metadata": {}
  },
  {
   "cell_type": "code",
   "execution_count": null,
   "source": [
    "# Creat words frequency dataframe\n",
    "keydf_n = pd.DataFrame()\n",
    "for i in range(len(keywords_n)):\n",
    "    try:\n",
    "        df = words_stat3[words_stat3.segment==keywords_n[i]]\n",
    "        df['rate'] = df.计数/lenth_weekly\n",
    "    except:\n",
    "        print(keywords_n[i])\n",
    "    keydf_n = pd.concat([keydf_n, df]).reset_index(drop=True)"
   ],
   "outputs": [
    {
     "output_type": "stream",
     "name": "stderr",
     "text": [
      "<ipython-input-17-9b823674c58d>:6: SettingWithCopyWarning: \n",
      "A value is trying to be set on a copy of a slice from a DataFrame.\n",
      "Try using .loc[row_indexer,col_indexer] = value instead\n",
      "\n",
      "See the caveats in the documentation: https://pandas.pydata.org/pandas-docs/stable/user_guide/indexing.html#returning-a-view-versus-a-copy\n",
      "  df['rate'] = df.计数/lenth_weekly\n"
     ]
    },
    {
     "output_type": "stream",
     "name": "stdout",
     "text": [
      "数字货币\n"
     ]
    }
   ],
   "metadata": {}
  },
  {
   "cell_type": "code",
   "execution_count": null,
   "source": [
    "# Creat words frequency dataframe\n",
    "keydf_v = pd.DataFrame()\n",
    "for i in range(len(keywords_v)):\n",
    "    try:\n",
    "        df = words_stat3[words_stat3.segment==keywords_v[i]]\n",
    "        df['rate'] = df.计数/lenth_weekly\n",
    "    except:\n",
    "        print(keywords_v[i])\n",
    "    keydf_v = pd.concat([keydf_v, df]).reset_index(drop=True)"
   ],
   "outputs": [
    {
     "output_type": "stream",
     "name": "stderr",
     "text": [
      "<ipython-input-18-43542d75eb44>:6: SettingWithCopyWarning: \n",
      "A value is trying to be set on a copy of a slice from a DataFrame.\n",
      "Try using .loc[row_indexer,col_indexer] = value instead\n",
      "\n",
      "See the caveats in the documentation: https://pandas.pydata.org/pandas-docs/stable/user_guide/indexing.html#returning-a-view-versus-a-copy\n",
      "  df['rate'] = df.计数/lenth_weekly\n"
     ]
    }
   ],
   "metadata": {}
  },
  {
   "cell_type": "code",
   "execution_count": null,
   "source": [
    "keydf_n"
   ],
   "outputs": [
    {
     "output_type": "execute_result",
     "data": {
      "text/plain": [
       "     week segment    计数      rate\n",
       "0       1      鸡蛋   523  0.008908\n",
       "1       2      鸡蛋   518  0.006197\n",
       "2       3      鸡蛋   328  0.003901\n",
       "3       4      鸡蛋   279  0.004193\n",
       "4       5      鸡蛋   302  0.008993\n",
       "..    ...     ...   ...       ...\n",
       "385    26      疫情  1371  0.015775\n",
       "386    27      疫情  1592  0.015322\n",
       "387    28      疫情  2114  0.019105\n",
       "388    29      疫情  2890  0.025620\n",
       "389    30      疫情  1152  0.012240\n",
       "\n",
       "[390 rows x 4 columns]"
      ],
      "text/html": [
       "<div>\n",
       "<style scoped>\n",
       "    .dataframe tbody tr th:only-of-type {\n",
       "        vertical-align: middle;\n",
       "    }\n",
       "\n",
       "    .dataframe tbody tr th {\n",
       "        vertical-align: top;\n",
       "    }\n",
       "\n",
       "    .dataframe thead th {\n",
       "        text-align: right;\n",
       "    }\n",
       "</style>\n",
       "<table border=\"1\" class=\"dataframe\">\n",
       "  <thead>\n",
       "    <tr style=\"text-align: right;\">\n",
       "      <th></th>\n",
       "      <th>week</th>\n",
       "      <th>segment</th>\n",
       "      <th>计数</th>\n",
       "      <th>rate</th>\n",
       "    </tr>\n",
       "  </thead>\n",
       "  <tbody>\n",
       "    <tr>\n",
       "      <th>0</th>\n",
       "      <td>1</td>\n",
       "      <td>鸡蛋</td>\n",
       "      <td>523</td>\n",
       "      <td>0.008908</td>\n",
       "    </tr>\n",
       "    <tr>\n",
       "      <th>1</th>\n",
       "      <td>2</td>\n",
       "      <td>鸡蛋</td>\n",
       "      <td>518</td>\n",
       "      <td>0.006197</td>\n",
       "    </tr>\n",
       "    <tr>\n",
       "      <th>2</th>\n",
       "      <td>3</td>\n",
       "      <td>鸡蛋</td>\n",
       "      <td>328</td>\n",
       "      <td>0.003901</td>\n",
       "    </tr>\n",
       "    <tr>\n",
       "      <th>3</th>\n",
       "      <td>4</td>\n",
       "      <td>鸡蛋</td>\n",
       "      <td>279</td>\n",
       "      <td>0.004193</td>\n",
       "    </tr>\n",
       "    <tr>\n",
       "      <th>4</th>\n",
       "      <td>5</td>\n",
       "      <td>鸡蛋</td>\n",
       "      <td>302</td>\n",
       "      <td>0.008993</td>\n",
       "    </tr>\n",
       "    <tr>\n",
       "      <th>...</th>\n",
       "      <td>...</td>\n",
       "      <td>...</td>\n",
       "      <td>...</td>\n",
       "      <td>...</td>\n",
       "    </tr>\n",
       "    <tr>\n",
       "      <th>385</th>\n",
       "      <td>26</td>\n",
       "      <td>疫情</td>\n",
       "      <td>1371</td>\n",
       "      <td>0.015775</td>\n",
       "    </tr>\n",
       "    <tr>\n",
       "      <th>386</th>\n",
       "      <td>27</td>\n",
       "      <td>疫情</td>\n",
       "      <td>1592</td>\n",
       "      <td>0.015322</td>\n",
       "    </tr>\n",
       "    <tr>\n",
       "      <th>387</th>\n",
       "      <td>28</td>\n",
       "      <td>疫情</td>\n",
       "      <td>2114</td>\n",
       "      <td>0.019105</td>\n",
       "    </tr>\n",
       "    <tr>\n",
       "      <th>388</th>\n",
       "      <td>29</td>\n",
       "      <td>疫情</td>\n",
       "      <td>2890</td>\n",
       "      <td>0.025620</td>\n",
       "    </tr>\n",
       "    <tr>\n",
       "      <th>389</th>\n",
       "      <td>30</td>\n",
       "      <td>疫情</td>\n",
       "      <td>1152</td>\n",
       "      <td>0.012240</td>\n",
       "    </tr>\n",
       "  </tbody>\n",
       "</table>\n",
       "<p>390 rows × 4 columns</p>\n",
       "</div>"
      ]
     },
     "metadata": {},
     "execution_count": 19
    }
   ],
   "metadata": {}
  },
  {
   "cell_type": "code",
   "execution_count": null,
   "source": [
    "day_list=[]\n",
    "for i in range(30):\n",
    "    wk = '2020-W' + (str(i+1)) + '-1'\n",
    "    day_list.append(datetime.datetime.strptime(wk, '%Y-W%W-%w'))\n",
    "day_list"
   ],
   "outputs": [
    {
     "output_type": "execute_result",
     "data": {
      "text/plain": [
       "[datetime.datetime(2020, 1, 6, 0, 0),\n",
       " datetime.datetime(2020, 1, 13, 0, 0),\n",
       " datetime.datetime(2020, 1, 20, 0, 0),\n",
       " datetime.datetime(2020, 1, 27, 0, 0),\n",
       " datetime.datetime(2020, 2, 3, 0, 0),\n",
       " datetime.datetime(2020, 2, 10, 0, 0),\n",
       " datetime.datetime(2020, 2, 17, 0, 0),\n",
       " datetime.datetime(2020, 2, 24, 0, 0),\n",
       " datetime.datetime(2020, 3, 2, 0, 0),\n",
       " datetime.datetime(2020, 3, 9, 0, 0),\n",
       " datetime.datetime(2020, 3, 16, 0, 0),\n",
       " datetime.datetime(2020, 3, 23, 0, 0),\n",
       " datetime.datetime(2020, 3, 30, 0, 0),\n",
       " datetime.datetime(2020, 4, 6, 0, 0),\n",
       " datetime.datetime(2020, 4, 13, 0, 0),\n",
       " datetime.datetime(2020, 4, 20, 0, 0),\n",
       " datetime.datetime(2020, 4, 27, 0, 0),\n",
       " datetime.datetime(2020, 5, 4, 0, 0),\n",
       " datetime.datetime(2020, 5, 11, 0, 0),\n",
       " datetime.datetime(2020, 5, 18, 0, 0),\n",
       " datetime.datetime(2020, 5, 25, 0, 0),\n",
       " datetime.datetime(2020, 6, 1, 0, 0),\n",
       " datetime.datetime(2020, 6, 8, 0, 0),\n",
       " datetime.datetime(2020, 6, 15, 0, 0),\n",
       " datetime.datetime(2020, 6, 22, 0, 0),\n",
       " datetime.datetime(2020, 6, 29, 0, 0),\n",
       " datetime.datetime(2020, 7, 6, 0, 0),\n",
       " datetime.datetime(2020, 7, 13, 0, 0),\n",
       " datetime.datetime(2020, 7, 20, 0, 0),\n",
       " datetime.datetime(2020, 7, 27, 0, 0)]"
      ]
     },
     "metadata": {},
     "execution_count": 23
    }
   ],
   "metadata": {}
  },
  {
   "cell_type": "code",
   "execution_count": null,
   "source": [
    "y =  keydf_n[keydf_n.segment == '鸡蛋'].rate\n",
    "y_max = np.max(y)\n",
    "plt.plot(day_list, y )#添加label设置图例名称\n",
    "plt.vlines(pd.to_datetime('2020-3-20'), 0,y_max, colors = \"r\", linestyles = \"dashed\")\n",
    "plt.title('egg')"
   ],
   "outputs": [
    {
     "output_type": "execute_result",
     "data": {
      "text/plain": [
       "Text(0.5, 1.0, 'egg')"
      ]
     },
     "metadata": {},
     "execution_count": 30
    },
    {
     "output_type": "display_data",
     "data": {
      "text/plain": [
       "<Figure size 432x288 with 1 Axes>"
      ],
      "image/png": "[encoded data removed]"
     },
     "metadata": {
      "needs_background": "light"
     }
    }
   ],
   "metadata": {}
  },
  {
   "cell_type": "code",
   "execution_count": null,
   "source": [
    "y =  keydf_n[keydf_n.segment == '原油'].rate\n",
    "y_max = np.max(y)\n",
    "plt.plot(day_list, y )#添加label设置图例名称\n",
    "plt.vlines(pd.to_datetime('2020-3-20'), 0,y_max, colors = \"r\", linestyles = \"dashed\")\n",
    "plt.title('oil')"
   ],
   "outputs": [
    {
     "output_type": "execute_result",
     "data": {
      "text/plain": [
       "Text(0.5, 1.0, 'oil')"
      ]
     },
     "metadata": {},
     "execution_count": 31
    },
    {
     "output_type": "display_data",
     "data": {
      "text/plain": [
       "<Figure size 432x288 with 1 Axes>"
      ],
      "image/png": "[encoded data removed]"
     },
     "metadata": {
      "needs_background": "light"
     }
    }
   ],
   "metadata": {}
  },
  {
   "cell_type": "code",
   "execution_count": null,
   "source": [
    "y =  keydf_n[keydf_n.segment == '疫情'].rate\n",
    "y_max = np.max(y)\n",
    "plt.plot(day_list, y)#添加label设置图例名称\n",
    "plt.vlines(pd.to_datetime('2020-3-20'), 0, y_max, colors = \"r\", linestyles = \"dashed\")\n",
    "plt.title('covid19')"
   ],
   "outputs": [
    {
     "output_type": "execute_result",
     "data": {
      "text/plain": [
       "Text(0.5, 1.0, 'covid19')"
      ]
     },
     "metadata": {},
     "execution_count": 33
    },
    {
     "output_type": "display_data",
     "data": {
      "text/plain": [
       "<Figure size 432x288 with 1 Axes>"
      ],
      "image/png": "[encoded data removed]"
     },
     "metadata": {
      "needs_background": "light"
     }
    }
   ],
   "metadata": {}
  },
  {
   "cell_type": "code",
   "execution_count": null,
   "source": [
    "y =  keydf_n[keydf_n.segment == '疫情'].rate\n",
    "y_max = np.max(y)\n",
    "plt.plot(day_list, y)#添加label设置图例名称\n",
    "plt.vlines(pd.to_datetime('2020-3-20'), 0, y_max, colors = \"r\", linestyles = \"dashed\")\n",
    "plt.title('covid19')"
   ],
   "outputs": [
    {
     "output_type": "execute_result",
     "data": {
      "text/plain": [
       "Text(0.5, 1.0, 'covid19')"
      ]
     },
     "metadata": {},
     "execution_count": 34
    },
    {
     "output_type": "display_data",
     "data": {
      "text/plain": [
       "<Figure size 432x288 with 1 Axes>"
      ],
      "image/png": "[encoded data removed]"
     },
     "metadata": {
      "needs_background": "light"
     }
    }
   ],
   "metadata": {}
  },
  {
   "cell_type": "code",
   "execution_count": null,
   "source": [
    "y =  keydf_n[keydf_n.segment == '5G'].rate\n",
    "y_max = np.max(y)\n",
    "plt.plot(day_list, y)#添加label设置图例名称\n",
    "plt.vlines(pd.to_datetime('2020-3-20'), 0, y_max, colors = \"r\", linestyles = \"dashed\")\n",
    "plt.title('5G')"
   ],
   "outputs": [
    {
     "output_type": "execute_result",
     "data": {
      "text/plain": [
       "Text(0.5, 1.0, '5G')"
      ]
     },
     "metadata": {},
     "execution_count": 35
    },
    {
     "output_type": "display_data",
     "data": {
      "text/plain": [
       "<Figure size 432x288 with 1 Axes>"
      ],
      "image/png": "[encoded data removed]"
     },
     "metadata": {
      "needs_background": "light"
     }
    }
   ],
   "metadata": {}
  },
  {
   "cell_type": "code",
   "execution_count": null,
   "source": [
    "y =  keydf_v[keydf_v.segment == '微笑'].rate\n",
    "y_max = np.max(y)\n",
    "plt.plot(day_list, y)#添加label设置图例名称\n",
    "plt.vlines(pd.to_datetime('2020-3-20'), 0, y_max, colors = \"r\", linestyles = \"dashed\")\n",
    "plt.title('smile')"
   ],
   "outputs": [
    {
     "output_type": "execute_result",
     "data": {
      "text/plain": [
       "Text(0.5, 1.0, 'smile')"
      ]
     },
     "metadata": {},
     "execution_count": 39
    },
    {
     "output_type": "display_data",
     "data": {
      "text/plain": [
       "<Figure size 432x288 with 1 Axes>"
      ],
      "image/png": "[encoded data removed]"
     },
     "metadata": {
      "needs_background": "light"
     }
    }
   ],
   "metadata": {}
  },
  {
   "cell_type": "code",
   "execution_count": null,
   "source": [
    "y =  keydf_v[keydf_v.segment == '大笑'].rate\n",
    "y_max = np.max(y)\n",
    "plt.plot(day_list, y)#添加label设置图例名称\n",
    "plt.vlines(pd.to_datetime('2020-3-20'), 0, y_max, colors = \"r\", linestyles = \"dashed\")\n",
    "plt.title('laugh')"
   ],
   "outputs": [
    {
     "output_type": "execute_result",
     "data": {
      "text/plain": [
       "Text(0.5, 1.0, 'laugh')"
      ]
     },
     "metadata": {},
     "execution_count": 40
    },
    {
     "output_type": "display_data",
     "data": {
      "text/plain": [
       "<Figure size 432x288 with 1 Axes>"
      ],
      "image/png": "[encoded data removed]"
     },
     "metadata": {
      "needs_background": "light"
     }
    }
   ],
   "metadata": {}
  },
  {
   "cell_type": "code",
   "execution_count": null,
   "source": [
    "y =  keydf_v[keydf_v.segment == '涨'].rate\n",
    "y_max = np.max(y)\n",
    "plt.plot(day_list, y)#添加label设置图例名称\n",
    "plt.vlines(pd.to_datetime('2020-3-20'), 0, y_max, colors = \"r\", linestyles = \"dashed\")\n",
    "plt.title('up')"
   ],
   "outputs": [
    {
     "output_type": "execute_result",
     "data": {
      "text/plain": [
       "Text(0.5, 1.0, 'up')"
      ]
     },
     "metadata": {},
     "execution_count": 41
    },
    {
     "output_type": "display_data",
     "data": {
      "text/plain": [
       "<Figure size 432x288 with 1 Axes>"
      ],
      "image/png": "[encoded data removed]"
     },
     "metadata": {
      "needs_background": "light"
     }
    }
   ],
   "metadata": {}
  },
  {
   "cell_type": "code",
   "execution_count": null,
   "source": [
    "y =  keydf_v[keydf_v.segment == '跌'].rate\n",
    "y_max = np.max(y)\n",
    "plt.plot(day_list, y)#添加label设置图例名称\n",
    "plt.vlines(pd.to_datetime('2020-3-20'), 0, y_max, colors = \"r\", linestyles = \"dashed\")\n",
    "plt.title('down')"
   ],
   "outputs": [
    {
     "output_type": "execute_result",
     "data": {
      "text/plain": [
       "Text(0.5, 1.0, 'down')"
      ]
     },
     "metadata": {},
     "execution_count": 42
    },
    {
     "output_type": "display_data",
     "data": {
      "text/plain": [
       "<Figure size 432x288 with 1 Axes>"
      ],
      "image/png": "[encoded data removed]"
     },
     "metadata": {
      "needs_background": "light"
     }
    }
   ],
   "metadata": {}
  },
  {
   "cell_type": "code",
   "execution_count": null,
   "source": [
    "plt.plot(day_list, keydf_v[keydf_v.segment == '跌'].rate )#添加label设置图例名称\n",
    "plt.title('down')"
   ],
   "outputs": [],
   "metadata": {}
  },
  {
   "cell_type": "markdown",
   "source": [
    "# Correlation analysis"
   ],
   "metadata": {}
  },
  {
   "cell_type": "code",
   "execution_count": null,
   "source": [
    "keywords = ['鸡蛋','原油','科技','医疗','5G','白酒','智能','数字货币','创业','政策','概念','不确定性','风险','疫情','涨', '跌', '上涨','下跌','赚','赔','微笑','大笑','乐观','打新','免税','复苏']\n",
    "\n",
    "# Creat words frequency dataframe\n",
    "keydf = pd.DataFrame()\n",
    "for i in range(len(keywords)):\n",
    "    try:\n",
    "        df = words_stat3[words_stat3.segment==keywords[i]]\n",
    "        df['rate'] = df.计数/lenth_weekly\n",
    "    except:\n",
    "        print(keywords[i])\n",
    "    keydf = pd.concat([keydf, df]).reset_index(drop=True)\n"
   ],
   "outputs": [
    {
     "output_type": "stream",
     "name": "stderr",
     "text": [
      "<ipython-input-11-164dd71dda3d>:8: SettingWithCopyWarning: \n",
      "A value is trying to be set on a copy of a slice from a DataFrame.\n",
      "Try using .loc[row_indexer,col_indexer] = value instead\n",
      "\n",
      "See the caveats in the documentation: https://pandas.pydata.org/pandas-docs/stable/user_guide/indexing.html#returning-a-view-versus-a-copy\n",
      "  df['rate'] = df.计数/lenth_weekly\n"
     ]
    },
    {
     "output_type": "stream",
     "name": "stdout",
     "text": [
      "数字货币\n"
     ]
    }
   ],
   "metadata": {}
  },
  {
   "cell_type": "code",
   "execution_count": null,
   "source": [
    "day_list=[]\n",
    "for i in range(30):\n",
    "    wk = '2020-W' + (str(i+1)) + '-1'\n",
    "    day_list.append(datetime.datetime.strptime(wk, '%Y-W%W-%w'))\n",
    "day_list"
   ],
   "outputs": [
    {
     "output_type": "execute_result",
     "data": {
      "text/plain": [
       "[datetime.datetime(2020, 1, 6, 0, 0),\n",
       " datetime.datetime(2020, 1, 13, 0, 0),\n",
       " datetime.datetime(2020, 1, 20, 0, 0),\n",
       " datetime.datetime(2020, 1, 27, 0, 0),\n",
       " datetime.datetime(2020, 2, 3, 0, 0),\n",
       " datetime.datetime(2020, 2, 10, 0, 0),\n",
       " datetime.datetime(2020, 2, 17, 0, 0),\n",
       " datetime.datetime(2020, 2, 24, 0, 0),\n",
       " datetime.datetime(2020, 3, 2, 0, 0),\n",
       " datetime.datetime(2020, 3, 9, 0, 0),\n",
       " datetime.datetime(2020, 3, 16, 0, 0),\n",
       " datetime.datetime(2020, 3, 23, 0, 0),\n",
       " datetime.datetime(2020, 3, 30, 0, 0),\n",
       " datetime.datetime(2020, 4, 6, 0, 0),\n",
       " datetime.datetime(2020, 4, 13, 0, 0),\n",
       " datetime.datetime(2020, 4, 20, 0, 0),\n",
       " datetime.datetime(2020, 4, 27, 0, 0),\n",
       " datetime.datetime(2020, 5, 4, 0, 0),\n",
       " datetime.datetime(2020, 5, 11, 0, 0),\n",
       " datetime.datetime(2020, 5, 18, 0, 0),\n",
       " datetime.datetime(2020, 5, 25, 0, 0),\n",
       " datetime.datetime(2020, 6, 1, 0, 0),\n",
       " datetime.datetime(2020, 6, 8, 0, 0),\n",
       " datetime.datetime(2020, 6, 15, 0, 0),\n",
       " datetime.datetime(2020, 6, 22, 0, 0),\n",
       " datetime.datetime(2020, 6, 29, 0, 0),\n",
       " datetime.datetime(2020, 7, 6, 0, 0),\n",
       " datetime.datetime(2020, 7, 13, 0, 0),\n",
       " datetime.datetime(2020, 7, 20, 0, 0),\n",
       " datetime.datetime(2020, 7, 27, 0, 0)]"
      ]
     },
     "metadata": {},
     "execution_count": 14
    }
   ],
   "metadata": {}
  },
  {
   "cell_type": "code",
   "execution_count": null,
   "source": [
    "def get_pictures(str1,str2):\n",
    "    y1 =  keydf[keydf.segment == str1].rate\n",
    "    y2 = keydf[keydf.segment == str2].rate\n",
    "\n",
    "    plt.plot(day_list, y1,linestyle='--',label='word1')\n",
    "    plt.xticks(rotation=45)\n",
    "    plt.legend(loc='upper left')\n",
    "    plt.twinx()\n",
    "    plt.plot(day_list, y2,color='red',label='word2')\n",
    "    plt.xticks(rotation=45)\n",
    "    plt.legend(loc='upper right')\n",
    "\n",
    "    plt.show()"
   ],
   "outputs": [],
   "metadata": {}
  },
  {
   "cell_type": "code",
   "execution_count": null,
   "source": [
    "def get_correlations(str1,str2):\n",
    "    y1 =  keydf[keydf.segment == str1].rate\n",
    "    y2 = keydf[keydf.segment == str2].rate\n",
    "\n",
    "    # yb1 = np.round(y1.rolling(window=2,min_periods=1).mean(), 2)\n",
    "    # yb2 = np.round(y2.rolling(window=2,min_periods=1).mean(), 2)\n",
    "    d1 =  pd.DataFrame(y1).reset_index(drop = True)\n",
    "    d2 = pd.DataFrame(y2).reset_index(drop = True)\n",
    "    pears = 'The whole pearson correaltion is ' + str(d1.rate.corr(d2.rate))\n",
    "    sp = 'The whole spearman correaltion is ' +str(d1.rate.corr(d2.rate,'spearman'))\n",
    "    kd = 'The whole kendall correaltion is ' + str(d1.rate.corr(d2.rate,'kendall'))\n",
    "\n",
    "    mine = MINE(alpha=0.6, c=15)\n",
    "    mine.compute_score(y1, y2)\n",
    "    mic = 'The whole MIC is ' + str(mine.mic())\n",
    "    \n",
    "\n",
    "    y11 = y1.reset_index()\n",
    "    y11 = y11['rate']\n",
    "    y1a = y11[:13]\n",
    "    y21 = y2.reset_index()\n",
    "    y21 = y21['rate']\n",
    "    y2a = y21[:13]\n",
    "    d1 =  pd.DataFrame(y1a).reset_index(drop = True)\n",
    "    d2 = pd.DataFrame(y2a).reset_index(drop = True)\n",
    "    pears1 = 'before w12 is ' + str(d1.rate.corr(d2.rate))\n",
    "    sp1 =  'before w12 is '+ str(d1.rate.corr(d2.rate,'spearman'))\n",
    "    kd1 = 'before w12 is ' + str(d1.rate.corr(d2.rate,'kendall'))\n",
    "    mine = MINE(alpha=0.6, c=15)\n",
    "    mine.compute_score(y1a, y2a)\n",
    "    mic1 = 'MIC before week 12 (included) is ' + str(mine.mic())\n",
    "    \n",
    "    y11 = y1.reset_index()\n",
    "    y11 = y11['rate']\n",
    "    y1a = y11[13:]\n",
    "    y21 = y2.reset_index()\n",
    "    y21 = y21['rate']\n",
    "    y2a = y21[13:]\n",
    "    d1 =  pd.DataFrame(y1a).reset_index(drop = True)\n",
    "    d2 = pd.DataFrame(y2a).reset_index(drop = True)\n",
    "    pears2 = 'after w12 is ' + str(d1.rate.corr(d2.rate))\n",
    "    sp2 =  'after w12 is ' + str(d1.rate.corr(d2.rate,'spearman'))\n",
    "    kd2 = 'after w12 is ' + str(d1.rate.corr(d2.rate,'kendall'))\n",
    "    mine = MINE(alpha=0.6, c=15)\n",
    "    mine.compute_score(y1a, y2a)\n",
    "    mic2 = 'MIC after week 12 is ' +str(mine.mic())\n",
    "\n",
    "    print(mic + '; ' + mic1 + '; ' + mic2 )\n",
    "    print(pears + '; ' + pears1 + '; ' + pears2)\n",
    "    print(sp + '; ' + sp1 + '; ' + sp2)\n",
    "    print(kd + '; ' + kd1 + '; ' + kd2)\n"
   ],
   "outputs": [],
   "metadata": {}
  },
  {
   "cell_type": "code",
   "execution_count": null,
   "source": [
    "get_pictures('疫情','医疗')\n",
    "get_correlations('疫情','医疗')"
   ],
   "outputs": [
    {
     "output_type": "display_data",
     "data": {
      "text/plain": [
       "<Figure size 432x288 with 2 Axes>"
      ],
      "image/png": "[encoded data removed]"
     },
     "metadata": {
      "needs_background": "light"
     }
    },
    {
     "output_type": "stream",
     "name": "stdout",
     "text": [
      "The whole MIC is 0.7303078961588813; MIC before week 12 (included) is 0.6771344174636726; MIC after week 12 is 0.34929372233065203\n",
      "The whole pearson correaltion is 0.7763293673582529; before w12 is 0.8613401379427369; after w12 is 0.34214927509760196\n",
      "The whole spearman correaltion is 0.7116796440489432; before w12 is 0.8241758241758241; after w12 is 0.24754901960784317\n",
      "The whole kendall correaltion is 0.503448275862069; before w12 is 0.6410256410256409; after w12 is 0.1764705882352941\n"
     ]
    },
    {
     "output_type": "stream",
     "name": "stderr",
     "text": [
      "<ipython-input-32-47b9cacb4653>:14: DeprecationWarning: `np.float` is a deprecated alias for the builtin `float`. To silence this warning, use `float` by itself. Doing this will not modify any behavior and is safe. If you specifically wanted the numpy scalar type, use `np.float64` here.\n",
      "Deprecated in NumPy 1.20; for more details and guidance: https://numpy.org/devdocs/release/1.20.0-notes.html#deprecations\n",
      "  mine.compute_score(y1, y2)\n",
      "<ipython-input-32-47b9cacb4653>:30: DeprecationWarning: `np.float` is a deprecated alias for the builtin `float`. To silence this warning, use `float` by itself. Doing this will not modify any behavior and is safe. If you specifically wanted the numpy scalar type, use `np.float64` here.\n",
      "Deprecated in NumPy 1.20; for more details and guidance: https://numpy.org/devdocs/release/1.20.0-notes.html#deprecations\n",
      "  mine.compute_score(y1a, y2a)\n",
      "<ipython-input-32-47b9cacb4653>:45: DeprecationWarning: `np.float` is a deprecated alias for the builtin `float`. To silence this warning, use `float` by itself. Doing this will not modify any behavior and is safe. If you specifically wanted the numpy scalar type, use `np.float64` here.\n",
      "Deprecated in NumPy 1.20; for more details and guidance: https://numpy.org/devdocs/release/1.20.0-notes.html#deprecations\n",
      "  mine.compute_score(y1a, y2a)\n"
     ]
    }
   ],
   "metadata": {}
  },
  {
   "cell_type": "code",
   "execution_count": null,
   "source": [
    "get_pictures('疫情','不确定性')\n",
    "get_correlations('疫情','不确定性')"
   ],
   "outputs": [
    {
     "output_type": "display_data",
     "data": {
      "text/plain": [
       "<Figure size 432x288 with 2 Axes>"
      ],
      "image/png": "[encoded data removed]"
     },
     "metadata": {
      "needs_background": "light"
     }
    },
    {
     "output_type": "stream",
     "name": "stdout",
     "text": [
      "The whole MIC is 0.3517930639547578; MIC before week 12 (included) is 0.1103601440597768; MIC after week 12 is 0.34929372233065203\n",
      "The whole pearson correaltion is 0.19520932777540534; before w12 is 0.040056931241710204; after w12 is -0.15988537279554263\n",
      "The whole spearman correaltion is 0.2040044493882091; before w12 is 0.07142857142857142; after w12 is -0.25490196078431376\n",
      "The whole kendall correaltion is 0.12183908045977011; before w12 is 0.07692307692307691; after w12 is -0.24999999999999997\n"
     ]
    },
    {
     "output_type": "stream",
     "name": "stderr",
     "text": [
      "<ipython-input-32-47b9cacb4653>:14: DeprecationWarning: `np.float` is a deprecated alias for the builtin `float`. To silence this warning, use `float` by itself. Doing this will not modify any behavior and is safe. If you specifically wanted the numpy scalar type, use `np.float64` here.\n",
      "Deprecated in NumPy 1.20; for more details and guidance: https://numpy.org/devdocs/release/1.20.0-notes.html#deprecations\n",
      "  mine.compute_score(y1, y2)\n",
      "<ipython-input-32-47b9cacb4653>:30: DeprecationWarning: `np.float` is a deprecated alias for the builtin `float`. To silence this warning, use `float` by itself. Doing this will not modify any behavior and is safe. If you specifically wanted the numpy scalar type, use `np.float64` here.\n",
      "Deprecated in NumPy 1.20; for more details and guidance: https://numpy.org/devdocs/release/1.20.0-notes.html#deprecations\n",
      "  mine.compute_score(y1a, y2a)\n",
      "<ipython-input-32-47b9cacb4653>:45: DeprecationWarning: `np.float` is a deprecated alias for the builtin `float`. To silence this warning, use `float` by itself. Doing this will not modify any behavior and is safe. If you specifically wanted the numpy scalar type, use `np.float64` here.\n",
      "Deprecated in NumPy 1.20; for more details and guidance: https://numpy.org/devdocs/release/1.20.0-notes.html#deprecations\n",
      "  mine.compute_score(y1a, y2a)\n"
     ]
    }
   ],
   "metadata": {}
  },
  {
   "cell_type": "code",
   "execution_count": null,
   "source": [
    "get_pictures('疫情','风险')\n",
    "get_correlations('疫情','风险')"
   ],
   "outputs": [
    {
     "output_type": "display_data",
     "data": {
      "text/plain": [
       "<Figure size 432x288 with 2 Axes>"
      ],
      "image/png": "[encoded data removed]"
     },
     "metadata": {
      "needs_background": "light"
     }
    },
    {
     "output_type": "stream",
     "name": "stdout",
     "text": [
      "The whole MIC is 0.2637106097050172; MIC before week 12 (included) is 0.1955533481920762; MIC after week 12 is 0.34929372233065203\n",
      "The whole pearson correaltion is -0.2701793448160346; before w12 is -0.4556225755499712; after w12 is 0.577039513324806\n",
      "The whole spearman correaltion is -0.0064516129032258064; before w12 is -0.23626373626373626; after w12 is 0.5073529411764706\n",
      "The whole kendall correaltion is 0.006896551724137931; before w12 is -0.15384615384615383; after w12 is 0.3529411764705882\n"
     ]
    },
    {
     "output_type": "stream",
     "name": "stderr",
     "text": [
      "<ipython-input-32-47b9cacb4653>:14: DeprecationWarning: `np.float` is a deprecated alias for the builtin `float`. To silence this warning, use `float` by itself. Doing this will not modify any behavior and is safe. If you specifically wanted the numpy scalar type, use `np.float64` here.\n",
      "Deprecated in NumPy 1.20; for more details and guidance: https://numpy.org/devdocs/release/1.20.0-notes.html#deprecations\n",
      "  mine.compute_score(y1, y2)\n",
      "<ipython-input-32-47b9cacb4653>:30: DeprecationWarning: `np.float` is a deprecated alias for the builtin `float`. To silence this warning, use `float` by itself. Doing this will not modify any behavior and is safe. If you specifically wanted the numpy scalar type, use `np.float64` here.\n",
      "Deprecated in NumPy 1.20; for more details and guidance: https://numpy.org/devdocs/release/1.20.0-notes.html#deprecations\n",
      "  mine.compute_score(y1a, y2a)\n",
      "<ipython-input-32-47b9cacb4653>:45: DeprecationWarning: `np.float` is a deprecated alias for the builtin `float`. To silence this warning, use `float` by itself. Doing this will not modify any behavior and is safe. If you specifically wanted the numpy scalar type, use `np.float64` here.\n",
      "Deprecated in NumPy 1.20; for more details and guidance: https://numpy.org/devdocs/release/1.20.0-notes.html#deprecations\n",
      "  mine.compute_score(y1a, y2a)\n"
     ]
    }
   ],
   "metadata": {}
  },
  {
   "cell_type": "code",
   "execution_count": null,
   "source": [
    "# keywords = ['鸡蛋','原油','科技','医疗','5G','白酒','智能','数字货币','创业','政策','概念','不确定性','风险','疫情','涨', '跌', '上涨','下跌','赚','赔','微笑','大笑','乐观','打新','免税','复苏']\n",
    "\n",
    "get_pictures('疫情','跌')\n",
    "get_correlations('疫情','跌')"
   ],
   "outputs": [
    {
     "output_type": "display_data",
     "data": {
      "text/plain": [
       "<Figure size 432x288 with 2 Axes>"
      ],
      "image/png": "[encoded data removed]"
     },
     "metadata": {
      "needs_background": "light"
     }
    },
    {
     "output_type": "stream",
     "name": "stdout",
     "text": [
      "The whole MIC is 0.514524702772666; MIC before week 12 (included) is 0.46666279373280384; MIC after week 12 is 0.15618502398692874\n",
      "The whole pearson correaltion is 0.4497272440550477; before w12 is 0.4041893215293689; after w12 is 0.13968769237604756\n",
      "The whole spearman correaltion is 0.4651835372636262; before w12 is 0.46703296703296704; after w12 is 0.07107843137254903\n",
      "The whole kendall correaltion is 0.31494252873563217; before w12 is 0.3589743589743589; after w12 is 0.02941176470588235\n"
     ]
    },
    {
     "output_type": "stream",
     "name": "stderr",
     "text": [
      "<ipython-input-32-47b9cacb4653>:14: DeprecationWarning: `np.float` is a deprecated alias for the builtin `float`. To silence this warning, use `float` by itself. Doing this will not modify any behavior and is safe. If you specifically wanted the numpy scalar type, use `np.float64` here.\n",
      "Deprecated in NumPy 1.20; for more details and guidance: https://numpy.org/devdocs/release/1.20.0-notes.html#deprecations\n",
      "  mine.compute_score(y1, y2)\n",
      "<ipython-input-32-47b9cacb4653>:30: DeprecationWarning: `np.float` is a deprecated alias for the builtin `float`. To silence this warning, use `float` by itself. Doing this will not modify any behavior and is safe. If you specifically wanted the numpy scalar type, use `np.float64` here.\n",
      "Deprecated in NumPy 1.20; for more details and guidance: https://numpy.org/devdocs/release/1.20.0-notes.html#deprecations\n",
      "  mine.compute_score(y1a, y2a)\n",
      "<ipython-input-32-47b9cacb4653>:45: DeprecationWarning: `np.float` is a deprecated alias for the builtin `float`. To silence this warning, use `float` by itself. Doing this will not modify any behavior and is safe. If you specifically wanted the numpy scalar type, use `np.float64` here.\n",
      "Deprecated in NumPy 1.20; for more details and guidance: https://numpy.org/devdocs/release/1.20.0-notes.html#deprecations\n",
      "  mine.compute_score(y1a, y2a)\n"
     ]
    }
   ],
   "metadata": {}
  },
  {
   "cell_type": "code",
   "execution_count": null,
   "source": [
    "# keywords = ['鸡蛋','原油','科技','医疗','5G','白酒','智能','数字货币','创业','政策','概念','不确定性','风险','疫情','涨', '跌', '上涨','下跌','赚','赔','微笑','大笑','乐观','打新','免税','复苏']\n",
    "\n",
    "get_pictures('疫情','涨')\n",
    "get_correlations('疫情','涨')"
   ],
   "outputs": [
    {
     "output_type": "display_data",
     "data": {
      "text/plain": [
       "<Figure size 432x288 with 2 Axes>"
      ],
      "image/png": "[encoded data removed]"
     },
     "metadata": {
      "needs_background": "light"
     }
    },
    {
     "output_type": "stream",
     "name": "stdout",
     "text": [
      "The whole MIC is 0.1916661760404042; MIC before week 12 (included) is 0.23095987440365312; MIC after week 12 is 0.1861381990467906\n",
      "The whole pearson correaltion is 0.15967329548518086; before w12 is 0.07015718723724114; after w12 is -0.26343283218109875\n",
      "The whole spearman correaltion is 0.185761957730812; before w12 is 0.19780219780219782; after w12 is -0.3651960784313726\n",
      "The whole kendall correaltion is 0.10344827586206898; before w12 is 0.17948717948717946; after w12 is -0.2794117647058823\n"
     ]
    },
    {
     "output_type": "stream",
     "name": "stderr",
     "text": [
      "<ipython-input-32-47b9cacb4653>:14: DeprecationWarning: `np.float` is a deprecated alias for the builtin `float`. To silence this warning, use `float` by itself. Doing this will not modify any behavior and is safe. If you specifically wanted the numpy scalar type, use `np.float64` here.\n",
      "Deprecated in NumPy 1.20; for more details and guidance: https://numpy.org/devdocs/release/1.20.0-notes.html#deprecations\n",
      "  mine.compute_score(y1, y2)\n",
      "<ipython-input-32-47b9cacb4653>:30: DeprecationWarning: `np.float` is a deprecated alias for the builtin `float`. To silence this warning, use `float` by itself. Doing this will not modify any behavior and is safe. If you specifically wanted the numpy scalar type, use `np.float64` here.\n",
      "Deprecated in NumPy 1.20; for more details and guidance: https://numpy.org/devdocs/release/1.20.0-notes.html#deprecations\n",
      "  mine.compute_score(y1a, y2a)\n",
      "<ipython-input-32-47b9cacb4653>:45: DeprecationWarning: `np.float` is a deprecated alias for the builtin `float`. To silence this warning, use `float` by itself. Doing this will not modify any behavior and is safe. If you specifically wanted the numpy scalar type, use `np.float64` here.\n",
      "Deprecated in NumPy 1.20; for more details and guidance: https://numpy.org/devdocs/release/1.20.0-notes.html#deprecations\n",
      "  mine.compute_score(y1a, y2a)\n"
     ]
    }
   ],
   "metadata": {}
  },
  {
   "cell_type": "code",
   "execution_count": null,
   "source": [
    "# keywords = ['鸡蛋','原油','科技','医疗','5G','白酒','智能','数字货币','创业','政策','概念','不确定性','风险','疫情','涨', '跌', '上涨','下跌','赚','赔','微笑','大笑','乐观','打新','免税','复苏']\n",
    "\n",
    "get_pictures('疫情','乐观')\n",
    "get_correlations('疫情','乐观')"
   ],
   "outputs": [
    {
     "output_type": "display_data",
     "data": {
      "text/plain": [
       "<Figure size 432x288 with 2 Axes>"
      ],
      "image/png": "[encoded data removed]"
     },
     "metadata": {
      "needs_background": "light"
     }
    },
    {
     "output_type": "stream",
     "name": "stdout",
     "text": [
      "The whole MIC is 0.31501296236274995; MIC before week 12 (included) is 0.1103601440597768; MIC after week 12 is 0.1861381990467906\n",
      "The whole pearson correaltion is 0.23392847544875986; before w12 is 0.0890652883606759; after w12 is -0.15299885939883548\n",
      "The whole spearman correaltion is 0.24938820912124582; before w12 is 0.0934065934065934; after w12 is -0.24019607843137256\n",
      "The whole kendall correaltion is 0.15402298850574714; before w12 is 0.07692307692307691; after w12 is -0.2205882352941176\n"
     ]
    },
    {
     "output_type": "stream",
     "name": "stderr",
     "text": [
      "<ipython-input-32-47b9cacb4653>:14: DeprecationWarning: `np.float` is a deprecated alias for the builtin `float`. To silence this warning, use `float` by itself. Doing this will not modify any behavior and is safe. If you specifically wanted the numpy scalar type, use `np.float64` here.\n",
      "Deprecated in NumPy 1.20; for more details and guidance: https://numpy.org/devdocs/release/1.20.0-notes.html#deprecations\n",
      "  mine.compute_score(y1, y2)\n",
      "<ipython-input-32-47b9cacb4653>:30: DeprecationWarning: `np.float` is a deprecated alias for the builtin `float`. To silence this warning, use `float` by itself. Doing this will not modify any behavior and is safe. If you specifically wanted the numpy scalar type, use `np.float64` here.\n",
      "Deprecated in NumPy 1.20; for more details and guidance: https://numpy.org/devdocs/release/1.20.0-notes.html#deprecations\n",
      "  mine.compute_score(y1a, y2a)\n",
      "<ipython-input-32-47b9cacb4653>:45: DeprecationWarning: `np.float` is a deprecated alias for the builtin `float`. To silence this warning, use `float` by itself. Doing this will not modify any behavior and is safe. If you specifically wanted the numpy scalar type, use `np.float64` here.\n",
      "Deprecated in NumPy 1.20; for more details and guidance: https://numpy.org/devdocs/release/1.20.0-notes.html#deprecations\n",
      "  mine.compute_score(y1a, y2a)\n"
     ]
    }
   ],
   "metadata": {}
  },
  {
   "cell_type": "code",
   "execution_count": null,
   "source": [
    "# keywords = ['鸡蛋','原油','科技','医疗','5G','白酒','智能','数字货币','创业','政策','概念','不确定性','风险','疫情','涨', '跌', '上涨','下跌','赚','赔','微笑','大笑','乐观','打新','免税','复苏']\n",
    "\n",
    "get_pictures('疫情','创业')\n",
    "get_correlations('疫情','创业')"
   ],
   "outputs": [
    {
     "output_type": "display_data",
     "data": {
      "text/plain": [
       "<Figure size 432x288 with 2 Axes>"
      ],
      "image/png": "[encoded data removed]"
     },
     "metadata": {
      "needs_background": "light"
     }
    },
    {
     "output_type": "stream",
     "name": "stdout",
     "text": [
      "The whole MIC is 0.21913593449264737; MIC before week 12 (included) is 0.23095987440365312; MIC after week 12 is 0.1861381990467906\n",
      "The whole pearson correaltion is 0.16360269184386303; before w12 is 0.05149449665086822; after w12 is -0.2511502767019131\n",
      "The whole spearman correaltion is 0.22981090100111232; before w12 is 0.20329670329670327; after w12 is -0.36274509803921573\n",
      "The whole kendall correaltion is 0.14942528735632182; before w12 is 0.17948717948717946; after w12 is -0.24999999999999997\n"
     ]
    },
    {
     "output_type": "stream",
     "name": "stderr",
     "text": [
      "<ipython-input-32-47b9cacb4653>:14: DeprecationWarning: `np.float` is a deprecated alias for the builtin `float`. To silence this warning, use `float` by itself. Doing this will not modify any behavior and is safe. If you specifically wanted the numpy scalar type, use `np.float64` here.\n",
      "Deprecated in NumPy 1.20; for more details and guidance: https://numpy.org/devdocs/release/1.20.0-notes.html#deprecations\n",
      "  mine.compute_score(y1, y2)\n",
      "<ipython-input-32-47b9cacb4653>:30: DeprecationWarning: `np.float` is a deprecated alias for the builtin `float`. To silence this warning, use `float` by itself. Doing this will not modify any behavior and is safe. If you specifically wanted the numpy scalar type, use `np.float64` here.\n",
      "Deprecated in NumPy 1.20; for more details and guidance: https://numpy.org/devdocs/release/1.20.0-notes.html#deprecations\n",
      "  mine.compute_score(y1a, y2a)\n",
      "<ipython-input-32-47b9cacb4653>:45: DeprecationWarning: `np.float` is a deprecated alias for the builtin `float`. To silence this warning, use `float` by itself. Doing this will not modify any behavior and is safe. If you specifically wanted the numpy scalar type, use `np.float64` here.\n",
      "Deprecated in NumPy 1.20; for more details and guidance: https://numpy.org/devdocs/release/1.20.0-notes.html#deprecations\n",
      "  mine.compute_score(y1a, y2a)\n"
     ]
    }
   ],
   "metadata": {}
  },
  {
   "cell_type": "code",
   "execution_count": null,
   "source": [
    "# keywords = ['鸡蛋','原油','科技','医疗','5G','白酒','智能','数字货币','创业','政策','概念','不确定性','风险','疫情','涨', '跌', '上涨','下跌','赚','赔','微笑','大笑','乐观','打新','免税','复苏']\n",
    "\n",
    "get_pictures('白酒','科技')\n",
    "get_correlations('白酒','科技')"
   ],
   "outputs": [
    {
     "output_type": "display_data",
     "data": {
      "text/plain": [
       "<Figure size 432x288 with 2 Axes>"
      ],
      "image/png": "[encoded data removed]"
     },
     "metadata": {
      "needs_background": "light"
     }
    },
    {
     "output_type": "stream",
     "name": "stdout",
     "text": [
      "The whole MIC is 0.9182958340544897; MIC before week 12 (included) is 0.46666279373280384; MIC after week 12 is 0.31653835090715127\n",
      "The whole pearson correaltion is 0.8825463514326245; before w12 is 0.8842667546817058; after w12 is 0.6980609915212261\n",
      "The whole spearman correaltion is 0.8531701890989989; before w12 is 0.6868131868131868; after w12 is 0.5857843137254902\n",
      "The whole kendall correaltion is 0.664367816091954; before w12 is 0.5384615384615383; after w12 is 0.4264705882352941\n"
     ]
    },
    {
     "output_type": "stream",
     "name": "stderr",
     "text": [
      "<ipython-input-32-47b9cacb4653>:14: DeprecationWarning: `np.float` is a deprecated alias for the builtin `float`. To silence this warning, use `float` by itself. Doing this will not modify any behavior and is safe. If you specifically wanted the numpy scalar type, use `np.float64` here.\n",
      "Deprecated in NumPy 1.20; for more details and guidance: https://numpy.org/devdocs/release/1.20.0-notes.html#deprecations\n",
      "  mine.compute_score(y1, y2)\n",
      "<ipython-input-32-47b9cacb4653>:30: DeprecationWarning: `np.float` is a deprecated alias for the builtin `float`. To silence this warning, use `float` by itself. Doing this will not modify any behavior and is safe. If you specifically wanted the numpy scalar type, use `np.float64` here.\n",
      "Deprecated in NumPy 1.20; for more details and guidance: https://numpy.org/devdocs/release/1.20.0-notes.html#deprecations\n",
      "  mine.compute_score(y1a, y2a)\n",
      "<ipython-input-32-47b9cacb4653>:45: DeprecationWarning: `np.float` is a deprecated alias for the builtin `float`. To silence this warning, use `float` by itself. Doing this will not modify any behavior and is safe. If you specifically wanted the numpy scalar type, use `np.float64` here.\n",
      "Deprecated in NumPy 1.20; for more details and guidance: https://numpy.org/devdocs/release/1.20.0-notes.html#deprecations\n",
      "  mine.compute_score(y1a, y2a)\n"
     ]
    }
   ],
   "metadata": {}
  },
  {
   "cell_type": "code",
   "execution_count": null,
   "source": [
    "get_pictures('白酒','鸡蛋')\n",
    "get_correlations('白酒','鸡蛋')"
   ],
   "outputs": [
    {
     "output_type": "display_data",
     "data": {
      "text/plain": [
       "<Figure size 432x288 with 2 Axes>"
      ],
      "image/png": "[encoded data removed]"
     },
     "metadata": {
      "needs_background": "light"
     }
    },
    {
     "output_type": "stream",
     "name": "stdout",
     "text": [
      "The whole MIC is 0.5330860799126497; MIC before week 12 (included) is 0.35998418235489427; MIC after week 12 is 0.14078143361499573\n",
      "The whole pearson correaltion is 0.2981108459241213; before w12 is -0.2969459590418667; after w12 is -0.148998368337993\n",
      "The whole spearman correaltion is 0.3348164627363737; before w12 is -0.027472527472527472; after w12 is -0.11029411764705883\n",
      "The whole kendall correaltion is 0.2597701149425288; before w12 is 0.0; after w12 is -0.0588235294117647\n"
     ]
    },
    {
     "output_type": "stream",
     "name": "stderr",
     "text": [
      "<ipython-input-32-47b9cacb4653>:14: DeprecationWarning: `np.float` is a deprecated alias for the builtin `float`. To silence this warning, use `float` by itself. Doing this will not modify any behavior and is safe. If you specifically wanted the numpy scalar type, use `np.float64` here.\n",
      "Deprecated in NumPy 1.20; for more details and guidance: https://numpy.org/devdocs/release/1.20.0-notes.html#deprecations\n",
      "  mine.compute_score(y1, y2)\n",
      "<ipython-input-32-47b9cacb4653>:30: DeprecationWarning: `np.float` is a deprecated alias for the builtin `float`. To silence this warning, use `float` by itself. Doing this will not modify any behavior and is safe. If you specifically wanted the numpy scalar type, use `np.float64` here.\n",
      "Deprecated in NumPy 1.20; for more details and guidance: https://numpy.org/devdocs/release/1.20.0-notes.html#deprecations\n",
      "  mine.compute_score(y1a, y2a)\n",
      "<ipython-input-32-47b9cacb4653>:45: DeprecationWarning: `np.float` is a deprecated alias for the builtin `float`. To silence this warning, use `float` by itself. Doing this will not modify any behavior and is safe. If you specifically wanted the numpy scalar type, use `np.float64` here.\n",
      "Deprecated in NumPy 1.20; for more details and guidance: https://numpy.org/devdocs/release/1.20.0-notes.html#deprecations\n",
      "  mine.compute_score(y1a, y2a)\n"
     ]
    }
   ],
   "metadata": {}
  },
  {
   "cell_type": "code",
   "execution_count": null,
   "source": [
    "# keywords = ['鸡蛋','原油','科技','医疗','5G','白酒','智能','数字货币','创业','政策','概念','不确定性','风险','疫情','涨', '跌', '上涨','下跌','赚','赔','微笑','大笑','乐观','打新','免税','复苏']\n",
    "\n",
    "get_pictures('涨','跌')\n",
    "get_correlations('涨','跌')"
   ],
   "outputs": [
    {
     "output_type": "display_data",
     "data": {
      "text/plain": [
       "<Figure size 432x288 with 2 Axes>"
      ],
      "image/png": "[encoded data removed]"
     },
     "metadata": {
      "needs_background": "light"
     }
    },
    {
     "output_type": "stream",
     "name": "stdout",
     "text": [
      "The whole MIC is 0.2502283386145067; MIC before week 12 (included) is 0.15462496545057766; MIC after week 12 is 0.09349869023672412\n",
      "The whole pearson correaltion is 0.39114335317721705; before w12 is 0.23135517900648023; after w12 is 0.13472177340590075\n",
      "The whole spearman correaltion is 0.3454949944382647; before w12 is 0.0934065934065934; after w12 is 0.07598039215686275\n",
      "The whole kendall correaltion is 0.24597701149425286; before w12 is 0.10256410256410255; after w12 is 0.07352941176470587\n"
     ]
    },
    {
     "output_type": "stream",
     "name": "stderr",
     "text": [
      "<ipython-input-32-47b9cacb4653>:14: DeprecationWarning: `np.float` is a deprecated alias for the builtin `float`. To silence this warning, use `float` by itself. Doing this will not modify any behavior and is safe. If you specifically wanted the numpy scalar type, use `np.float64` here.\n",
      "Deprecated in NumPy 1.20; for more details and guidance: https://numpy.org/devdocs/release/1.20.0-notes.html#deprecations\n",
      "  mine.compute_score(y1, y2)\n",
      "<ipython-input-32-47b9cacb4653>:30: DeprecationWarning: `np.float` is a deprecated alias for the builtin `float`. To silence this warning, use `float` by itself. Doing this will not modify any behavior and is safe. If you specifically wanted the numpy scalar type, use `np.float64` here.\n",
      "Deprecated in NumPy 1.20; for more details and guidance: https://numpy.org/devdocs/release/1.20.0-notes.html#deprecations\n",
      "  mine.compute_score(y1a, y2a)\n",
      "<ipython-input-32-47b9cacb4653>:45: DeprecationWarning: `np.float` is a deprecated alias for the builtin `float`. To silence this warning, use `float` by itself. Doing this will not modify any behavior and is safe. If you specifically wanted the numpy scalar type, use `np.float64` here.\n",
      "Deprecated in NumPy 1.20; for more details and guidance: https://numpy.org/devdocs/release/1.20.0-notes.html#deprecations\n",
      "  mine.compute_score(y1a, y2a)\n"
     ]
    }
   ],
   "metadata": {}
  },
  {
   "cell_type": "code",
   "execution_count": null,
   "source": [
    "# keywords = ['鸡蛋','原油','科技','医疗','5G','白酒','智能','数字货币','创业','政策','概念','不确定性','风险','疫情','涨', '跌', '上涨','下跌','赚','赔','微笑','大笑','乐观','打新','免税','复苏']\n",
    "\n",
    "get_pictures('大笑','微笑')\n",
    "get_correlations('大笑','微笑')"
   ],
   "outputs": [
    {
     "output_type": "display_data",
     "data": {
      "text/plain": [
       "<Figure size 432x288 with 2 Axes>"
      ],
      "image/png": "[encoded data removed]"
     },
     "metadata": {
      "needs_background": "light"
     }
    },
    {
     "output_type": "stream",
     "name": "stdout",
     "text": [
      "The whole MIC is 0.2998875833841061; MIC before week 12 (included) is 0.21881472361493515; MIC after week 12 is 0.06696192680347063\n",
      "The whole pearson correaltion is 0.227989045769834; before w12 is 0.06075044695247064; after w12 is 0.2628108210462062\n",
      "The whole spearman correaltion is 0.27875417130144603; before w12 is -0.07142857142857142; after w12 is 0.17156862745098042\n",
      "The whole kendall correaltion is 0.19080459770114944; before w12 is -0.025641025641025637; after w12 is 0.10294117647058822\n"
     ]
    },
    {
     "output_type": "stream",
     "name": "stderr",
     "text": [
      "<ipython-input-32-47b9cacb4653>:14: DeprecationWarning: `np.float` is a deprecated alias for the builtin `float`. To silence this warning, use `float` by itself. Doing this will not modify any behavior and is safe. If you specifically wanted the numpy scalar type, use `np.float64` here.\n",
      "Deprecated in NumPy 1.20; for more details and guidance: https://numpy.org/devdocs/release/1.20.0-notes.html#deprecations\n",
      "  mine.compute_score(y1, y2)\n",
      "<ipython-input-32-47b9cacb4653>:30: DeprecationWarning: `np.float` is a deprecated alias for the builtin `float`. To silence this warning, use `float` by itself. Doing this will not modify any behavior and is safe. If you specifically wanted the numpy scalar type, use `np.float64` here.\n",
      "Deprecated in NumPy 1.20; for more details and guidance: https://numpy.org/devdocs/release/1.20.0-notes.html#deprecations\n",
      "  mine.compute_score(y1a, y2a)\n",
      "<ipython-input-32-47b9cacb4653>:45: DeprecationWarning: `np.float` is a deprecated alias for the builtin `float`. To silence this warning, use `float` by itself. Doing this will not modify any behavior and is safe. If you specifically wanted the numpy scalar type, use `np.float64` here.\n",
      "Deprecated in NumPy 1.20; for more details and guidance: https://numpy.org/devdocs/release/1.20.0-notes.html#deprecations\n",
      "  mine.compute_score(y1a, y2a)\n"
     ]
    }
   ],
   "metadata": {}
  },
  {
   "cell_type": "code",
   "execution_count": null,
   "source": [
    "# keywords = ['鸡蛋','原油','科技','医疗','5G','白酒','智能','数字货币','创业','政策','概念','不确定性','风险','疫情','涨', '跌', '上涨','下跌','赚','赔','微笑','大笑','乐观','打新','免税','复苏']\n",
    "\n",
    "get_pictures('大笑','乐观')\n",
    "get_correlations('大笑','乐观')"
   ],
   "outputs": [
    {
     "output_type": "display_data",
     "data": {
      "text/plain": [
       "<Figure size 432x288 with 2 Axes>"
      ],
      "image/png": "[encoded data removed]"
     },
     "metadata": {
      "needs_background": "light"
     }
    },
    {
     "output_type": "stream",
     "name": "stdout",
     "text": [
      "The whole MIC is 0.5972104013355726; MIC before week 12 (included) is 0.4964793754946902; MIC after week 12 is 0.5548894409556175\n",
      "The whole pearson correaltion is 0.6667668611026702; before w12 is 0.4645997013557906; after w12 is 0.6045336693541896\n",
      "The whole spearman correaltion is 0.6783092324805339; before w12 is 0.41208791208791207; after w12 is 0.6960784313725491\n",
      "The whole kendall correaltion is 0.5218390804597701; before w12 is 0.282051282051282; after w12 is 0.5147058823529411\n"
     ]
    },
    {
     "output_type": "stream",
     "name": "stderr",
     "text": [
      "<ipython-input-32-47b9cacb4653>:14: DeprecationWarning: `np.float` is a deprecated alias for the builtin `float`. To silence this warning, use `float` by itself. Doing this will not modify any behavior and is safe. If you specifically wanted the numpy scalar type, use `np.float64` here.\n",
      "Deprecated in NumPy 1.20; for more details and guidance: https://numpy.org/devdocs/release/1.20.0-notes.html#deprecations\n",
      "  mine.compute_score(y1, y2)\n",
      "<ipython-input-32-47b9cacb4653>:30: DeprecationWarning: `np.float` is a deprecated alias for the builtin `float`. To silence this warning, use `float` by itself. Doing this will not modify any behavior and is safe. If you specifically wanted the numpy scalar type, use `np.float64` here.\n",
      "Deprecated in NumPy 1.20; for more details and guidance: https://numpy.org/devdocs/release/1.20.0-notes.html#deprecations\n",
      "  mine.compute_score(y1a, y2a)\n",
      "<ipython-input-32-47b9cacb4653>:45: DeprecationWarning: `np.float` is a deprecated alias for the builtin `float`. To silence this warning, use `float` by itself. Doing this will not modify any behavior and is safe. If you specifically wanted the numpy scalar type, use `np.float64` here.\n",
      "Deprecated in NumPy 1.20; for more details and guidance: https://numpy.org/devdocs/release/1.20.0-notes.html#deprecations\n",
      "  mine.compute_score(y1a, y2a)\n"
     ]
    }
   ],
   "metadata": {}
  },
  {
   "cell_type": "code",
   "execution_count": null,
   "source": [
    "# keywords = ['鸡蛋','原油','科技','医疗','5G','白酒','智能','数字货币','创业','政策','概念','不确定性','风险','疫情','涨', '跌', '上涨','下跌','赚','赔','微笑','大笑','乐观','打新','免税','复苏']\n",
    "\n",
    "get_pictures('微笑','乐观')\n",
    "get_correlations('微笑','乐观')"
   ],
   "outputs": [
    {
     "output_type": "display_data",
     "data": {
      "text/plain": [
       "<Figure size 432x288 with 2 Axes>"
      ],
      "image/png": "[encoded data removed]"
     },
     "metadata": {
      "needs_background": "light"
     }
    },
    {
     "output_type": "stream",
     "name": "stdout",
     "text": [
      "The whole MIC is 0.34385362804443786; MIC before week 12 (included) is 0.46666279373280384; MIC after week 12 is 0.12956798741832246\n",
      "The whole pearson correaltion is 0.5138139518038937; before w12 is 0.76325131458868; after w12 is -0.005272281213765428\n",
      "The whole spearman correaltion is 0.4981090100111235; before w12 is 0.7307692307692307; after w12 is -0.012254901960784315\n",
      "The whole kendall correaltion is 0.38390804597701156; before w12 is 0.5897435897435896; after w12 is 0.0\n"
     ]
    },
    {
     "output_type": "stream",
     "name": "stderr",
     "text": [
      "<ipython-input-32-47b9cacb4653>:14: DeprecationWarning: `np.float` is a deprecated alias for the builtin `float`. To silence this warning, use `float` by itself. Doing this will not modify any behavior and is safe. If you specifically wanted the numpy scalar type, use `np.float64` here.\n",
      "Deprecated in NumPy 1.20; for more details and guidance: https://numpy.org/devdocs/release/1.20.0-notes.html#deprecations\n",
      "  mine.compute_score(y1, y2)\n",
      "<ipython-input-32-47b9cacb4653>:30: DeprecationWarning: `np.float` is a deprecated alias for the builtin `float`. To silence this warning, use `float` by itself. Doing this will not modify any behavior and is safe. If you specifically wanted the numpy scalar type, use `np.float64` here.\n",
      "Deprecated in NumPy 1.20; for more details and guidance: https://numpy.org/devdocs/release/1.20.0-notes.html#deprecations\n",
      "  mine.compute_score(y1a, y2a)\n",
      "<ipython-input-32-47b9cacb4653>:45: DeprecationWarning: `np.float` is a deprecated alias for the builtin `float`. To silence this warning, use `float` by itself. Doing this will not modify any behavior and is safe. If you specifically wanted the numpy scalar type, use `np.float64` here.\n",
      "Deprecated in NumPy 1.20; for more details and guidance: https://numpy.org/devdocs/release/1.20.0-notes.html#deprecations\n",
      "  mine.compute_score(y1a, y2a)\n"
     ]
    }
   ],
   "metadata": {}
  },
  {
   "cell_type": "code",
   "execution_count": null,
   "source": [
    "# keywords = ['鸡蛋','原油','科技','医疗','5G','白酒','智能','创业','政策','概念','不确定性','风险','疫情','涨', '跌', '上涨','下跌','赚','赔','微笑','大笑','乐观','打新','免税','复苏']\n",
    "\n",
    "get_pictures('政策','创业')\n",
    "get_correlations('政策','创业')"
   ],
   "outputs": [
    {
     "output_type": "display_data",
     "data": {
      "text/plain": [
       "<Figure size 432x288 with 2 Axes>"
      ],
      "image/png": "[encoded data removed]"
     },
     "metadata": {
      "needs_background": "light"
     }
    },
    {
     "output_type": "stream",
     "name": "stdout",
     "text": [
      "The whole MIC is 0.8163408331891022; MIC before week 12 (included) is 0.6771344174636726; MIC after week 12 is 0.4752766311586689\n",
      "The whole pearson correaltion is 0.9631577030804829; before w12 is 0.975308853546617; after w12 is 0.8603984302634301\n",
      "The whole spearman correaltion is 0.9559510567296997; before w12 is 0.9560439560439561; after w12 is 0.8039215686274511\n",
      "The whole kendall correaltion is 0.8344827586206897; before w12 is 0.846153846153846; after w12 is 0.6323529411764706\n"
     ]
    },
    {
     "output_type": "stream",
     "name": "stderr",
     "text": [
      "<ipython-input-32-47b9cacb4653>:14: DeprecationWarning: `np.float` is a deprecated alias for the builtin `float`. To silence this warning, use `float` by itself. Doing this will not modify any behavior and is safe. If you specifically wanted the numpy scalar type, use `np.float64` here.\n",
      "Deprecated in NumPy 1.20; for more details and guidance: https://numpy.org/devdocs/release/1.20.0-notes.html#deprecations\n",
      "  mine.compute_score(y1, y2)\n",
      "<ipython-input-32-47b9cacb4653>:30: DeprecationWarning: `np.float` is a deprecated alias for the builtin `float`. To silence this warning, use `float` by itself. Doing this will not modify any behavior and is safe. If you specifically wanted the numpy scalar type, use `np.float64` here.\n",
      "Deprecated in NumPy 1.20; for more details and guidance: https://numpy.org/devdocs/release/1.20.0-notes.html#deprecations\n",
      "  mine.compute_score(y1a, y2a)\n",
      "<ipython-input-32-47b9cacb4653>:45: DeprecationWarning: `np.float` is a deprecated alias for the builtin `float`. To silence this warning, use `float` by itself. Doing this will not modify any behavior and is safe. If you specifically wanted the numpy scalar type, use `np.float64` here.\n",
      "Deprecated in NumPy 1.20; for more details and guidance: https://numpy.org/devdocs/release/1.20.0-notes.html#deprecations\n",
      "  mine.compute_score(y1a, y2a)\n"
     ]
    }
   ],
   "metadata": {}
  },
  {
   "cell_type": "code",
   "execution_count": null,
   "source": [
    "# keywords = ['鸡蛋','原油','科技','医疗','5G','白酒','智能','创业','政策','概念','不确定性','风险','疫情','涨', '跌', '上涨','下跌','赚','赔','微笑','大笑','乐观','打新','免税','复苏']\n",
    "\n",
    "get_pictures('疫情','打新')\n",
    "get_correlations('疫情','打新')"
   ],
   "outputs": [
    {
     "output_type": "display_data",
     "data": {
      "text/plain": [
       "<Figure size 432x288 with 2 Axes>"
      ],
      "image/png": "[encoded data removed]"
     },
     "metadata": {
      "needs_background": "light"
     }
    },
    {
     "output_type": "stream",
     "name": "stdout",
     "text": [
      "The whole MIC is 0.31501296236274995; MIC before week 12 (included) is 0.1103601440597768; MIC after week 12 is 0.1861381990467906\n",
      "The whole pearson correaltion is 0.22206091496239444; before w12 is 0.06750725289066169; after w12 is -0.1611008980350344\n",
      "The whole spearman correaltion is 0.2395995550611791; before w12 is 0.07142857142857142; after w12 is -0.24264705882352944\n",
      "The whole kendall correaltion is 0.15402298850574714; before w12 is 0.07692307692307691; after w12 is -0.2205882352941176\n"
     ]
    },
    {
     "output_type": "stream",
     "name": "stderr",
     "text": [
      "<ipython-input-32-47b9cacb4653>:14: DeprecationWarning: `np.float` is a deprecated alias for the builtin `float`. To silence this warning, use `float` by itself. Doing this will not modify any behavior and is safe. If you specifically wanted the numpy scalar type, use `np.float64` here.\n",
      "Deprecated in NumPy 1.20; for more details and guidance: https://numpy.org/devdocs/release/1.20.0-notes.html#deprecations\n",
      "  mine.compute_score(y1, y2)\n",
      "<ipython-input-32-47b9cacb4653>:30: DeprecationWarning: `np.float` is a deprecated alias for the builtin `float`. To silence this warning, use `float` by itself. Doing this will not modify any behavior and is safe. If you specifically wanted the numpy scalar type, use `np.float64` here.\n",
      "Deprecated in NumPy 1.20; for more details and guidance: https://numpy.org/devdocs/release/1.20.0-notes.html#deprecations\n",
      "  mine.compute_score(y1a, y2a)\n",
      "<ipython-input-32-47b9cacb4653>:45: DeprecationWarning: `np.float` is a deprecated alias for the builtin `float`. To silence this warning, use `float` by itself. Doing this will not modify any behavior and is safe. If you specifically wanted the numpy scalar type, use `np.float64` here.\n",
      "Deprecated in NumPy 1.20; for more details and guidance: https://numpy.org/devdocs/release/1.20.0-notes.html#deprecations\n",
      "  mine.compute_score(y1a, y2a)\n"
     ]
    }
   ],
   "metadata": {}
  },
  {
   "cell_type": "markdown",
   "source": [
    "# 分词（by id)"
   ],
   "metadata": {}
  },
  {
   "cell_type": "code",
   "execution_count": null,
   "source": [
    "detail = pd.read_excel('/home/afan/emotion_analysis/data/detail.xlsx')"
   ],
   "outputs": [],
   "metadata": {}
  },
  {
   "cell_type": "code",
   "execution_count": null,
   "source": [
    "detail.isnull().sum()"
   ],
   "outputs": [
    {
     "output_type": "execute_result",
     "data": {
      "text/plain": [
       "_id                    0\n",
       "read_num               0\n",
       "comment_num            0\n",
       "title                 15\n",
       "detail_url        587683\n",
       "author                 5\n",
       "author_url        554745\n",
       "pub_time               0\n",
       "list_url          653203\n",
       "id                     0\n",
       "name                   0\n",
       "code                   0\n",
       "type                   0\n",
       "page                   0\n",
       "pub_time_str           0\n",
       "pub_time_int           0\n",
       "content            10500\n",
       "content_images         0\n",
       "dtype: int64"
      ]
     },
     "metadata": {},
     "execution_count": 55
    }
   ],
   "metadata": {}
  },
  {
   "cell_type": "code",
   "execution_count": null,
   "source": [
    "qw = detail[['content','id']]\n",
    "qwd = qw.dropna()"
   ],
   "outputs": [],
   "metadata": {}
  },
  {
   "cell_type": "code",
   "execution_count": null,
   "source": [
    "qwd = qwd['id']\n",
    "qwd"
   ],
   "outputs": [
    {
     "output_type": "execute_result",
     "data": {
      "text/plain": [
       "0         4f8d4e395621ccb6d5dc98c9e2f474a3\n",
       "1         e3cfbc7dfa6a191599e9bbe50681a0a0\n",
       "2         b4515ea4e862c95afe46eaaf2d720d96\n",
       "3         ac1b11e3b14c9a56be92522ff150ef7c\n",
       "4         e72c70a8f5faccd4336e0fb9a76e5765\n",
       "                        ...               \n",
       "652792    e7e2e19dbcbe23f8156eab9f0147e8e2\n",
       "652793    7f91ebd71c1b9ba9c6774b54548a5cce\n",
       "652794    8fb9ae0fbf10112d1b6d3d10e83ea339\n",
       "652795    6890ead64019468e448cfe2463a8bd88\n",
       "652796    fda959b011dc19c318005d6d243b5c0e\n",
       "Name: id, Length: 642703, dtype: object"
      ]
     },
     "metadata": {},
     "execution_count": 80
    }
   ],
   "metadata": {}
  },
  {
   "cell_type": "code",
   "execution_count": null,
   "source": [
    "qwdic = qwd.to_dict()\n",
    "qwdic"
   ],
   "outputs": [],
   "metadata": {}
  },
  {
   "cell_type": "code",
   "execution_count": null,
   "source": [
    "dict_new=dict(zip(qwdic.values(),qwdic.keys()))\n",
    "dict_new"
   ],
   "outputs": [],
   "metadata": {}
  },
  {
   "cell_type": "code",
   "execution_count": null,
   "source": [
    "with open(\"/home/afan/emotion_analysis/data/processed_data/post_dict.p\", \"wb\") as fp:   #Pickling\n",
    "    pickle.dump(dict_new, fp, protocol = pickle.HIGHEST_PROTOCOL)  "
   ],
   "outputs": [],
   "metadata": {}
  },
  {
   "cell_type": "code",
   "execution_count": null,
   "source": [
    "with open(\"/home/afan/emotion_analysis/data/processed_data/post_dict.p\", \"rb\") as fp:   #Pickling\n",
    "    mydic=pickle.load(fp)  "
   ],
   "outputs": [],
   "metadata": {}
  },
  {
   "cell_type": "code",
   "execution_count": 86,
   "source": [
    "len(mydic)"
   ],
   "outputs": [
    {
     "output_type": "execute_result",
     "data": {
      "text/plain": [
       "642703"
      ]
     },
     "metadata": {},
     "execution_count": 86
    }
   ],
   "metadata": {}
  },
  {
   "cell_type": "code",
   "execution_count": 4,
   "source": [
    "detail['index'] = detail.index"
   ],
   "outputs": [],
   "metadata": {}
  },
  {
   "cell_type": "code",
   "execution_count": 5,
   "source": [
    "detail_copy = detail[['index','content']]"
   ],
   "outputs": [],
   "metadata": {}
  },
  {
   "cell_type": "code",
   "execution_count": 6,
   "source": [
    "detail_copy = detail_copy.dropna().reset_index(drop = True)\n",
    "detail_copy"
   ],
   "outputs": [
    {
     "output_type": "execute_result",
     "data": {
      "text/plain": [
       "         index                                            content\n",
       "0            0  含德之厚者，比于赤子。一年时光一晃就过，记得2019年第一帖就奉献了华丽的一章，虽然不是新帖...\n",
       "1            1                                          周四鸡蛋会跌停吗？\n",
       "2            2  祝福慈文2020成为超级大牛股！东霞与骏马齐飞，慈文共华章一色。勇立潮头作品一流，一见惊鸿再...\n",
       "3            3                                           2020静待花开\n",
       "4            4                            祝曙光的朋友们新年快乐，20年身体健康投资顺利\n",
       "...        ...                                                ...\n",
       "642698  652792  说明价值投资才是上班族正确的投如果从我刚入股市时就一直持有美的，我的收益是6倍，说明价值投资...\n",
       "642699  652793                                    买一手多，涨一个点，能赚多少钱\n",
       "642700  652794                                         哎，割肉了，不碰它了\n",
       "642701  652795  七位副总裁突击成股东来源：界面新闻　　继创维集团(0751.HK)、比亚迪(002594.S...\n",
       "642702  652796  是主力吗？越是慢涨越不跌空单的弟兄们焦虑不？不出大阴棒你开毛的空，以为自己是主力吗？越是慢涨越不跌\n",
       "\n",
       "[642703 rows x 2 columns]"
      ],
      "text/html": [
       "<div>\n",
       "<style scoped>\n",
       "    .dataframe tbody tr th:only-of-type {\n",
       "        vertical-align: middle;\n",
       "    }\n",
       "\n",
       "    .dataframe tbody tr th {\n",
       "        vertical-align: top;\n",
       "    }\n",
       "\n",
       "    .dataframe thead th {\n",
       "        text-align: right;\n",
       "    }\n",
       "</style>\n",
       "<table border=\"1\" class=\"dataframe\">\n",
       "  <thead>\n",
       "    <tr style=\"text-align: right;\">\n",
       "      <th></th>\n",
       "      <th>index</th>\n",
       "      <th>content</th>\n",
       "    </tr>\n",
       "  </thead>\n",
       "  <tbody>\n",
       "    <tr>\n",
       "      <th>0</th>\n",
       "      <td>0</td>\n",
       "      <td>含德之厚者，比于赤子。一年时光一晃就过，记得2019年第一帖就奉献了华丽的一章，虽然不是新帖...</td>\n",
       "    </tr>\n",
       "    <tr>\n",
       "      <th>1</th>\n",
       "      <td>1</td>\n",
       "      <td>周四鸡蛋会跌停吗？</td>\n",
       "    </tr>\n",
       "    <tr>\n",
       "      <th>2</th>\n",
       "      <td>2</td>\n",
       "      <td>祝福慈文2020成为超级大牛股！东霞与骏马齐飞，慈文共华章一色。勇立潮头作品一流，一见惊鸿再...</td>\n",
       "    </tr>\n",
       "    <tr>\n",
       "      <th>3</th>\n",
       "      <td>3</td>\n",
       "      <td>2020静待花开</td>\n",
       "    </tr>\n",
       "    <tr>\n",
       "      <th>4</th>\n",
       "      <td>4</td>\n",
       "      <td>祝曙光的朋友们新年快乐，20年身体健康投资顺利</td>\n",
       "    </tr>\n",
       "    <tr>\n",
       "      <th>...</th>\n",
       "      <td>...</td>\n",
       "      <td>...</td>\n",
       "    </tr>\n",
       "    <tr>\n",
       "      <th>642698</th>\n",
       "      <td>652792</td>\n",
       "      <td>说明价值投资才是上班族正确的投如果从我刚入股市时就一直持有美的，我的收益是6倍，说明价值投资...</td>\n",
       "    </tr>\n",
       "    <tr>\n",
       "      <th>642699</th>\n",
       "      <td>652793</td>\n",
       "      <td>买一手多，涨一个点，能赚多少钱</td>\n",
       "    </tr>\n",
       "    <tr>\n",
       "      <th>642700</th>\n",
       "      <td>652794</td>\n",
       "      <td>哎，割肉了，不碰它了</td>\n",
       "    </tr>\n",
       "    <tr>\n",
       "      <th>642701</th>\n",
       "      <td>652795</td>\n",
       "      <td>七位副总裁突击成股东来源：界面新闻　　继创维集团(0751.HK)、比亚迪(002594.S...</td>\n",
       "    </tr>\n",
       "    <tr>\n",
       "      <th>642702</th>\n",
       "      <td>652796</td>\n",
       "      <td>是主力吗？越是慢涨越不跌空单的弟兄们焦虑不？不出大阴棒你开毛的空，以为自己是主力吗？越是慢涨越不跌</td>\n",
       "    </tr>\n",
       "  </tbody>\n",
       "</table>\n",
       "<p>642703 rows × 2 columns</p>\n",
       "</div>"
      ]
     },
     "metadata": {},
     "execution_count": 6
    }
   ],
   "metadata": {}
  },
  {
   "cell_type": "code",
   "execution_count": 13,
   "source": [
    "detail_copy[29991:]"
   ],
   "outputs": [
    {
     "output_type": "execute_result",
     "data": {
      "text/plain": [
       "         index                                            content\n",
       "29991    30488                                                  0\n",
       "29992    30489  开高走的时候，傻眼了。我15元成本，在32-33回调的时候筹码给收走了。星期五高开高走的时候...\n",
       "29993    30490  做接盘侠了，资金一直流出，流A股果然是A股，走A字形，日线严重背离。别忽悠散户去做接盘侠了，...\n",
       "29994    30491  回落概率蛮高的，前天昨天低位买下周一二会反抽上涨两天，鉴于消息面题材已落地，反抽回落概率蛮高...\n",
       "29995    30492  中枢是缠论里面的一个名词，缠论并不是绝对正确，任何一种技术都是辅助我们来分析，分析的目的就是...\n",
       "...        ...                                                ...\n",
       "642698  652792  说明价值投资才是上班族正确的投如果从我刚入股市时就一直持有美的，我的收益是6倍，说明价值投资...\n",
       "642699  652793                                    买一手多，涨一个点，能赚多少钱\n",
       "642700  652794                                         哎，割肉了，不碰它了\n",
       "642701  652795  七位副总裁突击成股东来源：界面新闻　　继创维集团(0751.HK)、比亚迪(002594.S...\n",
       "642702  652796  是主力吗？越是慢涨越不跌空单的弟兄们焦虑不？不出大阴棒你开毛的空，以为自己是主力吗？越是慢涨越不跌\n",
       "\n",
       "[612712 rows x 2 columns]"
      ],
      "text/html": [
       "<div>\n",
       "<style scoped>\n",
       "    .dataframe tbody tr th:only-of-type {\n",
       "        vertical-align: middle;\n",
       "    }\n",
       "\n",
       "    .dataframe tbody tr th {\n",
       "        vertical-align: top;\n",
       "    }\n",
       "\n",
       "    .dataframe thead th {\n",
       "        text-align: right;\n",
       "    }\n",
       "</style>\n",
       "<table border=\"1\" class=\"dataframe\">\n",
       "  <thead>\n",
       "    <tr style=\"text-align: right;\">\n",
       "      <th></th>\n",
       "      <th>index</th>\n",
       "      <th>content</th>\n",
       "    </tr>\n",
       "  </thead>\n",
       "  <tbody>\n",
       "    <tr>\n",
       "      <th>29991</th>\n",
       "      <td>30488</td>\n",
       "      <td>0</td>\n",
       "    </tr>\n",
       "    <tr>\n",
       "      <th>29992</th>\n",
       "      <td>30489</td>\n",
       "      <td>开高走的时候，傻眼了。我15元成本，在32-33回调的时候筹码给收走了。星期五高开高走的时候...</td>\n",
       "    </tr>\n",
       "    <tr>\n",
       "      <th>29993</th>\n",
       "      <td>30490</td>\n",
       "      <td>做接盘侠了，资金一直流出，流A股果然是A股，走A字形，日线严重背离。别忽悠散户去做接盘侠了，...</td>\n",
       "    </tr>\n",
       "    <tr>\n",
       "      <th>29994</th>\n",
       "      <td>30491</td>\n",
       "      <td>回落概率蛮高的，前天昨天低位买下周一二会反抽上涨两天，鉴于消息面题材已落地，反抽回落概率蛮高...</td>\n",
       "    </tr>\n",
       "    <tr>\n",
       "      <th>29995</th>\n",
       "      <td>30492</td>\n",
       "      <td>中枢是缠论里面的一个名词，缠论并不是绝对正确，任何一种技术都是辅助我们来分析，分析的目的就是...</td>\n",
       "    </tr>\n",
       "    <tr>\n",
       "      <th>...</th>\n",
       "      <td>...</td>\n",
       "      <td>...</td>\n",
       "    </tr>\n",
       "    <tr>\n",
       "      <th>642698</th>\n",
       "      <td>652792</td>\n",
       "      <td>说明价值投资才是上班族正确的投如果从我刚入股市时就一直持有美的，我的收益是6倍，说明价值投资...</td>\n",
       "    </tr>\n",
       "    <tr>\n",
       "      <th>642699</th>\n",
       "      <td>652793</td>\n",
       "      <td>买一手多，涨一个点，能赚多少钱</td>\n",
       "    </tr>\n",
       "    <tr>\n",
       "      <th>642700</th>\n",
       "      <td>652794</td>\n",
       "      <td>哎，割肉了，不碰它了</td>\n",
       "    </tr>\n",
       "    <tr>\n",
       "      <th>642701</th>\n",
       "      <td>652795</td>\n",
       "      <td>七位副总裁突击成股东来源：界面新闻　　继创维集团(0751.HK)、比亚迪(002594.S...</td>\n",
       "    </tr>\n",
       "    <tr>\n",
       "      <th>642702</th>\n",
       "      <td>652796</td>\n",
       "      <td>是主力吗？越是慢涨越不跌空单的弟兄们焦虑不？不出大阴棒你开毛的空，以为自己是主力吗？越是慢涨越不跌</td>\n",
       "    </tr>\n",
       "  </tbody>\n",
       "</table>\n",
       "<p>612712 rows × 2 columns</p>\n",
       "</div>"
      ]
     },
     "metadata": {},
     "execution_count": 13
    }
   ],
   "metadata": {}
  },
  {
   "cell_type": "code",
   "execution_count": 15,
   "source": [
    "c = str(0)\n",
    "emoji_pattern.findall(c)"
   ],
   "outputs": [
    {
     "output_type": "execute_result",
     "data": {
      "text/plain": [
       "[]"
      ]
     },
     "metadata": {},
     "execution_count": 15
    }
   ],
   "metadata": {}
  },
  {
   "cell_type": "code",
   "execution_count": 18,
   "source": [
    "# 分词，筛选表情\n",
    "emoji_pattern = re.compile(r'\\[.\\]|\\[..\\]|\\[...\\]|\\[....\\]')\n",
    "emojis = []\n",
    "words = []\n",
    "for i in tqdm(range(len(detail_copy[:200000])), position=0, leave=True):\n",
    "    row = detail_copy.iloc[i]\n",
    "    c = str(row.content)\n",
    "    try:\n",
    "        s = SnowNLP(c)\n",
    "        w = s.words\n",
    "    except:\n",
    "        print('error')\n",
    "    try:\n",
    "        words.append(w)\n",
    "    except:\n",
    "        print('Error')\n",
    "    emoji = emoji_pattern.findall(c) #从字符串中查找所有符合表情格式的内容\n",
    "    emo = []\n",
    "    for i in range(len(emoji)):\n",
    "        it = emoji[i][1:-1]\n",
    "        emo.append(it)\n",
    "    emojis.append(emo)\n",
    "\n",
    "\n",
    "words_df = pd.DataFrame({'words': words})\n",
    "words_df['emoji'] = emojis\n",
    "words_df['index'] = detail_copy['index'][:200000]\n"
   ],
   "outputs": [
    {
     "output_type": "stream",
     "name": "stderr",
     "text": [
      "100%|██████████| 200000/200000 [3:16:42<00:00, 16.95it/s]\n"
     ]
    }
   ],
   "metadata": {}
  },
  {
   "cell_type": "code",
   "execution_count": 19,
   "source": [
    "words_df"
   ],
   "outputs": [
    {
     "output_type": "execute_result",
     "data": {
      "text/plain": [
       "                                                    words   emoji   index\n",
       "0       [含德, 之厚, 者, ，, 比于, 赤子, 。, 一, 年, 时光, 一, 晃, 就, 过...      []       0\n",
       "1                                 [周四, 鸡蛋, 会, 跌, 停, 吗, ？]      []       1\n",
       "2       [祝福, 慈, 文, 2020, 成为, 超级大, 牛, 股, ！, 东霞, 与骏, 马齐飞...      []       2\n",
       "3                                        [2020, 静待, 花, 开]      []       3\n",
       "4       [祝, 曙光, 的, 朋友, 们, 新年, 快乐, ，20, 年, 身体, 健康, 投资, 顺利]      []       4\n",
       "...                                                   ...     ...     ...\n",
       "199995                               [就, 没有, 勇气, 拿, 几, 天]      []  203399\n",
       "199996  [常, 山, 现在, 根本, 连, 半山腰, 都, 没, 到, ！, 满, 仓, 打, 进,...      []  203401\n",
       "199997  [[, 哭, ][, 哭, ], 我, 的, 心态, 崩, 了, ，, 以为, 今天, 会,...  [哭, 哭]  203402\n",
       "199998           [历史, 低位, ，, 差, 一阵风, ，3000, 点, 以下, 随便, 买]      []  203403\n",
       "199999                            [有, 谁, 62, 买, 的, 还, 没卖]      []  203404\n",
       "\n",
       "[200000 rows x 3 columns]"
      ],
      "text/html": [
       "<div>\n",
       "<style scoped>\n",
       "    .dataframe tbody tr th:only-of-type {\n",
       "        vertical-align: middle;\n",
       "    }\n",
       "\n",
       "    .dataframe tbody tr th {\n",
       "        vertical-align: top;\n",
       "    }\n",
       "\n",
       "    .dataframe thead th {\n",
       "        text-align: right;\n",
       "    }\n",
       "</style>\n",
       "<table border=\"1\" class=\"dataframe\">\n",
       "  <thead>\n",
       "    <tr style=\"text-align: right;\">\n",
       "      <th></th>\n",
       "      <th>words</th>\n",
       "      <th>emoji</th>\n",
       "      <th>index</th>\n",
       "    </tr>\n",
       "  </thead>\n",
       "  <tbody>\n",
       "    <tr>\n",
       "      <th>0</th>\n",
       "      <td>[含德, 之厚, 者, ，, 比于, 赤子, 。, 一, 年, 时光, 一, 晃, 就, 过...</td>\n",
       "      <td>[]</td>\n",
       "      <td>0</td>\n",
       "    </tr>\n",
       "    <tr>\n",
       "      <th>1</th>\n",
       "      <td>[周四, 鸡蛋, 会, 跌, 停, 吗, ？]</td>\n",
       "      <td>[]</td>\n",
       "      <td>1</td>\n",
       "    </tr>\n",
       "    <tr>\n",
       "      <th>2</th>\n",
       "      <td>[祝福, 慈, 文, 2020, 成为, 超级大, 牛, 股, ！, 东霞, 与骏, 马齐飞...</td>\n",
       "      <td>[]</td>\n",
       "      <td>2</td>\n",
       "    </tr>\n",
       "    <tr>\n",
       "      <th>3</th>\n",
       "      <td>[2020, 静待, 花, 开]</td>\n",
       "      <td>[]</td>\n",
       "      <td>3</td>\n",
       "    </tr>\n",
       "    <tr>\n",
       "      <th>4</th>\n",
       "      <td>[祝, 曙光, 的, 朋友, 们, 新年, 快乐, ，20, 年, 身体, 健康, 投资, 顺利]</td>\n",
       "      <td>[]</td>\n",
       "      <td>4</td>\n",
       "    </tr>\n",
       "    <tr>\n",
       "      <th>...</th>\n",
       "      <td>...</td>\n",
       "      <td>...</td>\n",
       "      <td>...</td>\n",
       "    </tr>\n",
       "    <tr>\n",
       "      <th>199995</th>\n",
       "      <td>[就, 没有, 勇气, 拿, 几, 天]</td>\n",
       "      <td>[]</td>\n",
       "      <td>203399</td>\n",
       "    </tr>\n",
       "    <tr>\n",
       "      <th>199996</th>\n",
       "      <td>[常, 山, 现在, 根本, 连, 半山腰, 都, 没, 到, ！, 满, 仓, 打, 进,...</td>\n",
       "      <td>[]</td>\n",
       "      <td>203401</td>\n",
       "    </tr>\n",
       "    <tr>\n",
       "      <th>199997</th>\n",
       "      <td>[[, 哭, ][, 哭, ], 我, 的, 心态, 崩, 了, ，, 以为, 今天, 会,...</td>\n",
       "      <td>[哭, 哭]</td>\n",
       "      <td>203402</td>\n",
       "    </tr>\n",
       "    <tr>\n",
       "      <th>199998</th>\n",
       "      <td>[历史, 低位, ，, 差, 一阵风, ，3000, 点, 以下, 随便, 买]</td>\n",
       "      <td>[]</td>\n",
       "      <td>203403</td>\n",
       "    </tr>\n",
       "    <tr>\n",
       "      <th>199999</th>\n",
       "      <td>[有, 谁, 62, 买, 的, 还, 没卖]</td>\n",
       "      <td>[]</td>\n",
       "      <td>203404</td>\n",
       "    </tr>\n",
       "  </tbody>\n",
       "</table>\n",
       "<p>200000 rows × 3 columns</p>\n",
       "</div>"
      ]
     },
     "metadata": {},
     "execution_count": 19
    }
   ],
   "metadata": {}
  },
  {
   "cell_type": "code",
   "execution_count": 20,
   "source": [
    "df2 = pd.read_csv('/home/afan/emotion_analysis/data/processed_data/p2.csv')\n",
    "df3 = pd.read_csv('/home/afan/emotion_analysis/data/processed_data/p3.csv')"
   ],
   "outputs": [],
   "metadata": {}
  },
  {
   "cell_type": "code",
   "execution_count": 22,
   "source": [
    "df = pd.concat([words_df,df2,df3]).reset_index(drop = True)\n",
    "df"
   ],
   "outputs": [
    {
     "output_type": "execute_result",
     "data": {
      "text/plain": [
       "                                                    words emoji   index\n",
       "0       [含德, 之厚, 者, ，, 比于, 赤子, 。, 一, 年, 时光, 一, 晃, 就, 过...    []       0\n",
       "1                                 [周四, 鸡蛋, 会, 跌, 停, 吗, ？]    []       1\n",
       "2       [祝福, 慈, 文, 2020, 成为, 超级大, 牛, 股, ！, 东霞, 与骏, 马齐飞...    []       2\n",
       "3                                        [2020, 静待, 花, 开]    []       3\n",
       "4       [祝, 曙光, 的, 朋友, 们, 新年, 快乐, ，20, 年, 身体, 健康, 投资, 顺利]    []       4\n",
       "...                                                   ...   ...     ...\n",
       "642698  ['说明', '价值', '投资', '才', '是', '上班族', '正确', '的',...    []  652792\n",
       "642699  ['买', '一手', '多', '，', '涨', '一个', '点', '，', '能'...    []  652793\n",
       "642700     ['哎', '，', '割肉', '了', '，', '不', '碰', '它', '了']    []  652794\n",
       "642701  ['七', '位', '副', '总裁', '突击', '成', '股东', '来源', '...    []  652795\n",
       "642702  ['是', '主力', '吗', '？', '越是', '慢', '涨越', '不跌', '...    []  652796\n",
       "\n",
       "[642703 rows x 3 columns]"
      ],
      "text/html": [
       "<div>\n",
       "<style scoped>\n",
       "    .dataframe tbody tr th:only-of-type {\n",
       "        vertical-align: middle;\n",
       "    }\n",
       "\n",
       "    .dataframe tbody tr th {\n",
       "        vertical-align: top;\n",
       "    }\n",
       "\n",
       "    .dataframe thead th {\n",
       "        text-align: right;\n",
       "    }\n",
       "</style>\n",
       "<table border=\"1\" class=\"dataframe\">\n",
       "  <thead>\n",
       "    <tr style=\"text-align: right;\">\n",
       "      <th></th>\n",
       "      <th>words</th>\n",
       "      <th>emoji</th>\n",
       "      <th>index</th>\n",
       "    </tr>\n",
       "  </thead>\n",
       "  <tbody>\n",
       "    <tr>\n",
       "      <th>0</th>\n",
       "      <td>[含德, 之厚, 者, ，, 比于, 赤子, 。, 一, 年, 时光, 一, 晃, 就, 过...</td>\n",
       "      <td>[]</td>\n",
       "      <td>0</td>\n",
       "    </tr>\n",
       "    <tr>\n",
       "      <th>1</th>\n",
       "      <td>[周四, 鸡蛋, 会, 跌, 停, 吗, ？]</td>\n",
       "      <td>[]</td>\n",
       "      <td>1</td>\n",
       "    </tr>\n",
       "    <tr>\n",
       "      <th>2</th>\n",
       "      <td>[祝福, 慈, 文, 2020, 成为, 超级大, 牛, 股, ！, 东霞, 与骏, 马齐飞...</td>\n",
       "      <td>[]</td>\n",
       "      <td>2</td>\n",
       "    </tr>\n",
       "    <tr>\n",
       "      <th>3</th>\n",
       "      <td>[2020, 静待, 花, 开]</td>\n",
       "      <td>[]</td>\n",
       "      <td>3</td>\n",
       "    </tr>\n",
       "    <tr>\n",
       "      <th>4</th>\n",
       "      <td>[祝, 曙光, 的, 朋友, 们, 新年, 快乐, ，20, 年, 身体, 健康, 投资, 顺利]</td>\n",
       "      <td>[]</td>\n",
       "      <td>4</td>\n",
       "    </tr>\n",
       "    <tr>\n",
       "      <th>...</th>\n",
       "      <td>...</td>\n",
       "      <td>...</td>\n",
       "      <td>...</td>\n",
       "    </tr>\n",
       "    <tr>\n",
       "      <th>642698</th>\n",
       "      <td>['说明', '价值', '投资', '才', '是', '上班族', '正确', '的',...</td>\n",
       "      <td>[]</td>\n",
       "      <td>652792</td>\n",
       "    </tr>\n",
       "    <tr>\n",
       "      <th>642699</th>\n",
       "      <td>['买', '一手', '多', '，', '涨', '一个', '点', '，', '能'...</td>\n",
       "      <td>[]</td>\n",
       "      <td>652793</td>\n",
       "    </tr>\n",
       "    <tr>\n",
       "      <th>642700</th>\n",
       "      <td>['哎', '，', '割肉', '了', '，', '不', '碰', '它', '了']</td>\n",
       "      <td>[]</td>\n",
       "      <td>652794</td>\n",
       "    </tr>\n",
       "    <tr>\n",
       "      <th>642701</th>\n",
       "      <td>['七', '位', '副', '总裁', '突击', '成', '股东', '来源', '...</td>\n",
       "      <td>[]</td>\n",
       "      <td>652795</td>\n",
       "    </tr>\n",
       "    <tr>\n",
       "      <th>642702</th>\n",
       "      <td>['是', '主力', '吗', '？', '越是', '慢', '涨越', '不跌', '...</td>\n",
       "      <td>[]</td>\n",
       "      <td>652796</td>\n",
       "    </tr>\n",
       "  </tbody>\n",
       "</table>\n",
       "<p>642703 rows × 3 columns</p>\n",
       "</div>"
      ]
     },
     "metadata": {},
     "execution_count": 22
    }
   ],
   "metadata": {}
  },
  {
   "cell_type": "code",
   "execution_count": 23,
   "source": [
    "df.to_csv('/home/afan/emotion_analysis/data/processed_data/details_seg_.csv',index=False)"
   ],
   "outputs": [],
   "metadata": {}
  },
  {
   "cell_type": "code",
   "execution_count": 3,
   "source": [
    "df = pd.read_csv('/home/afan/emotion_analysis/data/processed_data/details_seg_.csv')"
   ],
   "outputs": [],
   "metadata": {}
  },
  {
   "cell_type": "code",
   "execution_count": 4,
   "source": [
    "df"
   ],
   "outputs": [
    {
     "output_type": "execute_result",
     "data": {
      "text/plain": [
       "                                                    words emoji   index\n",
       "0       ['含德', '之厚', '者', '，', '比于', '赤子', '。', '一', '...    []       0\n",
       "1                   ['周四', '鸡蛋', '会', '跌', '停', '吗', '？']    []       1\n",
       "2       ['祝福', '慈', '文', '2020', '成为', '超级大', '牛', '股'...    []       2\n",
       "3                                ['2020', '静待', '花', '开']    []       3\n",
       "4       ['祝', '曙光', '的', '朋友', '们', '新年', '快乐', '，20',...    []       4\n",
       "...                                                   ...   ...     ...\n",
       "642698  ['说明', '价值', '投资', '才', '是', '上班族', '正确', '的',...    []  652792\n",
       "642699  ['买', '一手', '多', '，', '涨', '一个', '点', '，', '能'...    []  652793\n",
       "642700     ['哎', '，', '割肉', '了', '，', '不', '碰', '它', '了']    []  652794\n",
       "642701  ['七', '位', '副', '总裁', '突击', '成', '股东', '来源', '...    []  652795\n",
       "642702  ['是', '主力', '吗', '？', '越是', '慢', '涨越', '不跌', '...    []  652796\n",
       "\n",
       "[642703 rows x 3 columns]"
      ],
      "text/html": [
       "<div>\n",
       "<style scoped>\n",
       "    .dataframe tbody tr th:only-of-type {\n",
       "        vertical-align: middle;\n",
       "    }\n",
       "\n",
       "    .dataframe tbody tr th {\n",
       "        vertical-align: top;\n",
       "    }\n",
       "\n",
       "    .dataframe thead th {\n",
       "        text-align: right;\n",
       "    }\n",
       "</style>\n",
       "<table border=\"1\" class=\"dataframe\">\n",
       "  <thead>\n",
       "    <tr style=\"text-align: right;\">\n",
       "      <th></th>\n",
       "      <th>words</th>\n",
       "      <th>emoji</th>\n",
       "      <th>index</th>\n",
       "    </tr>\n",
       "  </thead>\n",
       "  <tbody>\n",
       "    <tr>\n",
       "      <th>0</th>\n",
       "      <td>['含德', '之厚', '者', '，', '比于', '赤子', '。', '一', '...</td>\n",
       "      <td>[]</td>\n",
       "      <td>0</td>\n",
       "    </tr>\n",
       "    <tr>\n",
       "      <th>1</th>\n",
       "      <td>['周四', '鸡蛋', '会', '跌', '停', '吗', '？']</td>\n",
       "      <td>[]</td>\n",
       "      <td>1</td>\n",
       "    </tr>\n",
       "    <tr>\n",
       "      <th>2</th>\n",
       "      <td>['祝福', '慈', '文', '2020', '成为', '超级大', '牛', '股'...</td>\n",
       "      <td>[]</td>\n",
       "      <td>2</td>\n",
       "    </tr>\n",
       "    <tr>\n",
       "      <th>3</th>\n",
       "      <td>['2020', '静待', '花', '开']</td>\n",
       "      <td>[]</td>\n",
       "      <td>3</td>\n",
       "    </tr>\n",
       "    <tr>\n",
       "      <th>4</th>\n",
       "      <td>['祝', '曙光', '的', '朋友', '们', '新年', '快乐', '，20',...</td>\n",
       "      <td>[]</td>\n",
       "      <td>4</td>\n",
       "    </tr>\n",
       "    <tr>\n",
       "      <th>...</th>\n",
       "      <td>...</td>\n",
       "      <td>...</td>\n",
       "      <td>...</td>\n",
       "    </tr>\n",
       "    <tr>\n",
       "      <th>642698</th>\n",
       "      <td>['说明', '价值', '投资', '才', '是', '上班族', '正确', '的',...</td>\n",
       "      <td>[]</td>\n",
       "      <td>652792</td>\n",
       "    </tr>\n",
       "    <tr>\n",
       "      <th>642699</th>\n",
       "      <td>['买', '一手', '多', '，', '涨', '一个', '点', '，', '能'...</td>\n",
       "      <td>[]</td>\n",
       "      <td>652793</td>\n",
       "    </tr>\n",
       "    <tr>\n",
       "      <th>642700</th>\n",
       "      <td>['哎', '，', '割肉', '了', '，', '不', '碰', '它', '了']</td>\n",
       "      <td>[]</td>\n",
       "      <td>652794</td>\n",
       "    </tr>\n",
       "    <tr>\n",
       "      <th>642701</th>\n",
       "      <td>['七', '位', '副', '总裁', '突击', '成', '股东', '来源', '...</td>\n",
       "      <td>[]</td>\n",
       "      <td>652795</td>\n",
       "    </tr>\n",
       "    <tr>\n",
       "      <th>642702</th>\n",
       "      <td>['是', '主力', '吗', '？', '越是', '慢', '涨越', '不跌', '...</td>\n",
       "      <td>[]</td>\n",
       "      <td>652796</td>\n",
       "    </tr>\n",
       "  </tbody>\n",
       "</table>\n",
       "<p>642703 rows × 3 columns</p>\n",
       "</div>"
      ]
     },
     "metadata": {},
     "execution_count": 4
    }
   ],
   "metadata": {}
  },
  {
   "cell_type": "code",
   "execution_count": 5,
   "source": [
    "df = df.rename(columns = {'words':'word'})"
   ],
   "outputs": [],
   "metadata": {}
  },
  {
   "cell_type": "code",
   "execution_count": 37,
   "source": [
    "df"
   ],
   "outputs": [
    {
     "output_type": "execute_result",
     "data": {
      "text/plain": [
       "                                                     word emoji   index\n",
       "0       ['含德', '之厚', '者', '，', '比于', '赤子', '。', '一', '...    []       0\n",
       "1                   ['周四', '鸡蛋', '会', '跌', '停', '吗', '？']    []       1\n",
       "2       ['祝福', '慈', '文', '2020', '成为', '超级大', '牛', '股'...    []       2\n",
       "3                                ['2020', '静待', '花', '开']    []       3\n",
       "4       ['祝', '曙光', '的', '朋友', '们', '新年', '快乐', '，20',...    []       4\n",
       "...                                                   ...   ...     ...\n",
       "642698  ['说明', '价值', '投资', '才', '是', '上班族', '正确', '的',...    []  652792\n",
       "642699  ['买', '一手', '多', '，', '涨', '一个', '点', '，', '能'...    []  652793\n",
       "642700     ['哎', '，', '割肉', '了', '，', '不', '碰', '它', '了']    []  652794\n",
       "642701  ['七', '位', '副', '总裁', '突击', '成', '股东', '来源', '...    []  652795\n",
       "642702  ['是', '主力', '吗', '？', '越是', '慢', '涨越', '不跌', '...    []  652796\n",
       "\n",
       "[642703 rows x 3 columns]"
      ],
      "text/html": [
       "<div>\n",
       "<style scoped>\n",
       "    .dataframe tbody tr th:only-of-type {\n",
       "        vertical-align: middle;\n",
       "    }\n",
       "\n",
       "    .dataframe tbody tr th {\n",
       "        vertical-align: top;\n",
       "    }\n",
       "\n",
       "    .dataframe thead th {\n",
       "        text-align: right;\n",
       "    }\n",
       "</style>\n",
       "<table border=\"1\" class=\"dataframe\">\n",
       "  <thead>\n",
       "    <tr style=\"text-align: right;\">\n",
       "      <th></th>\n",
       "      <th>word</th>\n",
       "      <th>emoji</th>\n",
       "      <th>index</th>\n",
       "    </tr>\n",
       "  </thead>\n",
       "  <tbody>\n",
       "    <tr>\n",
       "      <th>0</th>\n",
       "      <td>['含德', '之厚', '者', '，', '比于', '赤子', '。', '一', '...</td>\n",
       "      <td>[]</td>\n",
       "      <td>0</td>\n",
       "    </tr>\n",
       "    <tr>\n",
       "      <th>1</th>\n",
       "      <td>['周四', '鸡蛋', '会', '跌', '停', '吗', '？']</td>\n",
       "      <td>[]</td>\n",
       "      <td>1</td>\n",
       "    </tr>\n",
       "    <tr>\n",
       "      <th>2</th>\n",
       "      <td>['祝福', '慈', '文', '2020', '成为', '超级大', '牛', '股'...</td>\n",
       "      <td>[]</td>\n",
       "      <td>2</td>\n",
       "    </tr>\n",
       "    <tr>\n",
       "      <th>3</th>\n",
       "      <td>['2020', '静待', '花', '开']</td>\n",
       "      <td>[]</td>\n",
       "      <td>3</td>\n",
       "    </tr>\n",
       "    <tr>\n",
       "      <th>4</th>\n",
       "      <td>['祝', '曙光', '的', '朋友', '们', '新年', '快乐', '，20',...</td>\n",
       "      <td>[]</td>\n",
       "      <td>4</td>\n",
       "    </tr>\n",
       "    <tr>\n",
       "      <th>...</th>\n",
       "      <td>...</td>\n",
       "      <td>...</td>\n",
       "      <td>...</td>\n",
       "    </tr>\n",
       "    <tr>\n",
       "      <th>642698</th>\n",
       "      <td>['说明', '价值', '投资', '才', '是', '上班族', '正确', '的',...</td>\n",
       "      <td>[]</td>\n",
       "      <td>652792</td>\n",
       "    </tr>\n",
       "    <tr>\n",
       "      <th>642699</th>\n",
       "      <td>['买', '一手', '多', '，', '涨', '一个', '点', '，', '能'...</td>\n",
       "      <td>[]</td>\n",
       "      <td>652793</td>\n",
       "    </tr>\n",
       "    <tr>\n",
       "      <th>642700</th>\n",
       "      <td>['哎', '，', '割肉', '了', '，', '不', '碰', '它', '了']</td>\n",
       "      <td>[]</td>\n",
       "      <td>652794</td>\n",
       "    </tr>\n",
       "    <tr>\n",
       "      <th>642701</th>\n",
       "      <td>['七', '位', '副', '总裁', '突击', '成', '股东', '来源', '...</td>\n",
       "      <td>[]</td>\n",
       "      <td>652795</td>\n",
       "    </tr>\n",
       "    <tr>\n",
       "      <th>642702</th>\n",
       "      <td>['是', '主力', '吗', '？', '越是', '慢', '涨越', '不跌', '...</td>\n",
       "      <td>[]</td>\n",
       "      <td>652796</td>\n",
       "    </tr>\n",
       "  </tbody>\n",
       "</table>\n",
       "<p>642703 rows × 3 columns</p>\n",
       "</div>"
      ]
     },
     "metadata": {},
     "execution_count": 37
    }
   ],
   "metadata": {}
  },
  {
   "cell_type": "code",
   "execution_count": 6,
   "source": [
    "df.index = df['index']\n",
    "df"
   ],
   "outputs": [
    {
     "output_type": "execute_result",
     "data": {
      "text/plain": [
       "                                                     word emoji   index\n",
       "index                                                                  \n",
       "0       ['含德', '之厚', '者', '，', '比于', '赤子', '。', '一', '...    []       0\n",
       "1                   ['周四', '鸡蛋', '会', '跌', '停', '吗', '？']    []       1\n",
       "2       ['祝福', '慈', '文', '2020', '成为', '超级大', '牛', '股'...    []       2\n",
       "3                                ['2020', '静待', '花', '开']    []       3\n",
       "4       ['祝', '曙光', '的', '朋友', '们', '新年', '快乐', '，20',...    []       4\n",
       "...                                                   ...   ...     ...\n",
       "652792  ['说明', '价值', '投资', '才', '是', '上班族', '正确', '的',...    []  652792\n",
       "652793  ['买', '一手', '多', '，', '涨', '一个', '点', '，', '能'...    []  652793\n",
       "652794     ['哎', '，', '割肉', '了', '，', '不', '碰', '它', '了']    []  652794\n",
       "652795  ['七', '位', '副', '总裁', '突击', '成', '股东', '来源', '...    []  652795\n",
       "652796  ['是', '主力', '吗', '？', '越是', '慢', '涨越', '不跌', '...    []  652796\n",
       "\n",
       "[642703 rows x 3 columns]"
      ],
      "text/html": [
       "<div>\n",
       "<style scoped>\n",
       "    .dataframe tbody tr th:only-of-type {\n",
       "        vertical-align: middle;\n",
       "    }\n",
       "\n",
       "    .dataframe tbody tr th {\n",
       "        vertical-align: top;\n",
       "    }\n",
       "\n",
       "    .dataframe thead th {\n",
       "        text-align: right;\n",
       "    }\n",
       "</style>\n",
       "<table border=\"1\" class=\"dataframe\">\n",
       "  <thead>\n",
       "    <tr style=\"text-align: right;\">\n",
       "      <th></th>\n",
       "      <th>word</th>\n",
       "      <th>emoji</th>\n",
       "      <th>index</th>\n",
       "    </tr>\n",
       "    <tr>\n",
       "      <th>index</th>\n",
       "      <th></th>\n",
       "      <th></th>\n",
       "      <th></th>\n",
       "    </tr>\n",
       "  </thead>\n",
       "  <tbody>\n",
       "    <tr>\n",
       "      <th>0</th>\n",
       "      <td>['含德', '之厚', '者', '，', '比于', '赤子', '。', '一', '...</td>\n",
       "      <td>[]</td>\n",
       "      <td>0</td>\n",
       "    </tr>\n",
       "    <tr>\n",
       "      <th>1</th>\n",
       "      <td>['周四', '鸡蛋', '会', '跌', '停', '吗', '？']</td>\n",
       "      <td>[]</td>\n",
       "      <td>1</td>\n",
       "    </tr>\n",
       "    <tr>\n",
       "      <th>2</th>\n",
       "      <td>['祝福', '慈', '文', '2020', '成为', '超级大', '牛', '股'...</td>\n",
       "      <td>[]</td>\n",
       "      <td>2</td>\n",
       "    </tr>\n",
       "    <tr>\n",
       "      <th>3</th>\n",
       "      <td>['2020', '静待', '花', '开']</td>\n",
       "      <td>[]</td>\n",
       "      <td>3</td>\n",
       "    </tr>\n",
       "    <tr>\n",
       "      <th>4</th>\n",
       "      <td>['祝', '曙光', '的', '朋友', '们', '新年', '快乐', '，20',...</td>\n",
       "      <td>[]</td>\n",
       "      <td>4</td>\n",
       "    </tr>\n",
       "    <tr>\n",
       "      <th>...</th>\n",
       "      <td>...</td>\n",
       "      <td>...</td>\n",
       "      <td>...</td>\n",
       "    </tr>\n",
       "    <tr>\n",
       "      <th>652792</th>\n",
       "      <td>['说明', '价值', '投资', '才', '是', '上班族', '正确', '的',...</td>\n",
       "      <td>[]</td>\n",
       "      <td>652792</td>\n",
       "    </tr>\n",
       "    <tr>\n",
       "      <th>652793</th>\n",
       "      <td>['买', '一手', '多', '，', '涨', '一个', '点', '，', '能'...</td>\n",
       "      <td>[]</td>\n",
       "      <td>652793</td>\n",
       "    </tr>\n",
       "    <tr>\n",
       "      <th>652794</th>\n",
       "      <td>['哎', '，', '割肉', '了', '，', '不', '碰', '它', '了']</td>\n",
       "      <td>[]</td>\n",
       "      <td>652794</td>\n",
       "    </tr>\n",
       "    <tr>\n",
       "      <th>652795</th>\n",
       "      <td>['七', '位', '副', '总裁', '突击', '成', '股东', '来源', '...</td>\n",
       "      <td>[]</td>\n",
       "      <td>652795</td>\n",
       "    </tr>\n",
       "    <tr>\n",
       "      <th>652796</th>\n",
       "      <td>['是', '主力', '吗', '？', '越是', '慢', '涨越', '不跌', '...</td>\n",
       "      <td>[]</td>\n",
       "      <td>652796</td>\n",
       "    </tr>\n",
       "  </tbody>\n",
       "</table>\n",
       "<p>642703 rows × 3 columns</p>\n",
       "</div>"
      ]
     },
     "metadata": {},
     "execution_count": 6
    }
   ],
   "metadata": {}
  },
  {
   "cell_type": "code",
   "execution_count": 7,
   "source": [
    "df = df [['word','emoji']]\n",
    "df"
   ],
   "outputs": [
    {
     "output_type": "execute_result",
     "data": {
      "text/plain": [
       "                                                     word emoji\n",
       "index                                                          \n",
       "0       ['含德', '之厚', '者', '，', '比于', '赤子', '。', '一', '...    []\n",
       "1                   ['周四', '鸡蛋', '会', '跌', '停', '吗', '？']    []\n",
       "2       ['祝福', '慈', '文', '2020', '成为', '超级大', '牛', '股'...    []\n",
       "3                                ['2020', '静待', '花', '开']    []\n",
       "4       ['祝', '曙光', '的', '朋友', '们', '新年', '快乐', '，20',...    []\n",
       "...                                                   ...   ...\n",
       "652792  ['说明', '价值', '投资', '才', '是', '上班族', '正确', '的',...    []\n",
       "652793  ['买', '一手', '多', '，', '涨', '一个', '点', '，', '能'...    []\n",
       "652794     ['哎', '，', '割肉', '了', '，', '不', '碰', '它', '了']    []\n",
       "652795  ['七', '位', '副', '总裁', '突击', '成', '股东', '来源', '...    []\n",
       "652796  ['是', '主力', '吗', '？', '越是', '慢', '涨越', '不跌', '...    []\n",
       "\n",
       "[642703 rows x 2 columns]"
      ],
      "text/html": [
       "<div>\n",
       "<style scoped>\n",
       "    .dataframe tbody tr th:only-of-type {\n",
       "        vertical-align: middle;\n",
       "    }\n",
       "\n",
       "    .dataframe tbody tr th {\n",
       "        vertical-align: top;\n",
       "    }\n",
       "\n",
       "    .dataframe thead th {\n",
       "        text-align: right;\n",
       "    }\n",
       "</style>\n",
       "<table border=\"1\" class=\"dataframe\">\n",
       "  <thead>\n",
       "    <tr style=\"text-align: right;\">\n",
       "      <th></th>\n",
       "      <th>word</th>\n",
       "      <th>emoji</th>\n",
       "    </tr>\n",
       "    <tr>\n",
       "      <th>index</th>\n",
       "      <th></th>\n",
       "      <th></th>\n",
       "    </tr>\n",
       "  </thead>\n",
       "  <tbody>\n",
       "    <tr>\n",
       "      <th>0</th>\n",
       "      <td>['含德', '之厚', '者', '，', '比于', '赤子', '。', '一', '...</td>\n",
       "      <td>[]</td>\n",
       "    </tr>\n",
       "    <tr>\n",
       "      <th>1</th>\n",
       "      <td>['周四', '鸡蛋', '会', '跌', '停', '吗', '？']</td>\n",
       "      <td>[]</td>\n",
       "    </tr>\n",
       "    <tr>\n",
       "      <th>2</th>\n",
       "      <td>['祝福', '慈', '文', '2020', '成为', '超级大', '牛', '股'...</td>\n",
       "      <td>[]</td>\n",
       "    </tr>\n",
       "    <tr>\n",
       "      <th>3</th>\n",
       "      <td>['2020', '静待', '花', '开']</td>\n",
       "      <td>[]</td>\n",
       "    </tr>\n",
       "    <tr>\n",
       "      <th>4</th>\n",
       "      <td>['祝', '曙光', '的', '朋友', '们', '新年', '快乐', '，20',...</td>\n",
       "      <td>[]</td>\n",
       "    </tr>\n",
       "    <tr>\n",
       "      <th>...</th>\n",
       "      <td>...</td>\n",
       "      <td>...</td>\n",
       "    </tr>\n",
       "    <tr>\n",
       "      <th>652792</th>\n",
       "      <td>['说明', '价值', '投资', '才', '是', '上班族', '正确', '的',...</td>\n",
       "      <td>[]</td>\n",
       "    </tr>\n",
       "    <tr>\n",
       "      <th>652793</th>\n",
       "      <td>['买', '一手', '多', '，', '涨', '一个', '点', '，', '能'...</td>\n",
       "      <td>[]</td>\n",
       "    </tr>\n",
       "    <tr>\n",
       "      <th>652794</th>\n",
       "      <td>['哎', '，', '割肉', '了', '，', '不', '碰', '它', '了']</td>\n",
       "      <td>[]</td>\n",
       "    </tr>\n",
       "    <tr>\n",
       "      <th>652795</th>\n",
       "      <td>['七', '位', '副', '总裁', '突击', '成', '股东', '来源', '...</td>\n",
       "      <td>[]</td>\n",
       "    </tr>\n",
       "    <tr>\n",
       "      <th>652796</th>\n",
       "      <td>['是', '主力', '吗', '？', '越是', '慢', '涨越', '不跌', '...</td>\n",
       "      <td>[]</td>\n",
       "    </tr>\n",
       "  </tbody>\n",
       "</table>\n",
       "<p>642703 rows × 2 columns</p>\n",
       "</div>"
      ]
     },
     "metadata": {},
     "execution_count": 7
    }
   ],
   "metadata": {}
  },
  {
   "cell_type": "code",
   "execution_count": 8,
   "source": [
    "df1 = df.T\n",
    "df1"
   ],
   "outputs": [
    {
     "output_type": "execute_result",
     "data": {
      "text/plain": [
       "index                                             0       \\\n",
       "word   ['含德', '之厚', '者', '，', '比于', '赤子', '。', '一', '...   \n",
       "emoji                                                 []   \n",
       "\n",
       "index                                 1       \\\n",
       "word   ['周四', '鸡蛋', '会', '跌', '停', '吗', '？']   \n",
       "emoji                                     []   \n",
       "\n",
       "index                                             2       \\\n",
       "word   ['祝福', '慈', '文', '2020', '成为', '超级大', '牛', '股'...   \n",
       "emoji                                                 []   \n",
       "\n",
       "index                    3       \\\n",
       "word   ['2020', '静待', '花', '开']   \n",
       "emoji                        []   \n",
       "\n",
       "index                                             4       \\\n",
       "word   ['祝', '曙光', '的', '朋友', '们', '新年', '快乐', '，20',...   \n",
       "emoji                                                 []   \n",
       "\n",
       "index                                             5       \\\n",
       "word   ['推土机', '式', '上', '升', '，', '这种', '走势', '是', '...   \n",
       "emoji                                                 []   \n",
       "\n",
       "index                                             6       \\\n",
       "word   ['新年', '钟声', '敲响', '之际', '，', '开', '新年', '第一',...   \n",
       "emoji                                                 []   \n",
       "\n",
       "index                                           7       \\\n",
       "word   ['回', '落后', '，', '见', '75', '元', '必', '买', '！']   \n",
       "emoji                                               []   \n",
       "\n",
       "index                                             8       \\\n",
       "word   ['胜利', '][', '胜利', '][', '胜利', ']', '我', '只', ...   \n",
       "emoji                                       ['胜利', '胜利']   \n",
       "\n",
       "index                                             9       ...  \\\n",
       "word   ['百货', '都', '拿', '不', '下', '，', '名声', '就', '臭'...  ...   \n",
       "emoji                                                 []  ...   \n",
       "\n",
       "index                                             652786       652787  \\\n",
       "word   ['大', '了', ']', '真', '看', '的起', '我', '这', '一手'...  ['多', '起来']   \n",
       "emoji                                                 []           []   \n",
       "\n",
       "index          652788                                             652789  \\\n",
       "word   ['5702', '收盘']  ['。', '国家', '出', '手', '了', '，', '明天', '大家', '就...   \n",
       "emoji              []                                                 []   \n",
       "\n",
       "index                                             652790  \\\n",
       "word   ['最后', '一下', '了', '，', '做', '多', '的', '准备', '梭...   \n",
       "emoji                                                 []   \n",
       "\n",
       "index                                             652792  \\\n",
       "word   ['说明', '价值', '投资', '才', '是', '上班族', '正确', '的',...   \n",
       "emoji                                                 []   \n",
       "\n",
       "index                                             652793  \\\n",
       "word   ['买', '一手', '多', '，', '涨', '一个', '点', '，', '能'...   \n",
       "emoji                                                 []   \n",
       "\n",
       "index                                          652794  \\\n",
       "word   ['哎', '，', '割肉', '了', '，', '不', '碰', '它', '了']   \n",
       "emoji                                              []   \n",
       "\n",
       "index                                             652795  \\\n",
       "word   ['七', '位', '副', '总裁', '突击', '成', '股东', '来源', '...   \n",
       "emoji                                                 []   \n",
       "\n",
       "index                                             652796  \n",
       "word   ['是', '主力', '吗', '？', '越是', '慢', '涨越', '不跌', '...  \n",
       "emoji                                                 []  \n",
       "\n",
       "[2 rows x 642703 columns]"
      ],
      "text/html": [
       "<div>\n",
       "<style scoped>\n",
       "    .dataframe tbody tr th:only-of-type {\n",
       "        vertical-align: middle;\n",
       "    }\n",
       "\n",
       "    .dataframe tbody tr th {\n",
       "        vertical-align: top;\n",
       "    }\n",
       "\n",
       "    .dataframe thead th {\n",
       "        text-align: right;\n",
       "    }\n",
       "</style>\n",
       "<table border=\"1\" class=\"dataframe\">\n",
       "  <thead>\n",
       "    <tr style=\"text-align: right;\">\n",
       "      <th>index</th>\n",
       "      <th>0</th>\n",
       "      <th>1</th>\n",
       "      <th>2</th>\n",
       "      <th>3</th>\n",
       "      <th>4</th>\n",
       "      <th>5</th>\n",
       "      <th>6</th>\n",
       "      <th>7</th>\n",
       "      <th>8</th>\n",
       "      <th>9</th>\n",
       "      <th>...</th>\n",
       "      <th>652786</th>\n",
       "      <th>652787</th>\n",
       "      <th>652788</th>\n",
       "      <th>652789</th>\n",
       "      <th>652790</th>\n",
       "      <th>652792</th>\n",
       "      <th>652793</th>\n",
       "      <th>652794</th>\n",
       "      <th>652795</th>\n",
       "      <th>652796</th>\n",
       "    </tr>\n",
       "  </thead>\n",
       "  <tbody>\n",
       "    <tr>\n",
       "      <th>word</th>\n",
       "      <td>['含德', '之厚', '者', '，', '比于', '赤子', '。', '一', '...</td>\n",
       "      <td>['周四', '鸡蛋', '会', '跌', '停', '吗', '？']</td>\n",
       "      <td>['祝福', '慈', '文', '2020', '成为', '超级大', '牛', '股'...</td>\n",
       "      <td>['2020', '静待', '花', '开']</td>\n",
       "      <td>['祝', '曙光', '的', '朋友', '们', '新年', '快乐', '，20',...</td>\n",
       "      <td>['推土机', '式', '上', '升', '，', '这种', '走势', '是', '...</td>\n",
       "      <td>['新年', '钟声', '敲响', '之际', '，', '开', '新年', '第一',...</td>\n",
       "      <td>['回', '落后', '，', '见', '75', '元', '必', '买', '！']</td>\n",
       "      <td>['胜利', '][', '胜利', '][', '胜利', ']', '我', '只', ...</td>\n",
       "      <td>['百货', '都', '拿', '不', '下', '，', '名声', '就', '臭'...</td>\n",
       "      <td>...</td>\n",
       "      <td>['大', '了', ']', '真', '看', '的起', '我', '这', '一手'...</td>\n",
       "      <td>['多', '起来']</td>\n",
       "      <td>['5702', '收盘']</td>\n",
       "      <td>['。', '国家', '出', '手', '了', '，', '明天', '大家', '就...</td>\n",
       "      <td>['最后', '一下', '了', '，', '做', '多', '的', '准备', '梭...</td>\n",
       "      <td>['说明', '价值', '投资', '才', '是', '上班族', '正确', '的',...</td>\n",
       "      <td>['买', '一手', '多', '，', '涨', '一个', '点', '，', '能'...</td>\n",
       "      <td>['哎', '，', '割肉', '了', '，', '不', '碰', '它', '了']</td>\n",
       "      <td>['七', '位', '副', '总裁', '突击', '成', '股东', '来源', '...</td>\n",
       "      <td>['是', '主力', '吗', '？', '越是', '慢', '涨越', '不跌', '...</td>\n",
       "    </tr>\n",
       "    <tr>\n",
       "      <th>emoji</th>\n",
       "      <td>[]</td>\n",
       "      <td>[]</td>\n",
       "      <td>[]</td>\n",
       "      <td>[]</td>\n",
       "      <td>[]</td>\n",
       "      <td>[]</td>\n",
       "      <td>[]</td>\n",
       "      <td>[]</td>\n",
       "      <td>['胜利', '胜利']</td>\n",
       "      <td>[]</td>\n",
       "      <td>...</td>\n",
       "      <td>[]</td>\n",
       "      <td>[]</td>\n",
       "      <td>[]</td>\n",
       "      <td>[]</td>\n",
       "      <td>[]</td>\n",
       "      <td>[]</td>\n",
       "      <td>[]</td>\n",
       "      <td>[]</td>\n",
       "      <td>[]</td>\n",
       "      <td>[]</td>\n",
       "    </tr>\n",
       "  </tbody>\n",
       "</table>\n",
       "<p>2 rows × 642703 columns</p>\n",
       "</div>"
      ]
     },
     "metadata": {},
     "execution_count": 8
    }
   ],
   "metadata": {}
  },
  {
   "cell_type": "code",
   "execution_count": 9,
   "source": [
    "df1.index=['words','emoji']"
   ],
   "outputs": [],
   "metadata": {}
  },
  {
   "cell_type": "code",
   "execution_count": 10,
   "source": [
    "df1"
   ],
   "outputs": [
    {
     "output_type": "execute_result",
     "data": {
      "text/plain": [
       "index                                             0       \\\n",
       "words  ['含德', '之厚', '者', '，', '比于', '赤子', '。', '一', '...   \n",
       "emoji                                                 []   \n",
       "\n",
       "index                                 1       \\\n",
       "words  ['周四', '鸡蛋', '会', '跌', '停', '吗', '？']   \n",
       "emoji                                     []   \n",
       "\n",
       "index                                             2       \\\n",
       "words  ['祝福', '慈', '文', '2020', '成为', '超级大', '牛', '股'...   \n",
       "emoji                                                 []   \n",
       "\n",
       "index                    3       \\\n",
       "words  ['2020', '静待', '花', '开']   \n",
       "emoji                        []   \n",
       "\n",
       "index                                             4       \\\n",
       "words  ['祝', '曙光', '的', '朋友', '们', '新年', '快乐', '，20',...   \n",
       "emoji                                                 []   \n",
       "\n",
       "index                                             5       \\\n",
       "words  ['推土机', '式', '上', '升', '，', '这种', '走势', '是', '...   \n",
       "emoji                                                 []   \n",
       "\n",
       "index                                             6       \\\n",
       "words  ['新年', '钟声', '敲响', '之际', '，', '开', '新年', '第一',...   \n",
       "emoji                                                 []   \n",
       "\n",
       "index                                           7       \\\n",
       "words  ['回', '落后', '，', '见', '75', '元', '必', '买', '！']   \n",
       "emoji                                               []   \n",
       "\n",
       "index                                             8       \\\n",
       "words  ['胜利', '][', '胜利', '][', '胜利', ']', '我', '只', ...   \n",
       "emoji                                       ['胜利', '胜利']   \n",
       "\n",
       "index                                             9       ...  \\\n",
       "words  ['百货', '都', '拿', '不', '下', '，', '名声', '就', '臭'...  ...   \n",
       "emoji                                                 []  ...   \n",
       "\n",
       "index                                             652786       652787  \\\n",
       "words  ['大', '了', ']', '真', '看', '的起', '我', '这', '一手'...  ['多', '起来']   \n",
       "emoji                                                 []           []   \n",
       "\n",
       "index          652788                                             652789  \\\n",
       "words  ['5702', '收盘']  ['。', '国家', '出', '手', '了', '，', '明天', '大家', '就...   \n",
       "emoji              []                                                 []   \n",
       "\n",
       "index                                             652790  \\\n",
       "words  ['最后', '一下', '了', '，', '做', '多', '的', '准备', '梭...   \n",
       "emoji                                                 []   \n",
       "\n",
       "index                                             652792  \\\n",
       "words  ['说明', '价值', '投资', '才', '是', '上班族', '正确', '的',...   \n",
       "emoji                                                 []   \n",
       "\n",
       "index                                             652793  \\\n",
       "words  ['买', '一手', '多', '，', '涨', '一个', '点', '，', '能'...   \n",
       "emoji                                                 []   \n",
       "\n",
       "index                                          652794  \\\n",
       "words  ['哎', '，', '割肉', '了', '，', '不', '碰', '它', '了']   \n",
       "emoji                                              []   \n",
       "\n",
       "index                                             652795  \\\n",
       "words  ['七', '位', '副', '总裁', '突击', '成', '股东', '来源', '...   \n",
       "emoji                                                 []   \n",
       "\n",
       "index                                             652796  \n",
       "words  ['是', '主力', '吗', '？', '越是', '慢', '涨越', '不跌', '...  \n",
       "emoji                                                 []  \n",
       "\n",
       "[2 rows x 642703 columns]"
      ],
      "text/html": [
       "<div>\n",
       "<style scoped>\n",
       "    .dataframe tbody tr th:only-of-type {\n",
       "        vertical-align: middle;\n",
       "    }\n",
       "\n",
       "    .dataframe tbody tr th {\n",
       "        vertical-align: top;\n",
       "    }\n",
       "\n",
       "    .dataframe thead th {\n",
       "        text-align: right;\n",
       "    }\n",
       "</style>\n",
       "<table border=\"1\" class=\"dataframe\">\n",
       "  <thead>\n",
       "    <tr style=\"text-align: right;\">\n",
       "      <th>index</th>\n",
       "      <th>0</th>\n",
       "      <th>1</th>\n",
       "      <th>2</th>\n",
       "      <th>3</th>\n",
       "      <th>4</th>\n",
       "      <th>5</th>\n",
       "      <th>6</th>\n",
       "      <th>7</th>\n",
       "      <th>8</th>\n",
       "      <th>9</th>\n",
       "      <th>...</th>\n",
       "      <th>652786</th>\n",
       "      <th>652787</th>\n",
       "      <th>652788</th>\n",
       "      <th>652789</th>\n",
       "      <th>652790</th>\n",
       "      <th>652792</th>\n",
       "      <th>652793</th>\n",
       "      <th>652794</th>\n",
       "      <th>652795</th>\n",
       "      <th>652796</th>\n",
       "    </tr>\n",
       "  </thead>\n",
       "  <tbody>\n",
       "    <tr>\n",
       "      <th>words</th>\n",
       "      <td>['含德', '之厚', '者', '，', '比于', '赤子', '。', '一', '...</td>\n",
       "      <td>['周四', '鸡蛋', '会', '跌', '停', '吗', '？']</td>\n",
       "      <td>['祝福', '慈', '文', '2020', '成为', '超级大', '牛', '股'...</td>\n",
       "      <td>['2020', '静待', '花', '开']</td>\n",
       "      <td>['祝', '曙光', '的', '朋友', '们', '新年', '快乐', '，20',...</td>\n",
       "      <td>['推土机', '式', '上', '升', '，', '这种', '走势', '是', '...</td>\n",
       "      <td>['新年', '钟声', '敲响', '之际', '，', '开', '新年', '第一',...</td>\n",
       "      <td>['回', '落后', '，', '见', '75', '元', '必', '买', '！']</td>\n",
       "      <td>['胜利', '][', '胜利', '][', '胜利', ']', '我', '只', ...</td>\n",
       "      <td>['百货', '都', '拿', '不', '下', '，', '名声', '就', '臭'...</td>\n",
       "      <td>...</td>\n",
       "      <td>['大', '了', ']', '真', '看', '的起', '我', '这', '一手'...</td>\n",
       "      <td>['多', '起来']</td>\n",
       "      <td>['5702', '收盘']</td>\n",
       "      <td>['。', '国家', '出', '手', '了', '，', '明天', '大家', '就...</td>\n",
       "      <td>['最后', '一下', '了', '，', '做', '多', '的', '准备', '梭...</td>\n",
       "      <td>['说明', '价值', '投资', '才', '是', '上班族', '正确', '的',...</td>\n",
       "      <td>['买', '一手', '多', '，', '涨', '一个', '点', '，', '能'...</td>\n",
       "      <td>['哎', '，', '割肉', '了', '，', '不', '碰', '它', '了']</td>\n",
       "      <td>['七', '位', '副', '总裁', '突击', '成', '股东', '来源', '...</td>\n",
       "      <td>['是', '主力', '吗', '？', '越是', '慢', '涨越', '不跌', '...</td>\n",
       "    </tr>\n",
       "    <tr>\n",
       "      <th>emoji</th>\n",
       "      <td>[]</td>\n",
       "      <td>[]</td>\n",
       "      <td>[]</td>\n",
       "      <td>[]</td>\n",
       "      <td>[]</td>\n",
       "      <td>[]</td>\n",
       "      <td>[]</td>\n",
       "      <td>[]</td>\n",
       "      <td>['胜利', '胜利']</td>\n",
       "      <td>[]</td>\n",
       "      <td>...</td>\n",
       "      <td>[]</td>\n",
       "      <td>[]</td>\n",
       "      <td>[]</td>\n",
       "      <td>[]</td>\n",
       "      <td>[]</td>\n",
       "      <td>[]</td>\n",
       "      <td>[]</td>\n",
       "      <td>[]</td>\n",
       "      <td>[]</td>\n",
       "      <td>[]</td>\n",
       "    </tr>\n",
       "  </tbody>\n",
       "</table>\n",
       "<p>2 rows × 642703 columns</p>\n",
       "</div>"
      ]
     },
     "metadata": {},
     "execution_count": 10
    }
   ],
   "metadata": {}
  },
  {
   "cell_type": "code",
   "execution_count": 11,
   "source": [
    "dic1 = df1.to_dict()"
   ],
   "outputs": [],
   "metadata": {}
  },
  {
   "cell_type": "code",
   "execution_count": 12,
   "source": [
    "with open(\"/home/afan/emotion_analysis/data/processed_data/post_partition_dict.p\", \"wb\") as fp:   #Pickling\n",
    "    pickle.dump(dic1, fp, protocol = pickle.HIGHEST_PROTOCOL)  "
   ],
   "outputs": [],
   "metadata": {}
  },
  {
   "cell_type": "code",
   "execution_count": 28,
   "source": [
    "POST_PARTITION_PATH = '/home/afan/emotion_analysis/data/processed_data/post_partition_dict.p'\n",
    "with open(POST_PARTITION_PATH, 'rb') as f:\n",
    "    # {index: {'word':, 'emoji':}}\n",
    "    post_partition_dict = pickle.load(f)\n"
   ],
   "outputs": [
    {
     "output_type": "error",
     "ename": "EOFError",
     "evalue": "Ran out of input",
     "traceback": [
      "\u001b[0;31m---------------------------------------------------------------------------\u001b[0m",
      "\u001b[0;31mEOFError\u001b[0m                                  Traceback (most recent call last)",
      "\u001b[0;32m<ipython-input-28-72175987fc77>\u001b[0m in \u001b[0;36m<module>\u001b[0;34m\u001b[0m\n\u001b[1;32m      2\u001b[0m \u001b[0;32mwith\u001b[0m \u001b[0mopen\u001b[0m\u001b[0;34m(\u001b[0m\u001b[0mPOST_PARTITION_PATH\u001b[0m\u001b[0;34m,\u001b[0m \u001b[0;34m'rb'\u001b[0m\u001b[0;34m)\u001b[0m \u001b[0;32mas\u001b[0m \u001b[0mf\u001b[0m\u001b[0;34m:\u001b[0m\u001b[0;34m\u001b[0m\u001b[0;34m\u001b[0m\u001b[0m\n\u001b[1;32m      3\u001b[0m     \u001b[0;31m# {index: {'word':, 'emoji':}}\u001b[0m\u001b[0;34m\u001b[0m\u001b[0;34m\u001b[0m\u001b[0;34m\u001b[0m\u001b[0m\n\u001b[0;32m----> 4\u001b[0;31m     \u001b[0mpost_partition_dict\u001b[0m \u001b[0;34m=\u001b[0m \u001b[0mpickle\u001b[0m\u001b[0;34m.\u001b[0m\u001b[0mload\u001b[0m\u001b[0;34m(\u001b[0m\u001b[0mf\u001b[0m\u001b[0;34m)\u001b[0m\u001b[0;34m\u001b[0m\u001b[0;34m\u001b[0m\u001b[0m\n\u001b[0m",
      "\u001b[0;31mEOFError\u001b[0m: Ran out of input"
     ]
    }
   ],
   "metadata": {}
  },
  {
   "cell_type": "code",
   "execution_count": 27,
   "source": [
    "with open(\"/home/afan/emotion_analysis/data/processed_data/post_partition_dict.p\", \"rb\") as fp:   #Pickling\n",
    "    mydic=pickle.load(fp)  "
   ],
   "outputs": [
    {
     "output_type": "error",
     "ename": "EOFError",
     "evalue": "Ran out of input",
     "traceback": [
      "\u001b[0;31m---------------------------------------------------------------------------\u001b[0m",
      "\u001b[0;31mEOFError\u001b[0m                                  Traceback (most recent call last)",
      "\u001b[0;32m<ipython-input-27-99214a14d1b8>\u001b[0m in \u001b[0;36m<module>\u001b[0;34m\u001b[0m\n\u001b[1;32m      1\u001b[0m \u001b[0;32mwith\u001b[0m \u001b[0mopen\u001b[0m\u001b[0;34m(\u001b[0m\u001b[0;34m\"/home/afan/emotion_analysis/data/processed_data/post_partition_dict.p\"\u001b[0m\u001b[0;34m,\u001b[0m \u001b[0;34m\"rb\"\u001b[0m\u001b[0;34m)\u001b[0m \u001b[0;32mas\u001b[0m \u001b[0mfp\u001b[0m\u001b[0;34m:\u001b[0m   \u001b[0;31m#Pickling\u001b[0m\u001b[0;34m\u001b[0m\u001b[0;34m\u001b[0m\u001b[0m\n\u001b[0;32m----> 2\u001b[0;31m     \u001b[0mmydic\u001b[0m\u001b[0;34m=\u001b[0m\u001b[0mpickle\u001b[0m\u001b[0;34m.\u001b[0m\u001b[0mload\u001b[0m\u001b[0;34m(\u001b[0m\u001b[0mfp\u001b[0m\u001b[0;34m)\u001b[0m\u001b[0;34m\u001b[0m\u001b[0;34m\u001b[0m\u001b[0m\n\u001b[0m",
      "\u001b[0;31mEOFError\u001b[0m: Ran out of input"
     ]
    }
   ],
   "metadata": {}
  },
  {
   "cell_type": "code",
   "execution_count": 89,
   "source": [
    "mydic[post_df.loc[post_df['']==i].index[0]]['words']"
   ],
   "outputs": [
    {
     "output_type": "error",
     "ename": "NameError",
     "evalue": "name 'post_df' is not defined",
     "traceback": [
      "\u001b[0;31m---------------------------------------------------------------------------\u001b[0m",
      "\u001b[0;31mNameError\u001b[0m                                 Traceback (most recent call last)",
      "\u001b[0;32m<ipython-input-89-88b81c455fe4>\u001b[0m in \u001b[0;36m<module>\u001b[0;34m\u001b[0m\n\u001b[0;32m----> 1\u001b[0;31m \u001b[0mmydic\u001b[0m\u001b[0;34m[\u001b[0m\u001b[0mpost_df\u001b[0m\u001b[0;34m.\u001b[0m\u001b[0mloc\u001b[0m\u001b[0;34m[\u001b[0m\u001b[0mpost_df\u001b[0m\u001b[0;34m[\u001b[0m\u001b[0;34m''\u001b[0m\u001b[0;34m]\u001b[0m\u001b[0;34m==\u001b[0m\u001b[0mi\u001b[0m\u001b[0;34m]\u001b[0m\u001b[0;34m.\u001b[0m\u001b[0mindex\u001b[0m\u001b[0;34m[\u001b[0m\u001b[0;36m0\u001b[0m\u001b[0;34m]\u001b[0m\u001b[0;34m]\u001b[0m\u001b[0;34m[\u001b[0m\u001b[0;34m'words'\u001b[0m\u001b[0;34m]\u001b[0m\u001b[0;34m\u001b[0m\u001b[0;34m\u001b[0m\u001b[0m\n\u001b[0m",
      "\u001b[0;31mNameError\u001b[0m: name 'post_df' is not defined"
     ]
    }
   ],
   "metadata": {}
  },
  {
   "cell_type": "code",
   "execution_count": 29,
   "source": [
    "f = open('/home/afan/emotion_analysis/data/processed_data/comment_date.p', 'rb')\n",
    "# 使用load方法将数据从pkl文件中读取出来\n",
    "c = pickle.load(f)\n",
    "f.close()"
   ],
   "outputs": [],
   "metadata": {}
  },
  {
   "cell_type": "code",
   "execution_count": 31,
   "source": [
    "c"
   ],
   "outputs": [
    {
     "output_type": "execute_result",
     "data": {
      "text/plain": [
       "                                                    words emoji\n",
       "index                                                          \n",
       "0       [含德, 之厚, 者, ，, 比于, 赤子, 。, 一, 年, 时光, 一, 晃, 就, 过...    []\n",
       "1                                 [周四, 鸡蛋, 会, 跌, 停, 吗, ？]    []\n",
       "2       [祝福, 慈, 文, 2020, 成为, 超级大, 牛, 股, ！, 东霞, 与骏, 马齐飞...    []\n",
       "3                                        [2020, 静待, 花, 开]    []\n",
       "4       [祝, 曙光, 的, 朋友, 们, 新年, 快乐, ，20, 年, 身体, 健康, 投资, 顺利]    []\n",
       "...                                                   ...   ...\n",
       "652792  ['说明', '价值', '投资', '才', '是', '上班族', '正确', '的',...    []\n",
       "652793  ['买', '一手', '多', '，', '涨', '一个', '点', '，', '能'...    []\n",
       "652794     ['哎', '，', '割肉', '了', '，', '不', '碰', '它', '了']    []\n",
       "652795  ['七', '位', '副', '总裁', '突击', '成', '股东', '来源', '...    []\n",
       "652796  ['是', '主力', '吗', '？', '越是', '慢', '涨越', '不跌', '...    []\n",
       "\n",
       "[642703 rows x 2 columns]"
      ],
      "text/html": [
       "<div>\n",
       "<style scoped>\n",
       "    .dataframe tbody tr th:only-of-type {\n",
       "        vertical-align: middle;\n",
       "    }\n",
       "\n",
       "    .dataframe tbody tr th {\n",
       "        vertical-align: top;\n",
       "    }\n",
       "\n",
       "    .dataframe thead th {\n",
       "        text-align: right;\n",
       "    }\n",
       "</style>\n",
       "<table border=\"1\" class=\"dataframe\">\n",
       "  <thead>\n",
       "    <tr style=\"text-align: right;\">\n",
       "      <th></th>\n",
       "      <th>words</th>\n",
       "      <th>emoji</th>\n",
       "    </tr>\n",
       "    <tr>\n",
       "      <th>index</th>\n",
       "      <th></th>\n",
       "      <th></th>\n",
       "    </tr>\n",
       "  </thead>\n",
       "  <tbody>\n",
       "    <tr>\n",
       "      <th>0</th>\n",
       "      <td>[含德, 之厚, 者, ，, 比于, 赤子, 。, 一, 年, 时光, 一, 晃, 就, 过...</td>\n",
       "      <td>[]</td>\n",
       "    </tr>\n",
       "    <tr>\n",
       "      <th>1</th>\n",
       "      <td>[周四, 鸡蛋, 会, 跌, 停, 吗, ？]</td>\n",
       "      <td>[]</td>\n",
       "    </tr>\n",
       "    <tr>\n",
       "      <th>2</th>\n",
       "      <td>[祝福, 慈, 文, 2020, 成为, 超级大, 牛, 股, ！, 东霞, 与骏, 马齐飞...</td>\n",
       "      <td>[]</td>\n",
       "    </tr>\n",
       "    <tr>\n",
       "      <th>3</th>\n",
       "      <td>[2020, 静待, 花, 开]</td>\n",
       "      <td>[]</td>\n",
       "    </tr>\n",
       "    <tr>\n",
       "      <th>4</th>\n",
       "      <td>[祝, 曙光, 的, 朋友, 们, 新年, 快乐, ，20, 年, 身体, 健康, 投资, 顺利]</td>\n",
       "      <td>[]</td>\n",
       "    </tr>\n",
       "    <tr>\n",
       "      <th>...</th>\n",
       "      <td>...</td>\n",
       "      <td>...</td>\n",
       "    </tr>\n",
       "    <tr>\n",
       "      <th>652792</th>\n",
       "      <td>['说明', '价值', '投资', '才', '是', '上班族', '正确', '的',...</td>\n",
       "      <td>[]</td>\n",
       "    </tr>\n",
       "    <tr>\n",
       "      <th>652793</th>\n",
       "      <td>['买', '一手', '多', '，', '涨', '一个', '点', '，', '能'...</td>\n",
       "      <td>[]</td>\n",
       "    </tr>\n",
       "    <tr>\n",
       "      <th>652794</th>\n",
       "      <td>['哎', '，', '割肉', '了', '，', '不', '碰', '它', '了']</td>\n",
       "      <td>[]</td>\n",
       "    </tr>\n",
       "    <tr>\n",
       "      <th>652795</th>\n",
       "      <td>['七', '位', '副', '总裁', '突击', '成', '股东', '来源', '...</td>\n",
       "      <td>[]</td>\n",
       "    </tr>\n",
       "    <tr>\n",
       "      <th>652796</th>\n",
       "      <td>['是', '主力', '吗', '？', '越是', '慢', '涨越', '不跌', '...</td>\n",
       "      <td>[]</td>\n",
       "    </tr>\n",
       "  </tbody>\n",
       "</table>\n",
       "<p>642703 rows × 2 columns</p>\n",
       "</div>"
      ]
     },
     "metadata": {},
     "execution_count": 31
    }
   ],
   "metadata": {}
  },
  {
   "cell_type": "code",
   "execution_count": null,
   "source": [],
   "outputs": [],
   "metadata": {}
  },
  {
   "cell_type": "code",
   "execution_count": 32,
   "source": [
    "f = open('/home/afan/emotion_analysis/data/concat.p', 'rb')\n",
    "# 使用load方法将数据从pkl文件中读取出来\n",
    "c = pickle.load(f)\n",
    "f.close()"
   ],
   "outputs": [],
   "metadata": {}
  },
  {
   "cell_type": "code",
   "execution_count": 30,
   "source": [
    "df1 = pd.DataFrame.from_dict(c)\n",
    "df1"
   ],
   "outputs": [
    {
     "output_type": "execute_result",
     "data": {
      "text/plain": [
       "                                                    words emoji\n",
       "index                                                          \n",
       "0       [含德, 之厚, 者, ，, 比于, 赤子, 。, 一, 年, 时光, 一, 晃, 就, 过...    []\n",
       "1                                 [周四, 鸡蛋, 会, 跌, 停, 吗, ？]    []\n",
       "2       [祝福, 慈, 文, 2020, 成为, 超级大, 牛, 股, ！, 东霞, 与骏, 马齐飞...    []\n",
       "3                                        [2020, 静待, 花, 开]    []\n",
       "4       [祝, 曙光, 的, 朋友, 们, 新年, 快乐, ，20, 年, 身体, 健康, 投资, 顺利]    []\n",
       "...                                                   ...   ...\n",
       "652792  ['说明', '价值', '投资', '才', '是', '上班族', '正确', '的',...    []\n",
       "652793  ['买', '一手', '多', '，', '涨', '一个', '点', '，', '能'...    []\n",
       "652794     ['哎', '，', '割肉', '了', '，', '不', '碰', '它', '了']    []\n",
       "652795  ['七', '位', '副', '总裁', '突击', '成', '股东', '来源', '...    []\n",
       "652796  ['是', '主力', '吗', '？', '越是', '慢', '涨越', '不跌', '...    []\n",
       "\n",
       "[642703 rows x 2 columns]"
      ],
      "text/html": [
       "<div>\n",
       "<style scoped>\n",
       "    .dataframe tbody tr th:only-of-type {\n",
       "        vertical-align: middle;\n",
       "    }\n",
       "\n",
       "    .dataframe tbody tr th {\n",
       "        vertical-align: top;\n",
       "    }\n",
       "\n",
       "    .dataframe thead th {\n",
       "        text-align: right;\n",
       "    }\n",
       "</style>\n",
       "<table border=\"1\" class=\"dataframe\">\n",
       "  <thead>\n",
       "    <tr style=\"text-align: right;\">\n",
       "      <th></th>\n",
       "      <th>words</th>\n",
       "      <th>emoji</th>\n",
       "    </tr>\n",
       "    <tr>\n",
       "      <th>index</th>\n",
       "      <th></th>\n",
       "      <th></th>\n",
       "    </tr>\n",
       "  </thead>\n",
       "  <tbody>\n",
       "    <tr>\n",
       "      <th>0</th>\n",
       "      <td>[含德, 之厚, 者, ，, 比于, 赤子, 。, 一, 年, 时光, 一, 晃, 就, 过...</td>\n",
       "      <td>[]</td>\n",
       "    </tr>\n",
       "    <tr>\n",
       "      <th>1</th>\n",
       "      <td>[周四, 鸡蛋, 会, 跌, 停, 吗, ？]</td>\n",
       "      <td>[]</td>\n",
       "    </tr>\n",
       "    <tr>\n",
       "      <th>2</th>\n",
       "      <td>[祝福, 慈, 文, 2020, 成为, 超级大, 牛, 股, ！, 东霞, 与骏, 马齐飞...</td>\n",
       "      <td>[]</td>\n",
       "    </tr>\n",
       "    <tr>\n",
       "      <th>3</th>\n",
       "      <td>[2020, 静待, 花, 开]</td>\n",
       "      <td>[]</td>\n",
       "    </tr>\n",
       "    <tr>\n",
       "      <th>4</th>\n",
       "      <td>[祝, 曙光, 的, 朋友, 们, 新年, 快乐, ，20, 年, 身体, 健康, 投资, 顺利]</td>\n",
       "      <td>[]</td>\n",
       "    </tr>\n",
       "    <tr>\n",
       "      <th>...</th>\n",
       "      <td>...</td>\n",
       "      <td>...</td>\n",
       "    </tr>\n",
       "    <tr>\n",
       "      <th>652792</th>\n",
       "      <td>['说明', '价值', '投资', '才', '是', '上班族', '正确', '的',...</td>\n",
       "      <td>[]</td>\n",
       "    </tr>\n",
       "    <tr>\n",
       "      <th>652793</th>\n",
       "      <td>['买', '一手', '多', '，', '涨', '一个', '点', '，', '能'...</td>\n",
       "      <td>[]</td>\n",
       "    </tr>\n",
       "    <tr>\n",
       "      <th>652794</th>\n",
       "      <td>['哎', '，', '割肉', '了', '，', '不', '碰', '它', '了']</td>\n",
       "      <td>[]</td>\n",
       "    </tr>\n",
       "    <tr>\n",
       "      <th>652795</th>\n",
       "      <td>['七', '位', '副', '总裁', '突击', '成', '股东', '来源', '...</td>\n",
       "      <td>[]</td>\n",
       "    </tr>\n",
       "    <tr>\n",
       "      <th>652796</th>\n",
       "      <td>['是', '主力', '吗', '？', '越是', '慢', '涨越', '不跌', '...</td>\n",
       "      <td>[]</td>\n",
       "    </tr>\n",
       "  </tbody>\n",
       "</table>\n",
       "<p>642703 rows × 2 columns</p>\n",
       "</div>"
      ]
     },
     "metadata": {},
     "execution_count": 30
    }
   ],
   "metadata": {}
  }
 ],
 "metadata": {
  "interpreter": {
   "hash": "3b3acc92ca811c90ab3dd5c3a56e9875efdbe1e25f625c45ea5bc479674ec5a6"
  },
  "kernelspec": {
   "name": "python3",
   "display_name": "Python 3.8.8 64-bit ('base': conda)"
  },
  "language_info": {
   "codemirror_mode": {
    "name": "ipython",
    "version": 3
   },
   "file_extension": ".py",
   "mimetype": "text/x-python",
   "name": "python",
   "nbconvert_exporter": "python",
   "pygments_lexer": "ipython3",
   "version": "3.8.8"
  },
  "orig_nbformat": 4
 },
 "nbformat": 4,
 "nbformat_minor": 2
}